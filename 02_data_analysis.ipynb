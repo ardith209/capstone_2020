{
  "nbformat": 4,
  "nbformat_minor": 0,
  "metadata": {
    "colab": {
      "name": "Untitled7.ipynb",
      "provenance": [],
      "collapsed_sections": []
    },
    "kernelspec": {
      "name": "python3",
      "display_name": "Python 3"
    }
  },
  "cells": [
    {
      "cell_type": "code",
      "metadata": {
        "id": "Pg9TSCuxsGpa",
        "colab_type": "code",
        "colab": {
          "base_uri": "https://localhost:8080/",
          "height": 68
        },
        "outputId": "ad5619db-f1d9-47cc-d5d4-891c596bbed7"
      },
      "source": [
        "import numpy as np \n",
        "import pandas as pd\n",
        "import tensorflow as tf\n",
        "from nltk.corpus import stopwords           #for using stopwords\n",
        "from nltk.stem.porter import PorterStemmer  # for stemming\n",
        "import nltk\n",
        "nltk.download('stopwords')"
      ],
      "execution_count": null,
      "outputs": [
        {
          "output_type": "stream",
          "text": [
            "[nltk_data] Downloading package stopwords to /root/nltk_data...\n",
            "[nltk_data]   Package stopwords is already up-to-date!\n"
          ],
          "name": "stdout"
        },
        {
          "output_type": "execute_result",
          "data": {
            "text/plain": [
              "True"
            ]
          },
          "metadata": {
            "tags": []
          },
          "execution_count": 73
        }
      ]
    },
    {
      "cell_type": "code",
      "metadata": {
        "id": "KUwrRZCDsMnd",
        "colab_type": "code",
        "colab": {}
      },
      "source": [
        "import os\n",
        "os.chdir('/content/drive/My Drive')\n",
        "t=pd.read_csv('True.csv')\n",
        "f=pd.read_csv('Fake.csv')"
      ],
      "execution_count": null,
      "outputs": []
    },
    {
      "cell_type": "code",
      "metadata": {
        "id": "aoman-2ksSCL",
        "colab_type": "code",
        "colab": {}
      },
      "source": [
        "t['category'] = 1\n",
        "f['category'] = 0\n",
        "\n",
        "df = pd.concat([t,f])"
      ],
      "execution_count": null,
      "outputs": []
    },
    {
      "cell_type": "code",
      "metadata": {
        "id": "yl1HThNqeTGq",
        "colab_type": "code",
        "colab": {}
      },
      "source": [
        "#sort by date and apply a rolling window of classification\n",
        "d2=df.sort_values(by='date')\n",
        "d2['S_10'] = d2['category'].rolling(window=10).mean()\n"
      ],
      "execution_count": null,
      "outputs": []
    },
    {
      "cell_type": "code",
      "metadata": {
        "id": "rWRTsdtWhrLZ",
        "colab_type": "code",
        "colab": {}
      },
      "source": [
        "#predict classification on average if >=0.5 then true else false\n",
        "d2['p'] = np.where(d2['S_10']>0.5, 1, 0)\n",
        "d2['match'] = np.where(d2['category']==d2['p'],1,0)\n"
      ],
      "execution_count": null,
      "outputs": []
    },
    {
      "cell_type": "code",
      "metadata": {
        "id": "Xa2ijjHZPuAM",
        "colab_type": "code",
        "colab": {}
      },
      "source": [
        "#convert match to category\n",
        "d2['m'] = np.where(d2['match']==1, 'Match', 'No Match')"
      ],
      "execution_count": null,
      "outputs": []
    },
    {
      "cell_type": "code",
      "metadata": {
        "id": "EDGON6cBu5Gp",
        "colab_type": "code",
        "colab": {
          "base_uri": "https://localhost:8080/",
          "height": 332
        },
        "outputId": "7a81a2ef-5028-4169-b313-f3b54f5b9844"
      },
      "source": [
        "\n",
        "import matplotlib.pyplot as plt\n",
        "plt.hist(d2['m'])"
      ],
      "execution_count": null,
      "outputs": [
        {
          "output_type": "execute_result",
          "data": {
            "text/plain": [
              "(array([39414.,     0.,     0.,     0.,     0.,     0.,     0.,     0.,\n",
              "            0.,  5484.]),\n",
              " array([0. , 0.1, 0.2, 0.3, 0.4, 0.5, 0.6, 0.7, 0.8, 0.9, 1. ]),\n",
              " <a list of 10 Patch objects>)"
            ]
          },
          "metadata": {
            "tags": []
          },
          "execution_count": 79
        },
        {
          "output_type": "display_data",
          "data": {
            "image/png": "[encoded data removed]",
            "text/plain": [
              "<Figure size 432x288 with 1 Axes>"
            ]
          },
          "metadata": {
            "tags": [],
            "needs_background": "light"
          }
        }
      ]
    },
    {
      "cell_type": "code",
      "metadata": {
        "id": "gDuVTjgqMpqV",
        "colab_type": "code",
        "colab": {}
      },
      "source": [
        "import regex as re\n",
        "\n",
        "import nltk\n",
        "from nltk.corpus import stopwords\n",
        "\n",
        "cached_stopwords = stopwords.words('english')\n",
        "porter = PorterStemmer()"
      ],
      "execution_count": null,
      "outputs": []
    },
    {
      "cell_type": "code",
      "metadata": {
        "id": "8HCQBOnPMlNN",
        "colab_type": "code",
        "colab": {}
      },
      "source": [
        "\n",
        "def replace_spec(text):\n",
        "    regex = r'[^a-zA-z0-9/s]'\n",
        "    text = re.sub(regex, ' ', text)\n",
        "    return text\n",
        "\n",
        "def process_title(title):\n",
        "  \n",
        "    title = title.lower()\n",
        "    title = replace_spec(title)\n",
        "    title=re.sub(\"donald trump\",\"trump \",title)    \n",
        "  \n",
        "    title_list = str.split(title)\n",
        "    \n",
        "    final_title =[]\n",
        "\n",
        "    for item in title_list:\n",
        "        if item not in cached_stopwords:\n",
        "            final_title.append(item)\n",
        "    \n",
        "    return \" \".join(final_title)"
      ],
      "execution_count": null,
      "outputs": []
    },
    {
      "cell_type": "code",
      "metadata": {
        "id": "2QCL66FZQs7C",
        "colab_type": "code",
        "colab": {}
      },
      "source": [
        ""
      ],
      "execution_count": null,
      "outputs": []
    },
    {
      "cell_type": "code",
      "metadata": {
        "id": "GXdWJT-jMviK",
        "colab_type": "code",
        "colab": {}
      },
      "source": [
        "df['text_final'] = df.text.apply(process_title)"
      ],
      "execution_count": null,
      "outputs": []
    },
    {
      "cell_type": "code",
      "metadata": {
        "id": "eQY_IDmLNcDD",
        "colab_type": "code",
        "colab": {}
      },
      "source": [
        "import time\n",
        "import numpy as np\n",
        "\n",
        "from sklearn.model_selection import train_test_split\n",
        "from sklearn.model_selection import cross_val_score\n",
        "from sklearn.feature_extraction.text import TfidfVectorizer\n",
        "from sklearn.naive_bayes import MultinomialNB\n",
        "from sklearn.metrics import classification_report"
      ],
      "execution_count": null,
      "outputs": []
    },
    {
      "cell_type": "code",
      "metadata": {
        "id": "UFXRqRizkMTq",
        "colab_type": "code",
        "colab": {}
      },
      "source": [
        "from sklearn.feature_extraction.text import CountVectorizer"
      ],
      "execution_count": null,
      "outputs": []
    },
    {
      "cell_type": "code",
      "metadata": {
        "id": "c29mWVdb958a",
        "colab_type": "code",
        "colab": {}
      },
      "source": [
        "from nltk.tokenize import sent_tokenize, word_tokenize"
      ],
      "execution_count": null,
      "outputs": []
    },
    {
      "cell_type": "code",
      "metadata": {
        "id": "OP3LaAsI-nCw",
        "colab_type": "code",
        "colab": {
          "base_uri": "https://localhost:8080/",
          "height": 68
        },
        "outputId": "3361f529-abac-4045-ad99-8d846df1c0a1"
      },
      "source": [
        "nltk.download('punkt')"
      ],
      "execution_count": null,
      "outputs": [
        {
          "output_type": "stream",
          "text": [
            "[nltk_data] Downloading package punkt to /root/nltk_data...\n",
            "[nltk_data]   Package punkt is already up-to-date!\n"
          ],
          "name": "stdout"
        },
        {
          "output_type": "execute_result",
          "data": {
            "text/plain": [
              "True"
            ]
          },
          "metadata": {
            "tags": []
          },
          "execution_count": 86
        }
      ]
    },
    {
      "cell_type": "code",
      "metadata": {
        "id": "NVxsd4Ph88JR",
        "colab_type": "code",
        "colab": {}
      },
      "source": [
        "def stemSentence(sentence):\n",
        "    token_words=word_tokenize(sentence)\n",
        "    \n",
        "    stem_sentence=[]\n",
        "    for word in token_words:\n",
        "        stem_sentence.append(porter.stem(word))\n",
        "        stem_sentence.append(\" \")\n",
        "    return \"\".join(stem_sentence)\n"
      ],
      "execution_count": null,
      "outputs": []
    },
    {
      "cell_type": "code",
      "metadata": {
        "id": "dG7E38Mi3ayU",
        "colab_type": "code",
        "colab": {}
      },
      "source": [
        "df['t'] = df.text_final.apply(stemSentence)\n"
      ],
      "execution_count": null,
      "outputs": []
    },
    {
      "cell_type": "markdown",
      "metadata": {
        "id": "IzDfBzYjNGOp",
        "colab_type": "text"
      },
      "source": [
        ""
      ]
    },
    {
      "cell_type": "code",
      "metadata": {
        "id": "1FZLQ8DwMQCf",
        "colab_type": "code",
        "colab": {}
      },
      "source": [
        "# create term list\n",
        "docs = df.t.tolist()"
      ],
      "execution_count": null,
      "outputs": []
    },
    {
      "cell_type": "code",
      "metadata": {
        "id": "xtM4_X16tBw9",
        "colab_type": "code",
        "colab": {}
      },
      "source": [
        "from sklearn.feature_extraction.text import CountVectorizer, TfidfVectorizer\n",
        "vectorizer = CountVectorizer()\n",
        "cv = TfidfVectorizer(docs, use_idf=True)\n",
        "count_vector=cv.fit_transform(docs)"
      ],
      "execution_count": null,
      "outputs": []
    },
    {
      "cell_type": "code",
      "metadata": {
        "id": "W1Orlj2D6ry_",
        "colab_type": "code",
        "colab": {}
      },
      "source": [
        "from sklearn.model_selection import train_test_split\n",
        "from sklearn.model_selection import cross_val_score\n",
        "from sklearn.naive_bayes import MultinomialNB\n",
        "from sklearn.metrics import classification_report"
      ],
      "execution_count": null,
      "outputs": []
    },
    {
      "cell_type": "code",
      "metadata": {
        "id": "r4pWHEQR2CLM",
        "colab_type": "code",
        "colab": {}
      },
      "source": [
        "import matplotlib.pyplot as plt\n",
        "import seaborn as sns\n",
        "import scipy as sp\n",
        "import numpy as np\n",
        "import math as math"
      ],
      "execution_count": null,
      "outputs": []
    },
    {
      "cell_type": "code",
      "metadata": {
        "id": "xUhPSjFAZ_z3",
        "colab_type": "code",
        "colab": {}
      },
      "source": [
        ""
      ],
      "execution_count": null,
      "outputs": []
    },
    {
      "cell_type": "code",
      "metadata": {
        "colab_type": "code",
        "id": "xfplOkE0HPfR",
        "colab": {
          "base_uri": "https://localhost:8080/",
          "height": 34
        },
        "outputId": "74e315a7-c6ec-4c63-c2eb-8db29f88ccfc"
      },
      "source": [
        "# create term frequency vector with IDF with min document frequency=3\n",
        "from sklearn.feature_extraction.text import CountVectorizer, TfidfVectorizer\n",
        "vectorizer = TfidfVectorizer(strip_accents='unicode',min_df=3)\n",
        "\n",
        "time_start = time.time()\n",
        "vectorizer.fit(docs)\n",
        "time_end = time.time()\n",
        "\n",
        "\n",
        "print(f\"vectorizer fit in {(time_end-time_start)/60} mins\")"
      ],
      "execution_count": null,
      "outputs": [
        {
          "output_type": "stream",
          "text": [
            "vectorizer fit in 0.13756959438323973 mins\n"
          ],
          "name": "stdout"
        }
      ]
    },
    {
      "cell_type": "code",
      "metadata": {
        "id": "PZAkjZzv7CYz",
        "colab_type": "code",
        "colab": {}
      },
      "source": [
        "#split into 70 train and 30 test randomly\n",
        "x_train, x_test, y_train, y_test = train_test_split(df[['t']], df['category'], test_size=.3, random_state=42)"
      ],
      "execution_count": null,
      "outputs": []
    },
    {
      "cell_type": "code",
      "metadata": {
        "id": "yM3amKYx7XY9",
        "colab_type": "code",
        "colab": {}
      },
      "source": [
        "# get tfids using splits\n",
        "train_tfidf = vectorizer.transform(x_train.t.tolist())\n",
        "test_tfidf = vectorizer.transform(x_test.t.tolist())"
      ],
      "execution_count": null,
      "outputs": []
    },
    {
      "cell_type": "code",
      "metadata": {
        "id": "hNPx3ms6mRa-",
        "colab_type": "code",
        "colab": {
          "base_uri": "https://localhost:8080/",
          "height": 34
        },
        "outputId": "9386e141-637d-4432-dfa3-80189f00c922"
      },
      "source": [
        "#36K vocab with less than 3 documents\n",
        "train_tfidf.shape"
      ],
      "execution_count": null,
      "outputs": [
        {
          "output_type": "execute_result",
          "data": {
            "text/plain": [
              "(31428, 36631)"
            ]
          },
          "metadata": {
            "tags": []
          },
          "execution_count": 96
        }
      ]
    },
    {
      "cell_type": "code",
      "metadata": {
        "id": "I7OCrqqT8A04",
        "colab_type": "code",
        "colab": {
          "base_uri": "https://localhost:8080/",
          "height": 34
        },
        "outputId": "b60f9604-b160-462d-de3a-8276a4a98902"
      },
      "source": [
        "#multinomial naive bayes model\n",
        "mnb = MultinomialNB()\n",
        "\n",
        "\n",
        "mnb.fit(train_tfidf, y_train.values)"
      ],
      "execution_count": null,
      "outputs": [
        {
          "output_type": "execute_result",
          "data": {
            "text/plain": [
              "MultinomialNB(alpha=1.0, class_prior=None, fit_prior=True)"
            ]
          },
          "metadata": {
            "tags": []
          },
          "execution_count": 97
        }
      ]
    },
    {
      "cell_type": "code",
      "metadata": {
        "id": "MesxrzCr8Col",
        "colab_type": "code",
        "colab": {
          "base_uri": "https://localhost:8080/",
          "height": 460
        },
        "outputId": "593ff7c5-695b-41b9-f0db-38982dc47f72"
      },
      "source": [
        "# test mnb model on 70 30 split\n",
        "for k, v in {'TRAIN': [train_tfidf, y_train], 'TEST': [test_tfidf, y_test]}.items():\n",
        "    preds = mnb.predict(v[0])\n",
        "    \n",
        "    print(f\"{k} RESULTS\\n\\n{classification_report(v[1],preds)}\\n\\n\")\n",
        "    #print(classification_report(y_test, y_pred,target_names=my_tags))"
      ],
      "execution_count": null,
      "outputs": [
        {
          "output_type": "stream",
          "text": [
            "TRAIN RESULTS\n",
            "\n",
            "              precision    recall  f1-score   support\n",
            "\n",
            "           0       0.94      0.95      0.94     16485\n",
            "           1       0.94      0.93      0.94     14943\n",
            "\n",
            "    accuracy                           0.94     31428\n",
            "   macro avg       0.94      0.94      0.94     31428\n",
            "weighted avg       0.94      0.94      0.94     31428\n",
            "\n",
            "\n",
            "\n",
            "TEST RESULTS\n",
            "\n",
            "              precision    recall  f1-score   support\n",
            "\n",
            "           0       0.93      0.94      0.94      6996\n",
            "           1       0.93      0.93      0.93      6474\n",
            "\n",
            "    accuracy                           0.93     13470\n",
            "   macro avg       0.93      0.93      0.93     13470\n",
            "weighted avg       0.93      0.93      0.93     13470\n",
            "\n",
            "\n",
            "\n"
          ],
          "name": "stdout"
        }
      ]
    },
    {
      "cell_type": "code",
      "metadata": {
        "id": "Eh_spo9Sfi1a",
        "colab_type": "code",
        "colab": {
          "base_uri": "https://localhost:8080/",
          "height": 34
        },
        "outputId": "68bd2332-c126-418a-d347-1877e6ef84d9"
      },
      "source": [
        "#logistic regression \n",
        "from sklearn.linear_model import LogisticRegression\n",
        "\n",
        "scikit_log_reg = LogisticRegression(verbose=1, solver='liblinear',random_state=0, C=5, penalty='l2',max_iter=1000)\n",
        "model=scikit_log_reg.fit(train_tfidf, y_train.values)\n"
      ],
      "execution_count": null,
      "outputs": [
        {
          "output_type": "stream",
          "text": [
            "[LibLinear]"
          ],
          "name": "stdout"
        }
      ]
    },
    {
      "cell_type": "code",
      "metadata": {
        "id": "ephYEnv2k9UQ",
        "colab_type": "code",
        "colab": {}
      },
      "source": [
        "#select best features for logistic regression\n",
        "from sklearn.feature_selection import SelectFromModel\n",
        "m= SelectFromModel(model, prefit=True)\n",
        "X_new = m.transform(train_tfidf)\n",
        "X_2 = m.transform(test_tfidf)"
      ],
      "execution_count": null,
      "outputs": []
    },
    {
      "cell_type": "code",
      "metadata": {
        "id": "R7g1HZcmavqi",
        "colab_type": "code",
        "colab": {
          "base_uri": "https://localhost:8080/",
          "height": 34
        },
        "outputId": "2bd76aef-6cd0-4b21-f726-8e6838e44f32"
      },
      "source": [
        "#size of new model -36K to 9k features\n",
        "X_new.shape"
      ],
      "execution_count": null,
      "outputs": [
        {
          "output_type": "execute_result",
          "data": {
            "text/plain": [
              "(31428, 9080)"
            ]
          },
          "metadata": {
            "tags": []
          },
          "execution_count": 101
        }
      ]
    },
    {
      "cell_type": "code",
      "metadata": {
        "id": "9eat3xkvtevD",
        "colab_type": "code",
        "colab": {
          "base_uri": "https://localhost:8080/",
          "height": 34
        },
        "outputId": "9f7d15f6-a26c-4991-8e46-96853fc6f4ee"
      },
      "source": [
        "#model run on all features\n",
        "scikit_log_reg = LogisticRegression(verbose=1, solver='liblinear',random_state=0, C=5, penalty='l2',max_iter=1000)\n",
        "model=scikit_log_reg.fit(train_tfidf, y_train.values)"
      ],
      "execution_count": null,
      "outputs": [
        {
          "output_type": "stream",
          "text": [
            "[LibLinear]"
          ],
          "name": "stdout"
        }
      ]
    },
    {
      "cell_type": "code",
      "metadata": {
        "id": "9d-Cl-Ih5R2Y",
        "colab_type": "code",
        "colab": {
          "base_uri": "https://localhost:8080/",
          "height": 34
        },
        "outputId": "e030f4f8-df57-4520-ce03-3e692e33ee38"
      },
      "source": [
        "#model on selected features\n",
        "m_cl=scikit_log_reg.fit(X_new, y_train.values)"
      ],
      "execution_count": null,
      "outputs": [
        {
          "output_type": "stream",
          "text": [
            "[LibLinear]"
          ],
          "name": "stdout"
        }
      ]
    },
    {
      "cell_type": "code",
      "metadata": {
        "id": "rf7g44g8Nagn",
        "colab_type": "code",
        "colab": {}
      },
      "source": [
        "#find number of trees for random forest\n",
        "x=[20,30,40,50]\n",
        "from sklearn import metrics"
      ],
      "execution_count": null,
      "outputs": []
    },
    {
      "cell_type": "code",
      "metadata": {
        "id": "dbir6oSwLJ-A",
        "colab_type": "code",
        "colab": {}
      },
      "source": [
        "#run random forest with different number of features\n",
        "from sklearn.ensemble import RandomForestClassifier\n",
        "y=0\n",
        "for i in range(len(x)):\n",
        "     \n",
        "     clf=RandomForestClassifier(n_estimators=x[i])\n",
        "     clf.fit(train_tfidf, y_train.values)\n",
        "     p=clf.predict(test_tfidf)\n",
        "     x[y]=metrics.accuracy_score(y_test, p)\n",
        "     y=y+1"
      ],
      "execution_count": null,
      "outputs": []
    },
    {
      "cell_type": "code",
      "metadata": {
        "id": "X847BpCmRhmE",
        "colab_type": "code",
        "colab": {}
      },
      "source": [
        "#create data frame with number of trees and accuracy\n",
        "z=[20,30,40,50]\n",
        "op = {'Trees': z, 'Accuracy': x}\n",
        "op_2 = pd.DataFrame(op)\n"
      ],
      "execution_count": null,
      "outputs": []
    },
    {
      "cell_type": "code",
      "metadata": {
        "id": "VEslQ8RoQQ8S",
        "colab_type": "code",
        "colab": {
          "base_uri": "https://localhost:8080/",
          "height": 450
        },
        "outputId": "d81c72d3-04bc-4ee9-d95d-0c6e9fd14d90"
      },
      "source": [
        "#graph of accuracy vs trees\n",
        "import matplotlib.pyplot as plt\n",
        "import matplotlib.ticker as mtick\n",
        "ax=plt.plot(z,x)\n",
        "plt.xlabel('Number of Trees')\n",
        "plt.ylabel('Accuracy')\n",
        "plt.gca().set_yticklabels(['{:.2f}%'.format(x*100) for x in plt.gca().get_yticks()]) \n",
        "\n"
      ],
      "execution_count": null,
      "outputs": [
        {
          "output_type": "execute_result",
          "data": {
            "text/plain": [
              "[Text(0, 0, '98.50%'),\n",
              " Text(0, 0, '98.60%'),\n",
              " Text(0, 0, '98.70%'),\n",
              " Text(0, 0, '98.80%'),\n",
              " Text(0, 0, '98.90%'),\n",
              " Text(0, 0, '99.00%'),\n",
              " Text(0, 0, '99.10%'),\n",
              " Text(0, 0, '99.20%'),\n",
              " Text(0, 0, '99.30%'),\n",
              " Text(0, 0, '99.40%')]"
            ]
          },
          "metadata": {
            "tags": []
          },
          "execution_count": 107
        },
        {
          "output_type": "display_data",
          "data": {
            "image/png": "[encoded data removed]",
            "text/plain": [
              "<Figure size 432x288 with 1 Axes>"
            ]
          },
          "metadata": {
            "tags": [],
            "needs_background": "light"
          }
        }
      ]
    },
    {
      "cell_type": "code",
      "metadata": {
        "id": "mD0T8q7z-u6w",
        "colab_type": "code",
        "colab": {
          "base_uri": "https://localhost:8080/",
          "height": 153
        },
        "outputId": "009ee043-fc18-4980-db80-67fd9a8d9005"
      },
      "source": [
        "#random forest with 40 trees\n",
        "from sklearn.ensemble import RandomForestClassifier\n",
        "\n",
        "#Create a Gaussian Classifier\n",
        "clf=RandomForestClassifier(n_estimators=40)\n",
        "\n",
        "#Train the model using the training sets y_pred=clf.predict(X_test)\n",
        "clf.fit(train_tfidf, y_train.values)"
      ],
      "execution_count": null,
      "outputs": [
        {
          "output_type": "execute_result",
          "data": {
            "text/plain": [
              "RandomForestClassifier(bootstrap=True, ccp_alpha=0.0, class_weight=None,\n",
              "                       criterion='gini', max_depth=None, max_features='auto',\n",
              "                       max_leaf_nodes=None, max_samples=None,\n",
              "                       min_impurity_decrease=0.0, min_impurity_split=None,\n",
              "                       min_samples_leaf=1, min_samples_split=2,\n",
              "                       min_weight_fraction_leaf=0.0, n_estimators=40,\n",
              "                       n_jobs=None, oob_score=False, random_state=None,\n",
              "                       verbose=0, warm_start=False)"
            ]
          },
          "metadata": {
            "tags": []
          },
          "execution_count": 108
        }
      ]
    },
    {
      "cell_type": "code",
      "metadata": {
        "id": "Y9Yo1bv18qxC",
        "colab_type": "code",
        "colab": {
          "base_uri": "https://localhost:8080/",
          "height": 34
        },
        "outputId": "74711ca6-2274-4abe-cd39-52690b9fe0ba"
      },
      "source": [
        "#10 fold validation with each model\n",
        "p=cross_val_score(model,test_tfidf, y_test.values,cv=10)\n",
        "p\n",
        "n=cross_val_score(mnb,test_tfidf, y_test.values,cv=10)\n",
        "n\n",
        "r=cross_val_score(clf,test_tfidf, y_test.values,cv=10)\n",
        "q=cross_val_score(m_cl,test_tfidf, y_test.values,cv=10)"
      ],
      "execution_count": null,
      "outputs": [
        {
          "output_type": "stream",
          "text": [
            "[LibLinear][LibLinear][LibLinear][LibLinear][LibLinear][LibLinear][LibLinear][LibLinear][LibLinear][LibLinear][LibLinear][LibLinear][LibLinear][LibLinear][LibLinear][LibLinear][LibLinear][LibLinear][LibLinear][LibLinear]"
          ],
          "name": "stdout"
        }
      ]
    },
    {
      "cell_type": "code",
      "metadata": {
        "id": "WAXUBqNw-JLl",
        "colab_type": "code",
        "colab": {
          "base_uri": "https://localhost:8080/",
          "height": 34
        },
        "outputId": "99cc2a7e-e9f3-44b3-8a3a-97d992a779cf"
      },
      "source": [
        "#count vector\n",
        "from sklearn.feature_extraction.text import CountVectorizer, TfidfVectorizer\n",
        "vectorizer = CountVectorizer(strip_accents='unicode',min_df=3)\n",
        "\n",
        "time_start = time.time()\n",
        "vectorizer.fit(docs)\n",
        "time_end = time.time()\n",
        "\n",
        "\n",
        "print(f\"vectorizer fit in {(time_end-time_start)/60} mins\")"
      ],
      "execution_count": null,
      "outputs": [
        {
          "output_type": "stream",
          "text": [
            "vectorizer fit in 0.13284128109614055 mins\n"
          ],
          "name": "stdout"
        }
      ]
    },
    {
      "cell_type": "code",
      "metadata": {
        "id": "V0mnM3jE-WXI",
        "colab_type": "code",
        "colab": {}
      },
      "source": [
        "#get test and train sets with count vector\n",
        "train_cnt = vectorizer.transform(x_train.t.tolist())\n",
        "test_cnt = vectorizer.transform(x_test.t.tolist())"
      ],
      "execution_count": null,
      "outputs": []
    },
    {
      "cell_type": "code",
      "metadata": {
        "id": "0V-WqR83_lr5",
        "colab_type": "code",
        "colab": {}
      },
      "source": [
        ""
      ],
      "execution_count": null,
      "outputs": []
    },
    {
      "cell_type": "code",
      "metadata": {
        "id": "tEKfqz9ZiswO",
        "colab_type": "code",
        "colab": {
          "base_uri": "https://localhost:8080/",
          "height": 34
        },
        "outputId": "d0676168-d997-4398-daaf-207d53bfa434"
      },
      "source": [
        "#predictions for each model -logistic regression, naive bayes, random forest, and logistic regression clean data set\n",
        "model=scikit_log_reg.fit(train_tfidf, y_train.values)\n",
        "y_pred=model.predict(test_tfidf)\n",
        "nb=mnb.predict(test_tfidf)\n",
        "\n",
        "rf=clf.predict(test_tfidf)\n",
        "\n",
        "l2=m_cl.predict(test_tfidf)"
      ],
      "execution_count": null,
      "outputs": [
        {
          "output_type": "stream",
          "text": [
            "[LibLinear]"
          ],
          "name": "stdout"
        }
      ]
    },
    {
      "cell_type": "code",
      "metadata": {
        "id": "7CrSIKiNj_ww",
        "colab_type": "code",
        "colab": {}
      },
      "source": [
        "# confusiin matrix for each model\n",
        "from sklearn import metrics\n",
        "cnf_matrix_nb = metrics.confusion_matrix(y_test.values, nb)\n",
        "cnf_matrix_lr = metrics.confusion_matrix(y_test.values, y_pred)\n",
        "cnf_matrix_rf = metrics.confusion_matrix(y_test.values, rf)\n",
        "cnf_matrix_l2 = metrics.confusion_matrix(y_test.values, l2)"
      ],
      "execution_count": null,
      "outputs": []
    },
    {
      "cell_type": "code",
      "metadata": {
        "id": "ZVZTEBlkk8-s",
        "colab_type": "code",
        "colab": {
          "base_uri": "https://localhost:8080/",
          "height": 342
        },
        "outputId": "ee3c2e34-fee2-436d-f2e8-55ecfc8c835d"
      },
      "source": [
        "#heatmap of logistic regression\n",
        "import seaborn as sns\n",
        "import matplotlib.pyplot as plt\n",
        "class_names=[0,1] # name  of classes\n",
        "fig, ax = plt.subplots()\n",
        "tick_marks = np.arange(len(class_names))\n",
        "plt.xticks(tick_marks, class_names)\n",
        "plt.yticks(tick_marks, class_names)\n",
        "# create heatmap\n",
        "sns.heatmap(pd.DataFrame(cnf_matrix_lr), annot=True, cmap=\"YlGnBu\" ,fmt='g')\n",
        "ax.xaxis.set_label_position(\"top\")\n",
        "plt.tight_layout()\n",
        "plt.title('Confusion matrix Logistic Regression', y=1.1)\n",
        "plt.ylabel('Actual label')\n",
        "plt.xlabel('Predicted label')"
      ],
      "execution_count": null,
      "outputs": [
        {
          "output_type": "execute_result",
          "data": {
            "text/plain": [
              "Text(0.5, 257.44, 'Predicted label')"
            ]
          },
          "metadata": {
            "tags": []
          },
          "execution_count": 114
        },
        {
          "output_type": "display_data",
          "data": {
            "image/png": "[encoded data removed]",
            "text/plain": [
              "<Figure size 432x288 with 2 Axes>"
            ]
          },
          "metadata": {
            "tags": [],
            "needs_background": "light"
          }
        }
      ]
    },
    {
      "cell_type": "code",
      "metadata": {
        "id": "YqZ9OA0SDJYR",
        "colab_type": "code",
        "colab": {
          "base_uri": "https://localhost:8080/",
          "height": 342
        },
        "outputId": "7746275c-0a29-4d97-d5d9-1c0363cfbb03"
      },
      "source": [
        "#heatmap of logistic regression selected features\n",
        "import seaborn as sns\n",
        "import matplotlib.pyplot as plt\n",
        "class_names=[0,1] # name  of classes\n",
        "fig, ax = plt.subplots()\n",
        "tick_marks = np.arange(len(class_names))\n",
        "plt.xticks(tick_marks, class_names)\n",
        "plt.yticks(tick_marks, class_names)\n",
        "# create heatmap\n",
        "sns.heatmap(pd.DataFrame(cnf_matrix_l2), annot=True, cmap=\"YlGnBu\" ,fmt='g')\n",
        "ax.xaxis.set_label_position(\"top\")\n",
        "plt.tight_layout()\n",
        "plt.title('Confusion matrix Logistic Regression -Selected Features', y=1.1)\n",
        "plt.ylabel('Actual label')\n",
        "plt.xlabel('Predicted label')"
      ],
      "execution_count": null,
      "outputs": [
        {
          "output_type": "execute_result",
          "data": {
            "text/plain": [
              "Text(0.5, 257.44, 'Predicted label')"
            ]
          },
          "metadata": {
            "tags": []
          },
          "execution_count": 115
        },
        {
          "output_type": "display_data",
          "data": {
            "image/png": "[encoded data removed]",
            "text/plain": [
              "<Figure size 432x288 with 2 Axes>"
            ]
          },
          "metadata": {
            "tags": [],
            "needs_background": "light"
          }
        }
      ]
    },
    {
      "cell_type": "code",
      "metadata": {
        "colab_type": "code",
        "id": "qZfJ64j9OBBx",
        "colab": {
          "base_uri": "https://localhost:8080/",
          "height": 342
        },
        "outputId": "37f26ba0-8c6c-49c0-8db9-8b343d781466"
      },
      "source": [
        "#heatmap of nb\n",
        "import seaborn as sns\n",
        "import matplotlib.pyplot as plt\n",
        "class_names=[0,1] # name  of classes\n",
        "fig, ax = plt.subplots()\n",
        "tick_marks = np.arange(len(class_names))\n",
        "plt.xticks(tick_marks, class_names)\n",
        "plt.yticks(tick_marks, class_names)\n",
        "# create heatmap\n",
        "sns.heatmap(pd.DataFrame(cnf_matrix_nb), annot=True, cmap=\"YlGnBu\" ,fmt='g')\n",
        "ax.xaxis.set_label_position(\"top\")\n",
        "plt.tight_layout()\n",
        "plt.title('Confusion matrix Naive Bayes', y=1.1)\n",
        "plt.ylabel('Actual label')\n",
        "plt.xlabel('Predicted label')"
      ],
      "execution_count": null,
      "outputs": [
        {
          "output_type": "execute_result",
          "data": {
            "text/plain": [
              "Text(0.5, 257.44, 'Predicted label')"
            ]
          },
          "metadata": {
            "tags": []
          },
          "execution_count": 116
        },
        {
          "output_type": "display_data",
          "data": {
            "image/png": "[encoded data removed]",
            "text/plain": [
              "<Figure size 432x288 with 2 Axes>"
            ]
          },
          "metadata": {
            "tags": [],
            "needs_background": "light"
          }
        }
      ]
    },
    {
      "cell_type": "code",
      "metadata": {
        "colab_type": "code",
        "id": "PM48yhIFOOMp",
        "colab": {
          "base_uri": "https://localhost:8080/",
          "height": 342
        },
        "outputId": "740e389c-456b-4994-870f-4f018f68def7"
      },
      "source": [
        "#heatmap of random forest\n",
        "import seaborn as sns\n",
        "import matplotlib.pyplot as plt\n",
        "class_names=[0,1] # name  of classes\n",
        "fig, ax = plt.subplots()\n",
        "tick_marks = np.arange(len(class_names))\n",
        "plt.xticks(tick_marks, class_names)\n",
        "plt.yticks(tick_marks, class_names)\n",
        "# create heatmap\n",
        "sns.heatmap(pd.DataFrame(cnf_matrix_rf), annot=True, cmap=\"YlGnBu\" ,fmt='g')\n",
        "ax.xaxis.set_label_position(\"top\")\n",
        "plt.tight_layout()\n",
        "plt.title('Confusion matrix Random Forest', y=1.1)\n",
        "plt.ylabel('Actual label')\n",
        "plt.xlabel('Predicted label')"
      ],
      "execution_count": null,
      "outputs": [
        {
          "output_type": "execute_result",
          "data": {
            "text/plain": [
              "Text(0.5, 257.44, 'Predicted label')"
            ]
          },
          "metadata": {
            "tags": []
          },
          "execution_count": 117
        },
        {
          "output_type": "display_data",
          "data": {
            "image/png": "[encoded data removed]",
            "text/plain": [
              "<Figure size 432x288 with 2 Axes>"
            ]
          },
          "metadata": {
            "tags": [],
            "needs_background": "light"
          }
        }
      ]
    },
    {
      "cell_type": "code",
      "metadata": {
        "id": "vHIdWwLplvKP",
        "colab_type": "code",
        "colab": {
          "base_uri": "https://localhost:8080/",
          "height": 85
        },
        "outputId": "56cbab89-764d-4984-b9e9-1cb855efd954"
      },
      "source": [
        "#metrics of nb\n",
        "print(\"Accuracy: {:.2f}%\".format(metrics.accuracy_score(y_test, nb)*100))\n",
        "print(\"Precision: {:.2f}%\".format(metrics.precision_score(y_test, nb)*100))\n",
        "print(\"Recall: {:.2f}%\".format(metrics.recall_score(y_test, nb)*100))\n",
        "print(\"F Score: {:.2f}%\".format(metrics.f1_score(y_test, nb)*100))"
      ],
      "execution_count": null,
      "outputs": [
        {
          "output_type": "stream",
          "text": [
            "Accuracy: 93.32%\n",
            "Precision: 93.36%\n",
            "Recall: 92.69%\n",
            "F Score: 93.02%\n"
          ],
          "name": "stdout"
        }
      ]
    },
    {
      "cell_type": "code",
      "metadata": {
        "id": "DTiuQHlbP_pY",
        "colab_type": "code",
        "colab": {
          "base_uri": "https://localhost:8080/",
          "height": 85
        },
        "outputId": "fa2f952c-9791-4447-9fe0-077cd852ec3d"
      },
      "source": [
        "#metrics of logistic regression\n",
        "print(\"Accuracy: {:.2f}%\".format(metrics.accuracy_score(y_test, y_pred)*100))\n",
        "print(\"Precision: {:.2f}%\".format(metrics.precision_score(y_test, y_pred)*100))\n",
        "print(\"Recall: {:.2f}%\".format(metrics.recall_score(y_test, y_pred)*100))\n",
        "print(\"F Score: {:.2f}%\".format(metrics.f1_score(y_test, y_pred)*100))"
      ],
      "execution_count": null,
      "outputs": [
        {
          "output_type": "stream",
          "text": [
            "Accuracy: 99.21%\n",
            "Precision: 98.92%\n",
            "Recall: 99.44%\n",
            "F Score: 99.18%\n"
          ],
          "name": "stdout"
        }
      ]
    },
    {
      "cell_type": "code",
      "metadata": {
        "id": "f4JsVzXgQYPi",
        "colab_type": "code",
        "colab": {
          "base_uri": "https://localhost:8080/",
          "height": 85
        },
        "outputId": "c5bd01aa-9e24-4a69-a7f9-70122264c8ee"
      },
      "source": [
        "#metrics of random forest\n",
        "print(\"Accuracy: {:.2f}%\".format(metrics.accuracy_score(y_test, rf)*100))\n",
        "print(\"Precision: {:.2f}%\".format(metrics.precision_score(y_test, rf)*100))\n",
        "print(\"Recall: {:.2f}%\".format(metrics.recall_score(y_test, rf)*100))\n",
        "print(\"F Score: {:.2f}%\".format(metrics.f1_score(y_test, rf)*100))\n"
      ],
      "execution_count": null,
      "outputs": [
        {
          "output_type": "stream",
          "text": [
            "Accuracy: 99.12%\n",
            "Precision: 99.12%\n",
            "Recall: 99.04%\n",
            "F Score: 99.08%\n"
          ],
          "name": "stdout"
        }
      ]
    },
    {
      "cell_type": "code",
      "metadata": {
        "colab_type": "code",
        "id": "HszYxOJXPsW0",
        "colab": {
          "base_uri": "https://localhost:8080/",
          "height": 85
        },
        "outputId": "cc8d861e-2695-4749-e90f-0e2e52118331"
      },
      "source": [
        "#logistic regression selected features\n",
        "print(\"Accuracy: {:.2f}%\".format(metrics.accuracy_score(y_test, l2)*100))\n",
        "print(\"Precision: {:.2f}%\".format(metrics.precision_score(y_test, l2)*100))\n",
        "print(\"Recall: {:.2f}%\".format(metrics.recall_score(y_test, l2)*100))\n",
        "print(\"F Score: {:.2f}%\".format(metrics.f1_score(y_test, l2)*100))"
      ],
      "execution_count": null,
      "outputs": [
        {
          "output_type": "stream",
          "text": [
            "Accuracy: 99.21%\n",
            "Precision: 98.92%\n",
            "Recall: 99.44%\n",
            "F Score: 99.18%\n"
          ],
          "name": "stdout"
        }
      ]
    },
    {
      "cell_type": "code",
      "metadata": {
        "id": "wb5ISwEIml-H",
        "colab_type": "code",
        "colab": {}
      },
      "source": [
        "#data frame with 10 fold results of each model\n",
        "lr = {'text': \"LR\", 'Category': p}\n",
        "nb={'text': \"NB\", 'Category': n}\n",
        "rf={'text': \"RF\", 'Category': r}\n",
        "\n",
        "lr_test = pd.DataFrame(lr)\n",
        "nb_test = pd.DataFrame(nb)\n",
        "rf_test = pd.DataFrame(rf)\n",
        "\n",
        "d2=pd.concat([lr_test,nb_test,rf_test])"
      ],
      "execution_count": null,
      "outputs": []
    },
    {
      "cell_type": "code",
      "metadata": {
        "id": "107h8VuVO5AJ",
        "colab_type": "code",
        "colab": {
          "base_uri": "https://localhost:8080/",
          "height": 944
        },
        "outputId": "e6b9fd40-d786-47b8-ac76-7dc7f9abe90c"
      },
      "source": [
        "d2"
      ],
      "execution_count": null,
      "outputs": [
        {
          "output_type": "execute_result",
          "data": {
            "text/html": [
              "<div>\n",
              "<style scoped>\n",
              "    .dataframe tbody tr th:only-of-type {\n",
              "        vertical-align: middle;\n",
              "    }\n",
              "\n",
              "    .dataframe tbody tr th {\n",
              "        vertical-align: top;\n",
              "    }\n",
              "\n",
              "    .dataframe thead th {\n",
              "        text-align: right;\n",
              "    }\n",
              "</style>\n",
              "<table border=\"1\" class=\"dataframe\">\n",
              "  <thead>\n",
              "    <tr style=\"text-align: right;\">\n",
              "      <th></th>\n",
              "      <th>text</th>\n",
              "      <th>Category</th>\n",
              "    </tr>\n",
              "  </thead>\n",
              "  <tbody>\n",
              "    <tr>\n",
              "      <th>0</th>\n",
              "      <td>LR</td>\n",
              "      <td>0.983667</td>\n",
              "    </tr>\n",
              "    <tr>\n",
              "      <th>1</th>\n",
              "      <td>LR</td>\n",
              "      <td>0.981440</td>\n",
              "    </tr>\n",
              "    <tr>\n",
              "      <th>2</th>\n",
              "      <td>LR</td>\n",
              "      <td>0.986637</td>\n",
              "    </tr>\n",
              "    <tr>\n",
              "      <th>3</th>\n",
              "      <td>LR</td>\n",
              "      <td>0.990349</td>\n",
              "    </tr>\n",
              "    <tr>\n",
              "      <th>4</th>\n",
              "      <td>LR</td>\n",
              "      <td>0.983667</td>\n",
              "    </tr>\n",
              "    <tr>\n",
              "      <th>5</th>\n",
              "      <td>LR</td>\n",
              "      <td>0.982925</td>\n",
              "    </tr>\n",
              "    <tr>\n",
              "      <th>6</th>\n",
              "      <td>LR</td>\n",
              "      <td>0.984410</td>\n",
              "    </tr>\n",
              "    <tr>\n",
              "      <th>7</th>\n",
              "      <td>LR</td>\n",
              "      <td>0.982925</td>\n",
              "    </tr>\n",
              "    <tr>\n",
              "      <th>8</th>\n",
              "      <td>LR</td>\n",
              "      <td>0.990349</td>\n",
              "    </tr>\n",
              "    <tr>\n",
              "      <th>9</th>\n",
              "      <td>LR</td>\n",
              "      <td>0.989607</td>\n",
              "    </tr>\n",
              "    <tr>\n",
              "      <th>0</th>\n",
              "      <td>NB</td>\n",
              "      <td>0.930215</td>\n",
              "    </tr>\n",
              "    <tr>\n",
              "      <th>1</th>\n",
              "      <td>NB</td>\n",
              "      <td>0.925019</td>\n",
              "    </tr>\n",
              "    <tr>\n",
              "      <th>2</th>\n",
              "      <td>NB</td>\n",
              "      <td>0.944321</td>\n",
              "    </tr>\n",
              "    <tr>\n",
              "      <th>3</th>\n",
              "      <td>NB</td>\n",
              "      <td>0.944321</td>\n",
              "    </tr>\n",
              "    <tr>\n",
              "      <th>4</th>\n",
              "      <td>NB</td>\n",
              "      <td>0.933185</td>\n",
              "    </tr>\n",
              "    <tr>\n",
              "      <th>5</th>\n",
              "      <td>NB</td>\n",
              "      <td>0.937639</td>\n",
              "    </tr>\n",
              "    <tr>\n",
              "      <th>6</th>\n",
              "      <td>NB</td>\n",
              "      <td>0.928731</td>\n",
              "    </tr>\n",
              "    <tr>\n",
              "      <th>7</th>\n",
              "      <td>NB</td>\n",
              "      <td>0.924276</td>\n",
              "    </tr>\n",
              "    <tr>\n",
              "      <th>8</th>\n",
              "      <td>NB</td>\n",
              "      <td>0.936154</td>\n",
              "    </tr>\n",
              "    <tr>\n",
              "      <th>9</th>\n",
              "      <td>NB</td>\n",
              "      <td>0.930215</td>\n",
              "    </tr>\n",
              "    <tr>\n",
              "      <th>0</th>\n",
              "      <td>RF</td>\n",
              "      <td>0.985895</td>\n",
              "    </tr>\n",
              "    <tr>\n",
              "      <th>1</th>\n",
              "      <td>RF</td>\n",
              "      <td>0.985152</td>\n",
              "    </tr>\n",
              "    <tr>\n",
              "      <th>2</th>\n",
              "      <td>RF</td>\n",
              "      <td>0.982183</td>\n",
              "    </tr>\n",
              "    <tr>\n",
              "      <th>3</th>\n",
              "      <td>RF</td>\n",
              "      <td>0.991091</td>\n",
              "    </tr>\n",
              "    <tr>\n",
              "      <th>4</th>\n",
              "      <td>RF</td>\n",
              "      <td>0.981440</td>\n",
              "    </tr>\n",
              "    <tr>\n",
              "      <th>5</th>\n",
              "      <td>RF</td>\n",
              "      <td>0.982183</td>\n",
              "    </tr>\n",
              "    <tr>\n",
              "      <th>6</th>\n",
              "      <td>RF</td>\n",
              "      <td>0.982925</td>\n",
              "    </tr>\n",
              "    <tr>\n",
              "      <th>7</th>\n",
              "      <td>RF</td>\n",
              "      <td>0.987379</td>\n",
              "    </tr>\n",
              "    <tr>\n",
              "      <th>8</th>\n",
              "      <td>RF</td>\n",
              "      <td>0.990349</td>\n",
              "    </tr>\n",
              "    <tr>\n",
              "      <th>9</th>\n",
              "      <td>RF</td>\n",
              "      <td>0.987379</td>\n",
              "    </tr>\n",
              "  </tbody>\n",
              "</table>\n",
              "</div>"
            ],
            "text/plain": [
              "  text  Category\n",
              "0   LR  0.983667\n",
              "1   LR  0.981440\n",
              "2   LR  0.986637\n",
              "3   LR  0.990349\n",
              "4   LR  0.983667\n",
              "5   LR  0.982925\n",
              "6   LR  0.984410\n",
              "7   LR  0.982925\n",
              "8   LR  0.990349\n",
              "9   LR  0.989607\n",
              "0   NB  0.930215\n",
              "1   NB  0.925019\n",
              "2   NB  0.944321\n",
              "3   NB  0.944321\n",
              "4   NB  0.933185\n",
              "5   NB  0.937639\n",
              "6   NB  0.928731\n",
              "7   NB  0.924276\n",
              "8   NB  0.936154\n",
              "9   NB  0.930215\n",
              "0   RF  0.985895\n",
              "1   RF  0.985152\n",
              "2   RF  0.982183\n",
              "3   RF  0.991091\n",
              "4   RF  0.981440\n",
              "5   RF  0.982183\n",
              "6   RF  0.982925\n",
              "7   RF  0.987379\n",
              "8   RF  0.990349\n",
              "9   RF  0.987379"
            ]
          },
          "metadata": {
            "tags": []
          },
          "execution_count": 123
        }
      ]
    },
    {
      "cell_type": "code",
      "metadata": {
        "id": "s7Y1JxmdAxZ-",
        "colab_type": "code",
        "colab": {
          "base_uri": "https://localhost:8080/",
          "height": 34
        },
        "outputId": "b198c35b-408a-427a-9af6-a9f1db8a8225"
      },
      "source": [
        "#kruskal walls test to determine difference of each test on tf vector\n",
        "from scipy.stats import mstats\n",
        "\n",
        "\n",
        "pval = mstats.kruskalwallis(nb['Category'],rf['Category'],lr['Category'])\n",
        "pval\n"
      ],
      "execution_count": null,
      "outputs": [
        {
          "output_type": "execute_result",
          "data": {
            "text/plain": [
              "KruskalResult(statistic=19.415956259763433, pvalue=6.079651255793687e-05)"
            ]
          },
          "metadata": {
            "tags": []
          },
          "execution_count": 124
        }
      ]
    },
    {
      "cell_type": "code",
      "metadata": {
        "id": "yLhyrqKQvK-5",
        "colab_type": "code",
        "colab": {}
      },
      "source": [
        "d2.to_csv('tfidf1.csv')\n"
      ],
      "execution_count": null,
      "outputs": []
    },
    {
      "cell_type": "code",
      "metadata": {
        "id": "x9Dh6suJBaIa",
        "colab_type": "code",
        "colab": {
          "base_uri": "https://localhost:8080/",
          "height": 153
        },
        "outputId": "6096c19d-71a2-4259-eb7c-b53462e1af51"
      },
      "source": [
        "model=scikit_log_reg.fit(train_cnt, y_train.values)\n",
        "mnb.fit(train_cnt, y_train.values)\n",
        "clf.fit(train_cnt, y_train.values)"
      ],
      "execution_count": null,
      "outputs": [
        {
          "output_type": "stream",
          "text": [
            "[LibLinear]"
          ],
          "name": "stdout"
        },
        {
          "output_type": "execute_result",
          "data": {
            "text/plain": [
              "RandomForestClassifier(bootstrap=True, ccp_alpha=0.0, class_weight=None,\n",
              "                       criterion='gini', max_depth=None, max_features='auto',\n",
              "                       max_leaf_nodes=None, max_samples=None,\n",
              "                       min_impurity_decrease=0.0, min_impurity_split=None,\n",
              "                       min_samples_leaf=1, min_samples_split=2,\n",
              "                       min_weight_fraction_leaf=0.0, n_estimators=40,\n",
              "                       n_jobs=None, oob_score=False, random_state=None,\n",
              "                       verbose=0, warm_start=False)"
            ]
          },
          "metadata": {
            "tags": []
          },
          "execution_count": 126
        }
      ]
    },
    {
      "cell_type": "code",
      "metadata": {
        "id": "17Y8wAnxBs2d",
        "colab_type": "code",
        "colab": {
          "base_uri": "https://localhost:8080/",
          "height": 34
        },
        "outputId": "f1a32ba2-a09f-4747-cc47-e7528a62674c"
      },
      "source": [
        "p=cross_val_score(model,test_cnt, y_test.values,cv=10)\n",
        "p\n",
        "n=cross_val_score(mnb,test_cnt, y_test.values,cv=10)\n",
        "n\n",
        "r=cross_val_score(clf,test_cnt, y_test.values,cv=10)"
      ],
      "execution_count": null,
      "outputs": [
        {
          "output_type": "stream",
          "text": [
            "[LibLinear][LibLinear][LibLinear][LibLinear][LibLinear][LibLinear][LibLinear][LibLinear][LibLinear][LibLinear]"
          ],
          "name": "stdout"
        }
      ]
    },
    {
      "cell_type": "code",
      "metadata": {
        "id": "8i1h9l18CjD1",
        "colab_type": "code",
        "colab": {}
      },
      "source": [
        "lr = {'text': \"LR\", 'Category': p}\n",
        "nb={'text': \"NB\", 'Category': n}\n",
        "rf={'text': \"RF\", 'Category': r}\n",
        "\n",
        "lr_test = pd.DataFrame(lr)\n",
        "nb_test = pd.DataFrame(nb)\n",
        "rf_test = pd.DataFrame(rf)\n",
        "\n",
        "d2=pd.concat([lr_test,nb_test,rf_test])"
      ],
      "execution_count": null,
      "outputs": []
    },
    {
      "cell_type": "code",
      "metadata": {
        "id": "LQdxVPPqCvBV",
        "colab_type": "code",
        "colab": {
          "base_uri": "https://localhost:8080/",
          "height": 34
        },
        "outputId": "97b8b2c5-dd5f-4dd1-ebb9-68746cc78f3f"
      },
      "source": [
        "from scipy.stats import mstats\n",
        "\n",
        "\n",
        "pval = mstats.kruskalwallis(nb['Category'],rf['Category'],lr['Category'])\n",
        "pval"
      ],
      "execution_count": null,
      "outputs": [
        {
          "output_type": "execute_result",
          "data": {
            "text/plain": [
              "KruskalResult(statistic=25.91020772838955, pvalue=2.364121971895926e-06)"
            ]
          },
          "metadata": {
            "tags": []
          },
          "execution_count": 129
        }
      ]
    },
    {
      "cell_type": "code",
      "metadata": {
        "id": "pS3Efjz1Cy31",
        "colab_type": "code",
        "colab": {
          "base_uri": "https://localhost:8080/",
          "height": 944
        },
        "outputId": "fd91f834-fa3b-4fea-f1b8-b591291b8e9e"
      },
      "source": [
        "d2"
      ],
      "execution_count": null,
      "outputs": [
        {
          "output_type": "execute_result",
          "data": {
            "text/html": [
              "<div>\n",
              "<style scoped>\n",
              "    .dataframe tbody tr th:only-of-type {\n",
              "        vertical-align: middle;\n",
              "    }\n",
              "\n",
              "    .dataframe tbody tr th {\n",
              "        vertical-align: top;\n",
              "    }\n",
              "\n",
              "    .dataframe thead th {\n",
              "        text-align: right;\n",
              "    }\n",
              "</style>\n",
              "<table border=\"1\" class=\"dataframe\">\n",
              "  <thead>\n",
              "    <tr style=\"text-align: right;\">\n",
              "      <th></th>\n",
              "      <th>text</th>\n",
              "      <th>Category</th>\n",
              "    </tr>\n",
              "  </thead>\n",
              "  <tbody>\n",
              "    <tr>\n",
              "      <th>0</th>\n",
              "      <td>LR</td>\n",
              "      <td>0.991834</td>\n",
              "    </tr>\n",
              "    <tr>\n",
              "      <th>1</th>\n",
              "      <td>LR</td>\n",
              "      <td>0.994803</td>\n",
              "    </tr>\n",
              "    <tr>\n",
              "      <th>2</th>\n",
              "      <td>LR</td>\n",
              "      <td>0.989607</td>\n",
              "    </tr>\n",
              "    <tr>\n",
              "      <th>3</th>\n",
              "      <td>LR</td>\n",
              "      <td>0.993318</td>\n",
              "    </tr>\n",
              "    <tr>\n",
              "      <th>4</th>\n",
              "      <td>LR</td>\n",
              "      <td>0.992576</td>\n",
              "    </tr>\n",
              "    <tr>\n",
              "      <th>5</th>\n",
              "      <td>LR</td>\n",
              "      <td>0.992576</td>\n",
              "    </tr>\n",
              "    <tr>\n",
              "      <th>6</th>\n",
              "      <td>LR</td>\n",
              "      <td>0.994803</td>\n",
              "    </tr>\n",
              "    <tr>\n",
              "      <th>7</th>\n",
              "      <td>LR</td>\n",
              "      <td>0.992576</td>\n",
              "    </tr>\n",
              "    <tr>\n",
              "      <th>8</th>\n",
              "      <td>LR</td>\n",
              "      <td>0.992576</td>\n",
              "    </tr>\n",
              "    <tr>\n",
              "      <th>9</th>\n",
              "      <td>LR</td>\n",
              "      <td>0.995546</td>\n",
              "    </tr>\n",
              "    <tr>\n",
              "      <th>0</th>\n",
              "      <td>NB</td>\n",
              "      <td>0.948033</td>\n",
              "    </tr>\n",
              "    <tr>\n",
              "      <th>1</th>\n",
              "      <td>NB</td>\n",
              "      <td>0.941351</td>\n",
              "    </tr>\n",
              "    <tr>\n",
              "      <th>2</th>\n",
              "      <td>NB</td>\n",
              "      <td>0.954714</td>\n",
              "    </tr>\n",
              "    <tr>\n",
              "      <th>3</th>\n",
              "      <td>NB</td>\n",
              "      <td>0.962138</td>\n",
              "    </tr>\n",
              "    <tr>\n",
              "      <th>4</th>\n",
              "      <td>NB</td>\n",
              "      <td>0.949517</td>\n",
              "    </tr>\n",
              "    <tr>\n",
              "      <th>5</th>\n",
              "      <td>NB</td>\n",
              "      <td>0.948775</td>\n",
              "    </tr>\n",
              "    <tr>\n",
              "      <th>6</th>\n",
              "      <td>NB</td>\n",
              "      <td>0.949517</td>\n",
              "    </tr>\n",
              "    <tr>\n",
              "      <th>7</th>\n",
              "      <td>NB</td>\n",
              "      <td>0.946548</td>\n",
              "    </tr>\n",
              "    <tr>\n",
              "      <th>8</th>\n",
              "      <td>NB</td>\n",
              "      <td>0.949517</td>\n",
              "    </tr>\n",
              "    <tr>\n",
              "      <th>9</th>\n",
              "      <td>NB</td>\n",
              "      <td>0.945805</td>\n",
              "    </tr>\n",
              "    <tr>\n",
              "      <th>0</th>\n",
              "      <td>RF</td>\n",
              "      <td>0.988864</td>\n",
              "    </tr>\n",
              "    <tr>\n",
              "      <th>1</th>\n",
              "      <td>RF</td>\n",
              "      <td>0.982925</td>\n",
              "    </tr>\n",
              "    <tr>\n",
              "      <th>2</th>\n",
              "      <td>RF</td>\n",
              "      <td>0.988864</td>\n",
              "    </tr>\n",
              "    <tr>\n",
              "      <th>3</th>\n",
              "      <td>RF</td>\n",
              "      <td>0.983667</td>\n",
              "    </tr>\n",
              "    <tr>\n",
              "      <th>4</th>\n",
              "      <td>RF</td>\n",
              "      <td>0.982183</td>\n",
              "    </tr>\n",
              "    <tr>\n",
              "      <th>5</th>\n",
              "      <td>RF</td>\n",
              "      <td>0.983667</td>\n",
              "    </tr>\n",
              "    <tr>\n",
              "      <th>6</th>\n",
              "      <td>RF</td>\n",
              "      <td>0.987379</td>\n",
              "    </tr>\n",
              "    <tr>\n",
              "      <th>7</th>\n",
              "      <td>RF</td>\n",
              "      <td>0.984410</td>\n",
              "    </tr>\n",
              "    <tr>\n",
              "      <th>8</th>\n",
              "      <td>RF</td>\n",
              "      <td>0.985152</td>\n",
              "    </tr>\n",
              "    <tr>\n",
              "      <th>9</th>\n",
              "      <td>RF</td>\n",
              "      <td>0.984410</td>\n",
              "    </tr>\n",
              "  </tbody>\n",
              "</table>\n",
              "</div>"
            ],
            "text/plain": [
              "  text  Category\n",
              "0   LR  0.991834\n",
              "1   LR  0.994803\n",
              "2   LR  0.989607\n",
              "3   LR  0.993318\n",
              "4   LR  0.992576\n",
              "5   LR  0.992576\n",
              "6   LR  0.994803\n",
              "7   LR  0.992576\n",
              "8   LR  0.992576\n",
              "9   LR  0.995546\n",
              "0   NB  0.948033\n",
              "1   NB  0.941351\n",
              "2   NB  0.954714\n",
              "3   NB  0.962138\n",
              "4   NB  0.949517\n",
              "5   NB  0.948775\n",
              "6   NB  0.949517\n",
              "7   NB  0.946548\n",
              "8   NB  0.949517\n",
              "9   NB  0.945805\n",
              "0   RF  0.988864\n",
              "1   RF  0.982925\n",
              "2   RF  0.988864\n",
              "3   RF  0.983667\n",
              "4   RF  0.982183\n",
              "5   RF  0.983667\n",
              "6   RF  0.987379\n",
              "7   RF  0.984410\n",
              "8   RF  0.985152\n",
              "9   RF  0.984410"
            ]
          },
          "metadata": {
            "tags": []
          },
          "execution_count": 130
        }
      ]
    },
    {
      "cell_type": "markdown",
      "metadata": {
        "id": "lNLlPuWGgG86",
        "colab_type": "text"
      },
      "source": [
        "# New Section"
      ]
    },
    {
      "cell_type": "code",
      "metadata": {
        "id": "NpT6IpN9hp1p",
        "colab_type": "code",
        "colab": {
          "base_uri": "https://localhost:8080/",
          "height": 34
        },
        "outputId": "aae78316-e46a-4530-ecc5-625fb86c9dce"
      },
      "source": [
        "import scipy.stats as stats\n",
        "\n",
        "s=stats.f_oneway(nb['Category'],rf['Category'],lr['Category'])\n",
        "s"
      ],
      "execution_count": null,
      "outputs": [
        {
          "output_type": "execute_result",
          "data": {
            "text/plain": [
              "F_onewayResult(statistic=405.2308048818191, pvalue=7.301037240993819e-21)"
            ]
          },
          "metadata": {
            "tags": []
          },
          "execution_count": 131
        }
      ]
    },
    {
      "cell_type": "code",
      "metadata": {
        "id": "h6F-BRU0ot-F",
        "colab_type": "code",
        "colab": {}
      },
      "source": [
        "#ttest for each pair\n",
        "from statsmodels.stats.multicomp import pairwise_tukeyhsd\n",
        "posthoc = pairwise_tukeyhsd(\n",
        "    d2['Category'], d2['text'],\n",
        "    alpha=0.05)"
      ],
      "execution_count": null,
      "outputs": []
    },
    {
      "cell_type": "code",
      "metadata": {
        "id": "fkGB1ztVhMdB",
        "colab_type": "code",
        "colab": {
          "base_uri": "https://localhost:8080/",
          "height": 390
        },
        "outputId": "103c6ccf-388f-4fb7-df49-f4b156a69713"
      },
      "source": [
        "fig = posthoc.plot_simultaneous()"
      ],
      "execution_count": null,
      "outputs": [
        {
          "output_type": "display_data",
          "data": {
            "image/png": "[encoded data removed]",
            "text/plain": [
              "<Figure size 720x432 with 1 Axes>"
            ]
          },
          "metadata": {
            "tags": [],
            "needs_background": "light"
          }
        }
      ]
    }
  ]
}