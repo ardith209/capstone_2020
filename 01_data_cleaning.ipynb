{
  "nbformat": 4,
  "nbformat_minor": 0,
  "metadata": {
    "colab": {
      "name": "Untitled5.ipynb",
      "provenance": []
    },
    "kernelspec": {
      "name": "python3",
      "display_name": "Python 3"
    }
  },
  "cells": [
    {
      "cell_type": "code",
      "metadata": {
        "id": "vD_VFzSbFyLD",
        "colab_type": "code",
        "colab": {
          "base_uri": "https://localhost:8080/",
          "height": 51
        },
        "outputId": "deae7e42-87eb-481a-84bc-31f4d30093a7"
      },
      "source": [
        "#load packages\n",
        "import numpy as np \n",
        "import pandas as pd\n",
        "import tensorflow as tf\n",
        "from nltk.corpus import stopwords           #for using stopwords\n",
        "from nltk.stem.porter import PorterStemmer  # for stemming\n",
        "import nltk\n",
        "nltk.download('stopwords')\n",
        "from sklearn.model_selection import train_test_split\n",
        "from sklearn.linear_model import LogisticRegression\n",
        "from sklearn.feature_extraction.text import CountVectorizer,TfidfVectorizer"
      ],
      "execution_count": 1,
      "outputs": [
        {
          "output_type": "stream",
          "text": [
            "[nltk_data] Downloading package stopwords to /root/nltk_data...\n",
            "[nltk_data]   Unzipping corpora/stopwords.zip.\n"
          ],
          "name": "stdout"
        }
      ]
    },
    {
      "cell_type": "code",
      "metadata": {
        "id": "BK1knaM8QsnJ",
        "colab_type": "code",
        "colab": {}
      },
      "source": [
        ""
      ],
      "execution_count": 1,
      "outputs": []
    },
    {
      "cell_type": "code",
      "metadata": {
        "id": "zPJ4LTsmF-Y4",
        "colab_type": "code",
        "colab": {}
      },
      "source": [
        "import os\n",
        "os.chdir('/content/drive/My Drive')\n",
        "t=pd.read_csv('True.csv')\n",
        "f=pd.read_csv('Fake.csv')"
      ],
      "execution_count": 2,
      "outputs": []
    },
    {
      "cell_type": "code",
      "metadata": {
        "id": "2A3DvP6EGllg",
        "colab_type": "code",
        "colab": {
          "base_uri": "https://localhost:8080/",
          "height": 405
        },
        "outputId": "e24068df-8def-4716-c525-19d292cae37c"
      },
      "source": [
        "#label true and fake\n",
        "t['category'] = 1\n",
        "f['category'] = 0\n",
        "\n",
        "df = pd.concat([t,f])\n",
        "df.sample(frac=1)"
      ],
      "execution_count": 3,
      "outputs": [
        {
          "output_type": "execute_result",
          "data": {
            "text/html": [
              "<div>\n",
              "<style scoped>\n",
              "    .dataframe tbody tr th:only-of-type {\n",
              "        vertical-align: middle;\n",
              "    }\n",
              "\n",
              "    .dataframe tbody tr th {\n",
              "        vertical-align: top;\n",
              "    }\n",
              "\n",
              "    .dataframe thead th {\n",
              "        text-align: right;\n",
              "    }\n",
              "</style>\n",
              "<table border=\"1\" class=\"dataframe\">\n",
              "  <thead>\n",
              "    <tr style=\"text-align: right;\">\n",
              "      <th></th>\n",
              "      <th>title</th>\n",
              "      <th>text</th>\n",
              "      <th>subject</th>\n",
              "      <th>date</th>\n",
              "      <th>category</th>\n",
              "    </tr>\n",
              "  </thead>\n",
              "  <tbody>\n",
              "    <tr>\n",
              "      <th>17615</th>\n",
              "      <td>SEASONS BEATINGS! 19-Yr Old SHOT…Mall Brawls S...</td>\n",
              "      <td>Black Friday madness has officially gripped th...</td>\n",
              "      <td>left-news</td>\n",
              "      <td>Nov 24, 2017</td>\n",
              "      <td>0</td>\n",
              "    </tr>\n",
              "    <tr>\n",
              "      <th>8389</th>\n",
              "      <td>Cliven Bundy Takes Charge Of Remaining Oregon...</td>\n",
              "      <td>With his son Ammon Bundy in jail with most of ...</td>\n",
              "      <td>News</td>\n",
              "      <td>February 2, 2016</td>\n",
              "      <td>0</td>\n",
              "    </tr>\n",
              "    <tr>\n",
              "      <th>20317</th>\n",
              "      <td>Brazil judge suspends aspects of J&amp;F leniency,...</td>\n",
              "      <td>BRASILIA (Reuters) - A Brazilian judge on Mond...</td>\n",
              "      <td>worldnews</td>\n",
              "      <td>September 11, 2017</td>\n",
              "      <td>1</td>\n",
              "    </tr>\n",
              "    <tr>\n",
              "      <th>14763</th>\n",
              "      <td>Lebanon president: Saudi also holding Hariri's...</td>\n",
              "      <td>BEIRUT (Reuters) - Lebanese President Michel A...</td>\n",
              "      <td>worldnews</td>\n",
              "      <td>November 15, 2017</td>\n",
              "      <td>1</td>\n",
              "    </tr>\n",
              "    <tr>\n",
              "      <th>11171</th>\n",
              "      <td>SORE LOSER, WAR-HAWK John McCain Blames Presid...</td>\n",
              "      <td>Sunday on CBS s  Face the Nation,  Sen. John M...</td>\n",
              "      <td>politics</td>\n",
              "      <td>Apr 10, 2017</td>\n",
              "      <td>0</td>\n",
              "    </tr>\n",
              "    <tr>\n",
              "      <th>...</th>\n",
              "      <td>...</td>\n",
              "      <td>...</td>\n",
              "      <td>...</td>\n",
              "      <td>...</td>\n",
              "      <td>...</td>\n",
              "    </tr>\n",
              "    <tr>\n",
              "      <th>16550</th>\n",
              "      <td>PAUL RYAN IGNORES EXECUTIVE ORDERS OBAMA… SAYS...</td>\n",
              "      <td>Paul Ryan has had almost 8 years to lead the c...</td>\n",
              "      <td>Government News</td>\n",
              "      <td>Jun 17, 2016</td>\n",
              "      <td>0</td>\n",
              "    </tr>\n",
              "    <tr>\n",
              "      <th>14548</th>\n",
              "      <td>Lebanese foreign minister: some forces trying ...</td>\n",
              "      <td>MOSCOW (Reuters) - Lebanese Foreign Minister G...</td>\n",
              "      <td>worldnews</td>\n",
              "      <td>November 17, 2017</td>\n",
              "      <td>1</td>\n",
              "    </tr>\n",
              "    <tr>\n",
              "      <th>18107</th>\n",
              "      <td>U.S. lifts Sudan sanctions, wins commitment ag...</td>\n",
              "      <td>WASHINGTON (Reuters) - The United States lifte...</td>\n",
              "      <td>worldnews</td>\n",
              "      <td>October 6, 2017</td>\n",
              "      <td>1</td>\n",
              "    </tr>\n",
              "    <tr>\n",
              "      <th>1484</th>\n",
              "      <td>Chris Wallace Just Shoved His Foot So Far Up ...</td>\n",
              "      <td>Donald Trump may spend his time furiously twee...</td>\n",
              "      <td>News</td>\n",
              "      <td>May 12, 2017</td>\n",
              "      <td>0</td>\n",
              "    </tr>\n",
              "    <tr>\n",
              "      <th>13398</th>\n",
              "      <td>BREAKING: LEFTIST GROUP PLANS To Arrest Hillar...</td>\n",
              "      <td>The DNC Action Committee announced on Facebook...</td>\n",
              "      <td>politics</td>\n",
              "      <td>Jul 28, 2016</td>\n",
              "      <td>0</td>\n",
              "    </tr>\n",
              "  </tbody>\n",
              "</table>\n",
              "<p>44898 rows × 5 columns</p>\n",
              "</div>"
            ],
            "text/plain": [
              "                                                   title  ... category\n",
              "17615  SEASONS BEATINGS! 19-Yr Old SHOT…Mall Brawls S...  ...        0\n",
              "8389    Cliven Bundy Takes Charge Of Remaining Oregon...  ...        0\n",
              "20317  Brazil judge suspends aspects of J&F leniency,...  ...        1\n",
              "14763  Lebanon president: Saudi also holding Hariri's...  ...        1\n",
              "11171  SORE LOSER, WAR-HAWK John McCain Blames Presid...  ...        0\n",
              "...                                                  ...  ...      ...\n",
              "16550  PAUL RYAN IGNORES EXECUTIVE ORDERS OBAMA… SAYS...  ...        0\n",
              "14548  Lebanese foreign minister: some forces trying ...  ...        1\n",
              "18107  U.S. lifts Sudan sanctions, wins commitment ag...  ...        1\n",
              "1484    Chris Wallace Just Shoved His Foot So Far Up ...  ...        0\n",
              "13398  BREAKING: LEFTIST GROUP PLANS To Arrest Hillar...  ...        0\n",
              "\n",
              "[44898 rows x 5 columns]"
            ]
          },
          "metadata": {
            "tags": []
          },
          "execution_count": 3
        }
      ]
    },
    {
      "cell_type": "code",
      "metadata": {
        "id": "y4vkyfUBUIPw",
        "colab_type": "code",
        "colab": {}
      },
      "source": [
        ""
      ],
      "execution_count": 3,
      "outputs": []
    },
    {
      "cell_type": "code",
      "metadata": {
        "id": "kZbrYp0JHf9g",
        "colab_type": "code",
        "colab": {
          "base_uri": "https://localhost:8080/",
          "height": 68
        },
        "outputId": "a0c02165-8a40-4471-9fa0-3e1ef0daf815"
      },
      "source": [
        "#total words in text streams\n",
        "df['totalwords'] = [len(x.split()) for x in df['text'].tolist()]\n",
        "\n",
        "len_true=df['totalwords'][df.category==1].mean()\n",
        "len_fake=df['totalwords'][df.category==0].mean()\n",
        "\n",
        "data = {'Type': ['Fake','True'],\n",
        "        'TextLength': [len_fake,len_true]\n",
        "        }\n",
        "\n",
        "dlen = pd.DataFrame(data, columns = ['Type', 'TextLength'])\n",
        "\n",
        "print (dlen)\n",
        "\n",
        "\n"
      ],
      "execution_count": 4,
      "outputs": [
        {
          "output_type": "stream",
          "text": [
            "   Type  TextLength\n",
            "0  Fake  423.197905\n",
            "1  True  385.640099\n"
          ],
          "name": "stdout"
        }
      ]
    },
    {
      "cell_type": "code",
      "metadata": {
        "id": "4wo8V8lZLf4z",
        "colab_type": "code",
        "colab": {}
      },
      "source": [
        "import matplotlib.pyplot as plt\n"
      ],
      "execution_count": 5,
      "outputs": []
    },
    {
      "cell_type": "code",
      "metadata": {
        "id": "5AoRBMK-Px8P",
        "colab_type": "code",
        "colab": {}
      },
      "source": [
        "#convert class to string variable\n",
        "df['class'] = np.where(df['category']==1, 'True', 'Fake')"
      ],
      "execution_count": 6,
      "outputs": []
    },
    {
      "cell_type": "code",
      "metadata": {
        "id": "jIpGKKHONKx4",
        "colab_type": "code",
        "colab": {
          "base_uri": "https://localhost:8080/",
          "height": 332
        },
        "outputId": "53450c24-f628-4655-88f3-708e62d87b71"
      },
      "source": [
        "#check to see if classes are balanced\n",
        "plt.hist(df['class'])"
      ],
      "execution_count": 7,
      "outputs": [
        {
          "output_type": "execute_result",
          "data": {
            "text/plain": [
              "(array([21417.,     0.,     0.,     0.,     0.,     0.,     0.,     0.,\n",
              "            0., 23481.]),\n",
              " array([0. , 0.1, 0.2, 0.3, 0.4, 0.5, 0.6, 0.7, 0.8, 0.9, 1. ]),\n",
              " <a list of 10 Patch objects>)"
            ]
          },
          "metadata": {
            "tags": []
          },
          "execution_count": 7
        },
        {
          "output_type": "display_data",
          "data": {
            "image/png": "[encoded data removed]",
            "text/plain": [
              "<Figure size 432x288 with 1 Axes>"
            ]
          },
          "metadata": {
            "tags": [],
            "needs_background": "light"
          }
        }
      ]
    },
    {
      "cell_type": "code",
      "metadata": {
        "id": "BxH9C-0xOewQ",
        "colab_type": "code",
        "colab": {
          "base_uri": "https://localhost:8080/",
          "height": 294
        },
        "outputId": "dadcae73-0077-40ef-c828-f7cedeb474bf"
      },
      "source": [
        "#boxplot of total words in text of real and fake\n",
        "df.boxplot(column='totalwords',by='class')\n",
        "plt.title('Total Words in Text of Real and Fake News')\n",
        "plt.suptitle('') \n",
        "\n",
        "\n",
        "plt.show()"
      ],
      "execution_count": 8,
      "outputs": [
        {
          "output_type": "display_data",
          "data": {
            "image/png": "[encoded data removed]",
            "text/plain": [
              "<Figure size 432x288 with 1 Axes>"
            ]
          },
          "metadata": {
            "tags": [],
            "needs_background": "light"
          }
        }
      ]
    },
    {
      "cell_type": "code",
      "metadata": {
        "id": "KragjTD8vn_j",
        "colab_type": "code",
        "colab": {
          "base_uri": "https://localhost:8080/",
          "height": 68
        },
        "outputId": "b45808c0-c659-407b-f1cd-5a74a65ee28e"
      },
      "source": [
        "df['titlewords'] = [len(x.split()) for x in df['title'].tolist()]\n",
        "\n",
        "len_true=df['titlewords'][df.category==1].mean()\n",
        "len_fake=df['titlewords'][df.category==0].mean()\n",
        "\n",
        "data = {'Type': ['Fake','True'],\n",
        "        'TextLength': [len_fake,len_true]\n",
        "        }\n",
        "\n",
        "dlen = pd.DataFrame(data, columns = ['Type', 'TextLength'])\n",
        "\n",
        "print (dlen)"
      ],
      "execution_count": 9,
      "outputs": [
        {
          "output_type": "stream",
          "text": [
            "   Type  TextLength\n",
            "0  Fake   14.732805\n",
            "1  True    9.954475\n"
          ],
          "name": "stdout"
        }
      ]
    },
    {
      "cell_type": "code",
      "metadata": {
        "id": "psKjjBVETm9y",
        "colab_type": "code",
        "colab": {}
      },
      "source": [
        "#create function to remove puncuation and stop words\n",
        "def process_text(s):\n",
        "\n",
        "    # Check string to see if they are a punctuation\n",
        "    nopunc = [char for char in s if char not in string.punctuation]\n",
        "\n",
        "    # Join the characters again to form the string.\n",
        "    nopunc = ''.join(nopunc)\n",
        "    \n",
        "    # Convert string to lowercase and remove stopwords\n",
        "    clean_string = [word for word in nopunc.split() if word.lower() not in stopwords.words('english')]\n",
        "    return clean_string"
      ],
      "execution_count": 10,
      "outputs": []
    },
    {
      "cell_type": "code",
      "metadata": {
        "id": "P7PAy2600MVP",
        "colab_type": "code",
        "colab": {}
      },
      "source": [
        "from nltk.corpus import stopwords\n",
        "import string"
      ],
      "execution_count": 11,
      "outputs": []
    },
    {
      "cell_type": "code",
      "metadata": {
        "id": "OVebpml00Dkv",
        "colab_type": "code",
        "colab": {}
      },
      "source": [
        "\n",
        "#apply function to text field\n",
        "df['CleanText'] = df['text'].apply(process_text)"
      ],
      "execution_count": 12,
      "outputs": []
    },
    {
      "cell_type": "markdown",
      "metadata": {
        "id": "E0aqkI_v7ppy",
        "colab_type": "text"
      },
      "source": [
        ""
      ]
    },
    {
      "cell_type": "code",
      "metadata": {
        "id": "Lh1I5M_OwIHj",
        "colab_type": "code",
        "colab": {
          "base_uri": "https://localhost:8080/",
          "height": 294
        },
        "outputId": "e4dc4ddc-79a8-46f3-a900-8e998361cc83"
      },
      "source": [
        "df.boxplot(column='titlewords',by='class')\n",
        "plt.title('Total Words in Titles of Real and Fake News')\n",
        "plt.suptitle('') \n",
        "\n",
        "plt.show()"
      ],
      "execution_count": 13,
      "outputs": [
        {
          "output_type": "display_data",
          "data": {
            "image/png": "[encoded data removed]",
            "text/plain": [
              "<Figure size 432x288 with 1 Axes>"
            ]
          },
          "metadata": {
            "tags": [],
            "needs_background": "light"
          }
        }
      ]
    },
    {
      "cell_type": "code",
      "metadata": {
        "id": "AVnAnhz3yNZc",
        "colab_type": "code",
        "colab": {}
      },
      "source": [
        "import regex as re\n",
        "\n",
        "import nltk\n",
        "from nltk.corpus import stopwords\n",
        "\n",
        "cached_stopwords = stopwords.words('english')\n",
        "porter = PorterStemmer()"
      ],
      "execution_count": 14,
      "outputs": []
    },
    {
      "cell_type": "code",
      "metadata": {
        "id": "9HVTICs5sS4d",
        "colab_type": "code",
        "colab": {}
      },
      "source": [
        "def replace_spec(text):\n",
        "    regex = r'[^a-zA-z0-9/s]'\n",
        "    text = re.sub(regex, ' ', text)\n",
        "    return text\n",
        "\n",
        "def process_title(title):\n",
        "  \n",
        "    title = title.lower()\n",
        "    title = replace_spec(title)\n",
        "    #title=re.sub(\"donald trump\",\"trump \",title)    \n",
        "  \n",
        "    title_list = str.split(title)\n",
        "    \n",
        "    final_title =[]\n",
        "\n",
        "    for item in title_list:\n",
        "        if item not in cached_stopwords:\n",
        "            final_title.append(item)\n",
        "    \n",
        "    return \" \".join(final_title)"
      ],
      "execution_count": 15,
      "outputs": []
    },
    {
      "cell_type": "code",
      "metadata": {
        "id": "VoE5K4O1sdeG",
        "colab_type": "code",
        "colab": {}
      },
      "source": [
        "\n",
        "df['text_final'] = df.text.apply(process_title)"
      ],
      "execution_count": 16,
      "outputs": []
    },
    {
      "cell_type": "code",
      "metadata": {
        "id": "E-M61Fjp_xoF",
        "colab_type": "code",
        "colab": {
          "base_uri": "https://localhost:8080/",
          "height": 68
        },
        "outputId": "ce06bdf7-581a-4890-f7d7-1a20df713bb8"
      },
      "source": [
        "from nltk.tokenize import sent_tokenize, word_tokenize\n",
        "nltk.download('punkt')"
      ],
      "execution_count": 17,
      "outputs": [
        {
          "output_type": "stream",
          "text": [
            "[nltk_data] Downloading package punkt to /root/nltk_data...\n",
            "[nltk_data]   Unzipping tokenizers/punkt.zip.\n"
          ],
          "name": "stdout"
        },
        {
          "output_type": "execute_result",
          "data": {
            "text/plain": [
              "True"
            ]
          },
          "metadata": {
            "tags": []
          },
          "execution_count": 17
        }
      ]
    },
    {
      "cell_type": "code",
      "metadata": {
        "id": "2mnXNezD_Zoq",
        "colab_type": "code",
        "colab": {}
      },
      "source": [
        "#function to stem sentence\n",
        "def stemSentence(sentence):\n",
        "    token_words=word_tokenize(sentence)\n",
        "    \n",
        "    stem_sentence=[]\n",
        "    for word in token_words:\n",
        "        stem_sentence.append(porter.stem(word))\n",
        "        stem_sentence.append(\" \")\n",
        "    return \"\".join(stem_sentence)"
      ],
      "execution_count": 18,
      "outputs": []
    },
    {
      "cell_type": "code",
      "metadata": {
        "id": "eAtEBoZY_byq",
        "colab_type": "code",
        "colab": {}
      },
      "source": [
        "df['t'] = df.text_final.apply(stemSentence)\n"
      ],
      "execution_count": 19,
      "outputs": []
    },
    {
      "cell_type": "code",
      "metadata": {
        "id": "S8zB0Xv7f0cz",
        "colab_type": "code",
        "colab": {
          "base_uri": "https://localhost:8080/",
          "height": 51
        },
        "outputId": "2f9bdd56-0c3a-41cf-fd95-a438ed54814a"
      },
      "source": [
        "#apply lemmatization\n",
        "from nltk.stem import WordNetLemmatizer \n",
        "  \n",
        "lemmatizer = WordNetLemmatizer() \n",
        "nltk.download('wordnet')\n",
        "def lemSentence(sentence):\n",
        "    token_words=word_tokenize(sentence)\n",
        "    \n",
        "    stem_sentence=[]\n",
        "    for word in token_words:\n",
        "        stem_sentence.append(lemmatizer.lemmatize(word))\n",
        "        stem_sentence.append(\" \")\n",
        "    return \"\".join(stem_sentence)"
      ],
      "execution_count": 20,
      "outputs": [
        {
          "output_type": "stream",
          "text": [
            "[nltk_data] Downloading package wordnet to /root/nltk_data...\n",
            "[nltk_data]   Unzipping corpora/wordnet.zip.\n"
          ],
          "name": "stdout"
        }
      ]
    },
    {
      "cell_type": "code",
      "metadata": {
        "id": "PaoHQOYsmk7D",
        "colab_type": "code",
        "colab": {}
      },
      "source": [
        "#new field with lemmatizer\n",
        "df['tl'] = df.t.apply(lemSentence)"
      ],
      "execution_count": 21,
      "outputs": []
    },
    {
      "cell_type": "code",
      "metadata": {
        "id": "l9cPNyOkyUbj",
        "colab_type": "code",
        "colab": {
          "base_uri": "https://localhost:8080/",
          "height": 54
        },
        "outputId": "8be12e7f-1ea2-47ef-ee96-4aae570ef78c"
      },
      "source": [
        "#check stopwords\n",
        "print(cached_stopwords)"
      ],
      "execution_count": 22,
      "outputs": [
        {
          "output_type": "stream",
          "text": [
            "['i', 'me', 'my', 'myself', 'we', 'our', 'ours', 'ourselves', 'you', \"you're\", \"you've\", \"you'll\", \"you'd\", 'your', 'yours', 'yourself', 'yourselves', 'he', 'him', 'his', 'himself', 'she', \"she's\", 'her', 'hers', 'herself', 'it', \"it's\", 'its', 'itself', 'they', 'them', 'their', 'theirs', 'themselves', 'what', 'which', 'who', 'whom', 'this', 'that', \"that'll\", 'these', 'those', 'am', 'is', 'are', 'was', 'were', 'be', 'been', 'being', 'have', 'has', 'had', 'having', 'do', 'does', 'did', 'doing', 'a', 'an', 'the', 'and', 'but', 'if', 'or', 'because', 'as', 'until', 'while', 'of', 'at', 'by', 'for', 'with', 'about', 'against', 'between', 'into', 'through', 'during', 'before', 'after', 'above', 'below', 'to', 'from', 'up', 'down', 'in', 'out', 'on', 'off', 'over', 'under', 'again', 'further', 'then', 'once', 'here', 'there', 'when', 'where', 'why', 'how', 'all', 'any', 'both', 'each', 'few', 'more', 'most', 'other', 'some', 'such', 'no', 'nor', 'not', 'only', 'own', 'same', 'so', 'than', 'too', 'very', 's', 't', 'can', 'will', 'just', 'don', \"don't\", 'should', \"should've\", 'now', 'd', 'll', 'm', 'o', 're', 've', 'y', 'ain', 'aren', \"aren't\", 'couldn', \"couldn't\", 'didn', \"didn't\", 'doesn', \"doesn't\", 'hadn', \"hadn't\", 'hasn', \"hasn't\", 'haven', \"haven't\", 'isn', \"isn't\", 'ma', 'mightn', \"mightn't\", 'mustn', \"mustn't\", 'needn', \"needn't\", 'shan', \"shan't\", 'shouldn', \"shouldn't\", 'wasn', \"wasn't\", 'weren', \"weren't\", 'won', \"won't\", 'wouldn', \"wouldn't\"]\n"
          ],
          "name": "stdout"
        }
      ]
    },
    {
      "cell_type": "code",
      "metadata": {
        "id": "WsVF5v3ReVzl",
        "colab_type": "code",
        "colab": {}
      },
      "source": [
        "#list of vocabulary after each cleaning phase\n",
        "no_clean=df.text.tolist()\n",
        "sw=df.text_final.tolist()\n",
        "stem=df.t.tolist()\n",
        "lm=df.tl.tolist()"
      ],
      "execution_count": 23,
      "outputs": []
    },
    {
      "cell_type": "code",
      "metadata": {
        "id": "VQVomYnThTEV",
        "colab_type": "code",
        "colab": {
          "base_uri": "https://localhost:8080/",
          "height": 34
        },
        "outputId": "5f145471-9431-4d31-b8d9-bb540641b149"
      },
      "source": [
        "#no cleaning\n",
        "cv_1 = CountVectorizer(no_clean)\n",
        "cv_1_fit=cv_1.fit(no_clean)\n",
        "nc=len(cv_1_fit.vocabulary_)\n",
        "print(nc)"
      ],
      "execution_count": 24,
      "outputs": [
        {
          "output_type": "stream",
          "text": [
            "122002\n"
          ],
          "name": "stdout"
        }
      ]
    },
    {
      "cell_type": "code",
      "metadata": {
        "id": "afs2M_MEqN8S",
        "colab_type": "code",
        "colab": {
          "base_uri": "https://localhost:8080/",
          "height": 34
        },
        "outputId": "3073f5b1-f5cd-4017-bc98-1c7e65177cc2"
      },
      "source": [
        "#stopwords and punctuation\n",
        "cv_3 = CountVectorizer(sw)\n",
        "cv_3_fit=cv_3.fit(sw)\n",
        "s=len(cv_3_fit.vocabulary_)\n",
        "print(s)"
      ],
      "execution_count": 25,
      "outputs": [
        {
          "output_type": "stream",
          "text": [
            "121919\n"
          ],
          "name": "stdout"
        }
      ]
    },
    {
      "cell_type": "code",
      "metadata": {
        "id": "QFWFoGLuhUaV",
        "colab_type": "code",
        "colab": {
          "base_uri": "https://localhost:8080/",
          "height": 34
        },
        "outputId": "a9d55577-3d5d-4c65-a228-496051e18d5d"
      },
      "source": [
        "#stemming\n",
        "cv_2 = CountVectorizer()\n",
        "cv_2_fit=cv_1.fit(stem)\n",
        "st=len(cv_2_fit.vocabulary_)\n",
        "print(st)"
      ],
      "execution_count": 26,
      "outputs": [
        {
          "output_type": "stream",
          "text": [
            "96696\n"
          ],
          "name": "stdout"
        }
      ]
    },
    {
      "cell_type": "code",
      "metadata": {
        "id": "57MbhvFPnG8V",
        "colab_type": "code",
        "colab": {}
      },
      "source": [
        "stem=df.t.tolist()"
      ],
      "execution_count": 27,
      "outputs": []
    },
    {
      "cell_type": "code",
      "metadata": {
        "id": "zzLlZXx3nHrC",
        "colab_type": "code",
        "colab": {
          "base_uri": "https://localhost:8080/",
          "height": 34
        },
        "outputId": "ba2ea1f8-872b-4083-c366-35bf82add480"
      },
      "source": [
        "#lemmitization\n",
        "cv_4 = CountVectorizer(lm)\n",
        "cv_4_fit=cv_4.fit(lm)\n",
        "l=len(cv_4_fit.vocabulary_)\n",
        "print(s)"
      ],
      "execution_count": 28,
      "outputs": [
        {
          "output_type": "stream",
          "text": [
            "121919\n"
          ],
          "name": "stdout"
        }
      ]
    },
    {
      "cell_type": "code",
      "metadata": {
        "id": "yEHbGOxymGh6",
        "colab_type": "code",
        "colab": {
          "base_uri": "https://localhost:8080/",
          "height": 102
        },
        "outputId": "c4d7241f-6a93-4734-b6aa-c6fc48a041ad"
      },
      "source": [
        "#vector with vocabulary\n",
        "data = {'Type': ['None','Stopwords','Stemming','Lemmitization'],\n",
        "        'VocabularySize': [nc,s,st,l]\n",
        "        }\n",
        "\n",
        "dlen = pd.DataFrame(data, columns = ['Type', 'VocabularySize'])\n",
        "\n",
        "print (dlen)"
      ],
      "execution_count": 29,
      "outputs": [
        {
          "output_type": "stream",
          "text": [
            "            Type  VocabularySize\n",
            "0           None          122002\n",
            "1      Stopwords          121919\n",
            "2       Stemming           96696\n",
            "3  Lemmitization           96491\n"
          ],
          "name": "stdout"
        }
      ]
    },
    {
      "cell_type": "code",
      "metadata": {
        "id": "wQ5q-v8W7z0L",
        "colab_type": "code",
        "colab": {
          "base_uri": "https://localhost:8080/",
          "height": 281
        },
        "outputId": "a1d16abf-fd3e-454e-ed1f-4a4e1bc11bb5"
      },
      "source": [
        "plt.bar(dlen['Type'],dlen['VocabularySize'])\n",
        "\n",
        "\n",
        "#for index, value in enumerate(x):\n",
        "   # plt.text(value, index, str(value))\n"
      ],
      "execution_count": 30,
      "outputs": [
        {
          "output_type": "execute_result",
          "data": {
            "text/plain": [
              "<BarContainer object of 4 artists>"
            ]
          },
          "metadata": {
            "tags": []
          },
          "execution_count": 30
        },
        {
          "output_type": "display_data",
          "data": {
            "image/png": "[encoded data removed]",
            "text/plain": [
              "<Figure size 432x288 with 1 Axes>"
            ]
          },
          "metadata": {
            "tags": [],
            "needs_background": "light"
          }
        }
      ]
    },
    {
      "cell_type": "code",
      "metadata": {
        "id": "TMneC2RoELy0",
        "colab_type": "code",
        "colab": {
          "base_uri": "https://localhost:8080/",
          "height": 34
        },
        "outputId": "4f788b57-e14c-45c9-b350-ade2540c153b"
      },
      "source": [
        "x=dlen['VocabularySize'].values\n",
        "x"
      ],
      "execution_count": 31,
      "outputs": [
        {
          "output_type": "execute_result",
          "data": {
            "text/plain": [
              "array([122002, 121919,  96696,  96491])"
            ]
          },
          "metadata": {
            "tags": []
          },
          "execution_count": 31
        }
      ]
    },
    {
      "cell_type": "code",
      "metadata": {
        "id": "3wXzQ3_PjaCw",
        "colab_type": "code",
        "colab": {
          "base_uri": "https://localhost:8080/",
          "height": 273
        },
        "outputId": "0ae8ee62-fac0-4a89-8683-96e9e3e95fb4"
      },
      "source": [
        "x_pos = [i for i, _ in enumerate(x)]\n",
        "fig, ax = plt.subplots()\n",
        "\n",
        "y=dlen['Type'].values\n",
        "x_pos = [i for i, _ in enumerate(y)]\n",
        "rects1 = ax.bar(y, x, color='b')\n",
        "def autolabel(rects):\n",
        "    \"\"\"\n",
        "    Attach a text label above each bar displaying its height\n",
        "    \"\"\"\n",
        "    for rect in rects:\n",
        "        height = rect.get_height()\n",
        "        ax.text(rect.get_x() + rect.get_width()/2., 1.05*height, height\n",
        "              )\n",
        "autolabel(rects1)"
      ],
      "execution_count": 32,
      "outputs": [
        {
          "output_type": "display_data",
          "data": {
            "image/png": "[encoded data removed]",
            "text/plain": [
              "<Figure size 432x288 with 1 Axes>"
            ]
          },
          "metadata": {
            "tags": [],
            "needs_background": "light"
          }
        }
      ]
    },
    {
      "cell_type": "markdown",
      "metadata": {
        "id": "uGeMsBu6SJof",
        "colab_type": "text"
      },
      "source": [
        "x_pos"
      ]
    },
    {
      "cell_type": "code",
      "metadata": {
        "id": "tKSbZbY4S1cg",
        "colab_type": "code",
        "colab": {}
      },
      "source": [
        "#list of true and fake vocab\n",
        "docs_true = df.t[df.category==1].tolist()\n",
        "docs_fake = df.t[df.category==0].tolist()"
      ],
      "execution_count": 33,
      "outputs": []
    },
    {
      "cell_type": "code",
      "metadata": {
        "id": "nu0Y_dkj4KQh",
        "colab_type": "code",
        "colab": {}
      },
      "source": [
        "#counts of words in true words\n",
        "from sklearn.feature_extraction.text import TfidfVectorizer\n",
        "cv_true = CountVectorizer(docs_true,ngram_range=(1,1))\n",
        "count_vector_true=cv_true.fit_transform(docs_true)\n",
        "\n"
      ],
      "execution_count": 34,
      "outputs": []
    },
    {
      "cell_type": "code",
      "metadata": {
        "id": "o1zv-mDibqKU",
        "colab_type": "code",
        "colab": {}
      },
      "source": [
        "#counts of words in fake words\n",
        "from sklearn.feature_extraction.text import TfidfVectorizer\n",
        "cv_fake = CountVectorizer(docs_fake,ngram_range=(1,1))\n",
        "count_vector_fake=cv_fake.fit_transform(docs_fake)"
      ],
      "execution_count": 35,
      "outputs": []
    },
    {
      "cell_type": "code",
      "metadata": {
        "id": "f7TuwTuqtOGQ",
        "colab_type": "code",
        "colab": {}
      },
      "source": [
        "#function to sort common terms in vector\n",
        "def sort_coo(coo_matrix):\n",
        "    tuples = zip(coo_matrix.col, coo_matrix.data)\n",
        "    return sorted(tuples, key=lambda x: (x[1], x[0]), reverse=True)\n",
        " \n",
        "def extract_topn_from_vector(feature_names, sorted_items, topn=10):\n",
        "    \"\"\"return n-gram counts in descending order of counts\"\"\"\n",
        "    \n",
        "    #use only topn items from vector\n",
        "    sorted_items = sorted_items[:topn]\n",
        " \n",
        "    results=[]\n",
        "    \n",
        "    # word index, count i\n",
        "    for idx, count in sorted_items:\n",
        "        \n",
        "        # get the ngram name\n",
        "        n_gram=feature_names[idx]\n",
        "        \n",
        "        # collect as a list of tuples\n",
        "        results.append((n_gram,count))\n",
        " \n",
        "    return results"
      ],
      "execution_count": 36,
      "outputs": []
    },
    {
      "cell_type": "code",
      "metadata": {
        "id": "Gcko6bZitmzZ",
        "colab_type": "code",
        "colab": {
          "base_uri": "https://localhost:8080/",
          "height": 34
        },
        "outputId": "e51cfcad-d5d6-4823-b8ea-a531dcf16e95"
      },
      "source": [
        "#print common terms in true news\n",
        "sorted_items=sort_coo(count_vector_true[0].tocoo())\n",
        " \n",
        "#Get feature names (words/n-grams). It is sorted by position in sparse matrix\n",
        "feature_names=cv_true.get_feature_names()\n",
        "n_grams=extract_topn_from_vector(feature_names,sorted_items,10)\n",
        "print(n_grams) "
      ],
      "execution_count": 37,
      "outputs": [
        {
          "output_type": "stream",
          "text": [
            "[('republican', 14), ('tax', 8), ('said', 8), ('trump', 7), ('program', 7), ('hous', 7), ('spend', 6), ('democrat', 6), ('budget', 5), ('want', 4)]\n"
          ],
          "name": "stdout"
        }
      ]
    },
    {
      "cell_type": "code",
      "metadata": {
        "colab_type": "code",
        "id": "vDs0oOzubA8H",
        "colab": {
          "base_uri": "https://localhost:8080/",
          "height": 34
        },
        "outputId": "f53e2c02-b10b-4224-dbb4-b66a54b956a3"
      },
      "source": [
        "#print common terms in fake news\n",
        "sorted_items=sort_coo(count_vector_fake[0].tocoo())\n",
        " \n",
        "#Get feature names (words/n-grams). It is sorted by position in sparse matrix\n",
        "feature_names=cv_fake.get_feature_names()\n",
        "n_grams=extract_topn_from_vector(feature_names,sorted_items,10)\n",
        "print(n_grams) "
      ],
      "execution_count": 38,
      "outputs": [
        {
          "output_type": "stream",
          "text": [
            "[('year', 18), ('decemb', 13), ('31', 13), ('new', 11), ('trump', 7), ('hater', 6), ('happi', 6), ('wish', 5), ('enemi', 5), ('tweet', 4)]\n"
          ],
          "name": "stdout"
        }
      ]
    },
    {
      "cell_type": "code",
      "metadata": {
        "id": "B3CLjAnubLsM",
        "colab_type": "code",
        "colab": {}
      },
      "source": [
        "#term frequency vector with inverse document frequency true\n",
        "from sklearn.feature_extraction.text import TfidfVectorizer\n",
        "tf_true = TfidfVectorizer(docs_true,ngram_range=(1,1), use_idf=True)\n",
        "tf_vector_true=tf_true.fit_transform(docs_true)"
      ],
      "execution_count": 39,
      "outputs": []
    },
    {
      "cell_type": "code",
      "metadata": {
        "id": "3FfH5OjVf-cm",
        "colab_type": "code",
        "colab": {
          "base_uri": "https://localhost:8080/",
          "height": 54
        },
        "outputId": "03a4519e-ad6e-4f26-8433-7ff42323026c"
      },
      "source": [
        "#tf idf common terms one grams true\n",
        "sorted_items=sort_coo(tf_vector_true[0].tocoo())\n",
        " \n",
        "#Get feature names (words/n-grams). It is sorted by position in sparse matrix\n",
        "feature_names=tf_true.get_feature_names()\n",
        "n_grams=extract_topn_from_vector(feature_names,sorted_items,10)\n",
        "print(n_grams) \n"
      ],
      "execution_count": 40,
      "outputs": [
        {
          "output_type": "stream",
          "text": [
            "[('republican', 0.25296116577561806), ('meadow', 0.23128470232107037), ('tax', 0.22426091392924166), ('crowley', 0.22237165988650376), ('discretionari', 0.18586974888107632), ('spend', 0.18358453549257875), ('program', 0.1831457382566679), ('budget', 0.15325943478566115), ('fiscal', 0.14440717238332235), ('cb', 0.14403788736304302)]\n"
          ],
          "name": "stdout"
        }
      ]
    },
    {
      "cell_type": "code",
      "metadata": {
        "id": "maeJySlUg7zn",
        "colab_type": "code",
        "colab": {}
      },
      "source": [
        "#term frequency vector with inverse document frequency fake\n",
        "from sklearn.feature_extraction.text import TfidfVectorizer\n",
        "tf_fake = TfidfVectorizer(docs_fake,ngram_range=(1,1))\n",
        "tf_vectorfake=tf_fake.fit_transform(docs_fake)"
      ],
      "execution_count": 41,
      "outputs": []
    },
    {
      "cell_type": "code",
      "metadata": {
        "id": "aXkbpKZ1hSIy",
        "colab_type": "code",
        "colab": {
          "base_uri": "https://localhost:8080/",
          "height": 54
        },
        "outputId": "0a6d6899-6d83-4937-e978-cbb775c1fc7f"
      },
      "source": [
        "#tf idf common terms one grams fake\n",
        "sorted_items=sort_coo(tf_vectorfake[0].tocoo())\n",
        " \n",
        "#Get feature names (words/n-grams). It is sorted by position in sparse matrix\n",
        "feature_names=tf_fake.get_feature_names()\n",
        "n_grams=extract_topn_from_vector(feature_names,sorted_items,10)\n",
        "print(n_grams) "
      ],
      "execution_count": 42,
      "outputs": [
        {
          "output_type": "stream",
          "text": [
            "[('31', 0.4659785429466534), ('decemb', 0.3820029865643018), ('year', 0.25400585633046047), ('hater', 0.25125264053220775), ('happi', 0.18577357612083034), ('new', 0.17029503253793088), ('enemi', 0.16368755042657024), ('wish', 0.1555986889582117), ('dishonest', 0.12281316602649134), ('2018', 0.12130345018704745)]\n"
          ],
          "name": "stdout"
        }
      ]
    },
    {
      "cell_type": "code",
      "metadata": {
        "id": "upqnexPljBb5",
        "colab_type": "code",
        "colab": {}
      },
      "source": [
        "#term frequency vector with inverse document frequency true bigrams\n",
        "from sklearn.feature_extraction.text import TfidfVectorizer\n",
        "tf_true = TfidfVectorizer(docs_true,ngram_range=(1,2))\n",
        "tf_vector_true=tf_true.fit_transform(docs_true)\n"
      ],
      "execution_count": 43,
      "outputs": []
    },
    {
      "cell_type": "code",
      "metadata": {
        "id": "NqF74nI3vDZT",
        "colab_type": "code",
        "colab": {
          "base_uri": "https://localhost:8080/",
          "height": 54
        },
        "outputId": "b5935aab-c49d-4726-eb66-bb0dcda3b89b"
      },
      "source": [
        "#top 10 true bigrams of count vector\n",
        "sorted_items=sort_coo(tf_vector_true[0].tocoo())\n",
        " \n",
        "#Get feature names (words/n-grams). It is sorted by position in sparse matrix\n",
        "feature_names=tf_true.get_feature_names()\n",
        "n_grams=extract_topn_from_vector(feature_names,sorted_items,10)\n",
        "print(n_grams) "
      ],
      "execution_count": 44,
      "outputs": [
        {
          "output_type": "stream",
          "text": [
            "[('republican', 0.13673065850005806), ('crowley said', 0.13524516315976054), ('meadow', 0.12501408883212045), ('tax', 0.12121758825451136), ('crowley', 0.12019640799332222), ('non defens', 0.10464949002754803), ('discretionari', 0.10046638218884886), ('spend', 0.09923117784250433), ('program', 0.098993999005863), ('link issu', 0.09016344210650704)]\n"
          ],
          "name": "stdout"
        }
      ]
    },
    {
      "cell_type": "markdown",
      "metadata": {
        "id": "IoTBrpHz0ik4",
        "colab_type": "text"
      },
      "source": [
        ""
      ]
    },
    {
      "cell_type": "code",
      "metadata": {
        "id": "p1JynQiqvTu3",
        "colab_type": "code",
        "colab": {}
      },
      "source": [
        "#term frequency vector with inverse document frequency fake bigrams\n",
        "from sklearn.feature_extraction.text import TfidfVectorizer\n",
        "tf_fake = TfidfVectorizer(docs_fake,ngram_range=(1,2))\n",
        "tf_vectorfake=tf_fake.fit_transform(docs_fake)"
      ],
      "execution_count": 45,
      "outputs": []
    },
    {
      "cell_type": "code",
      "metadata": {
        "id": "TO1gZQAsu22r",
        "colab_type": "code",
        "colab": {
          "base_uri": "https://localhost:8080/",
          "height": 54
        },
        "outputId": "f497e37a-a8fb-410b-dd0e-ad3ca438fd75"
      },
      "source": [
        "#top 10 fake bigrams of tfidf vector\n",
        "sorted_items=sort_coo(tf_vectorfake[0].tocoo())\n",
        " \n",
        "#Get feature names (words/n-grams). It is sorted by position in sparse matrix\n",
        "feature_names=tf_fake.get_feature_names()\n",
        "n_grams=extract_topn_from_vector(feature_names,sorted_items,10)\n",
        "print(n_grams) "
      ],
      "execution_count": 46,
      "outputs": [
        {
          "output_type": "stream",
          "text": [
            "[('decemb 31', 0.39659719390658743), ('31', 0.25765641549100615), ('new year', 0.2377421605772577), ('decemb', 0.21122328852872743), ('enemi hater', 0.1593805607563756), ('year', 0.14044903879473783), ('hater', 0.1389266860504137), ('happi new', 0.13163834042260206), ('2018 great', 0.11953542056728171), ('dishonest fake', 0.1134080302247156)]\n"
          ],
          "name": "stdout"
        }
      ]
    },
    {
      "cell_type": "markdown",
      "metadata": {
        "id": "gE04R15R7UY-",
        "colab_type": "text"
      },
      "source": [
        ""
      ]
    },
    {
      "cell_type": "code",
      "metadata": {
        "id": "99XfK72Fvggw",
        "colab_type": "code",
        "colab": {}
      },
      "source": [
        ""
      ],
      "execution_count": 46,
      "outputs": []
    },
    {
      "cell_type": "code",
      "metadata": {
        "id": "6ZAlbu6jVAZZ",
        "colab_type": "code",
        "colab": {
          "base_uri": "https://localhost:8080/",
          "height": 282
        },
        "outputId": "f181dc6f-729d-4862-e9d2-7b82fe55a384"
      },
      "source": [
        "df.head()"
      ],
      "execution_count": 47,
      "outputs": [
        {
          "output_type": "execute_result",
          "data": {
            "text/html": [
              "<div>\n",
              "<style scoped>\n",
              "    .dataframe tbody tr th:only-of-type {\n",
              "        vertical-align: middle;\n",
              "    }\n",
              "\n",
              "    .dataframe tbody tr th {\n",
              "        vertical-align: top;\n",
              "    }\n",
              "\n",
              "    .dataframe thead th {\n",
              "        text-align: right;\n",
              "    }\n",
              "</style>\n",
              "<table border=\"1\" class=\"dataframe\">\n",
              "  <thead>\n",
              "    <tr style=\"text-align: right;\">\n",
              "      <th></th>\n",
              "      <th>title</th>\n",
              "      <th>text</th>\n",
              "      <th>subject</th>\n",
              "      <th>date</th>\n",
              "      <th>category</th>\n",
              "      <th>totalwords</th>\n",
              "      <th>class</th>\n",
              "      <th>titlewords</th>\n",
              "      <th>CleanText</th>\n",
              "      <th>text_final</th>\n",
              "      <th>t</th>\n",
              "      <th>tl</th>\n",
              "    </tr>\n",
              "  </thead>\n",
              "  <tbody>\n",
              "    <tr>\n",
              "      <th>0</th>\n",
              "      <td>As U.S. budget fight looms, Republicans flip t...</td>\n",
              "      <td>WASHINGTON (Reuters) - The head of a conservat...</td>\n",
              "      <td>politicsNews</td>\n",
              "      <td>December 31, 2017</td>\n",
              "      <td>1</td>\n",
              "      <td>749</td>\n",
              "      <td>True</td>\n",
              "      <td>10</td>\n",
              "      <td>[WASHINGTON, Reuters, head, conservative, Repu...</td>\n",
              "      <td>washington reuters head conservative republica...</td>\n",
              "      <td>washington reuter head conserv republican fact...</td>\n",
              "      <td>washington reuter head conserv republican fact...</td>\n",
              "    </tr>\n",
              "    <tr>\n",
              "      <th>1</th>\n",
              "      <td>U.S. military to accept transgender recruits o...</td>\n",
              "      <td>WASHINGTON (Reuters) - Transgender people will...</td>\n",
              "      <td>politicsNews</td>\n",
              "      <td>December 29, 2017</td>\n",
              "      <td>1</td>\n",
              "      <td>624</td>\n",
              "      <td>True</td>\n",
              "      <td>9</td>\n",
              "      <td>[WASHINGTON, Reuters, Transgender, people, all...</td>\n",
              "      <td>washington reuters transgender people allowed ...</td>\n",
              "      <td>washington reuter transgend peopl allow first ...</td>\n",
              "      <td>washington reuter transgend peopl allow first ...</td>\n",
              "    </tr>\n",
              "    <tr>\n",
              "      <th>2</th>\n",
              "      <td>Senior U.S. Republican senator: 'Let Mr. Muell...</td>\n",
              "      <td>WASHINGTON (Reuters) - The special counsel inv...</td>\n",
              "      <td>politicsNews</td>\n",
              "      <td>December 31, 2017</td>\n",
              "      <td>1</td>\n",
              "      <td>457</td>\n",
              "      <td>True</td>\n",
              "      <td>10</td>\n",
              "      <td>[WASHINGTON, Reuters, special, counsel, invest...</td>\n",
              "      <td>washington reuters special counsel investigati...</td>\n",
              "      <td>washington reuter special counsel investig lin...</td>\n",
              "      <td>washington reuter special counsel investig lin...</td>\n",
              "    </tr>\n",
              "    <tr>\n",
              "      <th>3</th>\n",
              "      <td>FBI Russia probe helped by Australian diplomat...</td>\n",
              "      <td>WASHINGTON (Reuters) - Trump campaign adviser ...</td>\n",
              "      <td>politicsNews</td>\n",
              "      <td>December 30, 2017</td>\n",
              "      <td>1</td>\n",
              "      <td>376</td>\n",
              "      <td>True</td>\n",
              "      <td>9</td>\n",
              "      <td>[WASHINGTON, Reuters, Trump, campaign, adviser...</td>\n",
              "      <td>washington reuters trump campaign adviser geor...</td>\n",
              "      <td>washington reuter trump campaign advis georg p...</td>\n",
              "      <td>washington reuter trump campaign advis georg p...</td>\n",
              "    </tr>\n",
              "    <tr>\n",
              "      <th>4</th>\n",
              "      <td>Trump wants Postal Service to charge 'much mor...</td>\n",
              "      <td>SEATTLE/WASHINGTON (Reuters) - President Donal...</td>\n",
              "      <td>politicsNews</td>\n",
              "      <td>December 29, 2017</td>\n",
              "      <td>1</td>\n",
              "      <td>852</td>\n",
              "      <td>True</td>\n",
              "      <td>11</td>\n",
              "      <td>[SEATTLEWASHINGTON, Reuters, President, Donald...</td>\n",
              "      <td>seattle/washington reuters president donald tr...</td>\n",
              "      <td>seattle/washington reuter presid donald trump ...</td>\n",
              "      <td>seattle/washington reuter presid donald trump ...</td>\n",
              "    </tr>\n",
              "  </tbody>\n",
              "</table>\n",
              "</div>"
            ],
            "text/plain": [
              "                                               title  ...                                                 tl\n",
              "0  As U.S. budget fight looms, Republicans flip t...  ...  washington reuter head conserv republican fact...\n",
              "1  U.S. military to accept transgender recruits o...  ...  washington reuter transgend peopl allow first ...\n",
              "2  Senior U.S. Republican senator: 'Let Mr. Muell...  ...  washington reuter special counsel investig lin...\n",
              "3  FBI Russia probe helped by Australian diplomat...  ...  washington reuter trump campaign advis georg p...\n",
              "4  Trump wants Postal Service to charge 'much mor...  ...  seattle/washington reuter presid donald trump ...\n",
              "\n",
              "[5 rows x 12 columns]"
            ]
          },
          "metadata": {
            "tags": []
          },
          "execution_count": 47
        }
      ]
    }
  ]
}