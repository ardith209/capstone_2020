{
  "nbformat": 4,
  "nbformat_minor": 0,
  "metadata": {
    "colab": {
      "name": "Untitled7.ipynb",
      "provenance": [],
      "collapsed_sections": []
    },
    "kernelspec": {
      "name": "python3",
      "display_name": "Python 3"
    }
  },
  "cells": [
    {
      "cell_type": "code",
      "metadata": {
        "id": "Pg9TSCuxsGpa",
        "colab_type": "code",
        "colab": {
          "base_uri": "https://localhost:8080/",
          "height": 68
        },
        "outputId": "4464e50a-ac1e-4c8d-c3cd-2de721050eca"
      },
      "source": [
        "import numpy as np \n",
        "import pandas as pd\n",
        "import tensorflow as tf\n",
        "from nltk.corpus import stopwords           #for using stopwords\n",
        "from nltk.stem.porter import PorterStemmer  # for stemming\n",
        "import nltk\n",
        "nltk.download('stopwords')"
      ],
      "execution_count": null,
      "outputs": [
        {
          "output_type": "stream",
          "text": [
            "[nltk_data] Downloading package stopwords to /root/nltk_data...\n",
            "[nltk_data]   Package stopwords is already up-to-date!\n"
          ],
          "name": "stdout"
        },
        {
          "output_type": "execute_result",
          "data": {
            "text/plain": [
              "True"
            ]
          },
          "metadata": {
            "tags": []
          },
          "execution_count": 9
        }
      ]
    },
    {
      "cell_type": "code",
      "metadata": {
        "id": "KUwrRZCDsMnd",
        "colab_type": "code",
        "colab": {}
      },
      "source": [
        "import os\n",
        "os.chdir('/content/drive/My Drive')\n",
        "t=pd.read_csv('True.csv')\n",
        "f=pd.read_csv('Fake.csv')"
      ],
      "execution_count": null,
      "outputs": []
    },
    {
      "cell_type": "code",
      "metadata": {
        "id": "aoman-2ksSCL",
        "colab_type": "code",
        "colab": {}
      },
      "source": [
        "t['category'] = 1\n",
        "f['category'] = 0\n",
        "\n",
        "df = pd.concat([t,f])"
      ],
      "execution_count": null,
      "outputs": []
    },
    {
      "cell_type": "code",
      "metadata": {
        "id": "19BYvgvZIsDC",
        "colab_type": "code",
        "colab": {
          "base_uri": "https://localhost:8080/",
          "height": 51
        },
        "outputId": "7801b1a2-a14f-4aa2-efd4-ac38456e1190"
      },
      "source": [
        "\n",
        "import statsmodels.formula.api as sm\n",
        "r = sm.ols(formula=\"category ~ date\", data=df).fit()\n",
        "\n",
        "#m = sm.OLS(dm.data['date'].to,dm.data['category'])"
      ],
      "execution_count": null,
      "outputs": [
        {
          "output_type": "stream",
          "text": [
            "/usr/local/lib/python3.6/dist-packages/statsmodels/tools/_testing.py:19: FutureWarning: pandas.util.testing is deprecated. Use the functions in the public API at pandas.testing instead.\n",
            "  import pandas.util.testing as tm\n"
          ],
          "name": "stderr"
        }
      ]
    },
    {
      "cell_type": "code",
      "metadata": {
        "id": "yl1HThNqeTGq",
        "colab_type": "code",
        "colab": {}
      },
      "source": [
        "d2=df.sort_values(by='date')\n",
        "d2['S_10'] = d2['category'].rolling(window=10).mean()\n"
      ],
      "execution_count": null,
      "outputs": []
    },
    {
      "cell_type": "code",
      "metadata": {
        "id": "rWRTsdtWhrLZ",
        "colab_type": "code",
        "colab": {
          "base_uri": "https://localhost:8080/",
          "height": 197
        },
        "outputId": "8680d4fc-35f4-449a-c8ff-19e50dfd79c0"
      },
      "source": [
        "d2['p'] = np.where(d2['S_10']>0.5, 1, 0)\n",
        "d2['match'] = np.where(d2['category']==d2['p'],1,0)\n"
      ],
      "execution_count": null,
      "outputs": [
        {
          "output_type": "error",
          "ename": "AttributeError",
          "evalue": "ignored",
          "traceback": [
            "\u001b[0;31m---------------------------------------------------------------------------\u001b[0m",
            "\u001b[0;31mAttributeError\u001b[0m                            Traceback (most recent call last)",
            "\u001b[0;32m<ipython-input-27-3dd145ad74ad>\u001b[0m in \u001b[0;36m<module>\u001b[0;34m()\u001b[0m\n\u001b[1;32m      1\u001b[0m \u001b[0md2\u001b[0m\u001b[0;34m[\u001b[0m\u001b[0;34m'p'\u001b[0m\u001b[0;34m]\u001b[0m \u001b[0;34m=\u001b[0m \u001b[0mnp\u001b[0m\u001b[0;34m.\u001b[0m\u001b[0mwhere\u001b[0m\u001b[0;34m(\u001b[0m\u001b[0md2\u001b[0m\u001b[0;34m[\u001b[0m\u001b[0;34m'S_10'\u001b[0m\u001b[0;34m]\u001b[0m\u001b[0;34m>\u001b[0m\u001b[0;36m0.5\u001b[0m\u001b[0;34m,\u001b[0m \u001b[0;36m1\u001b[0m\u001b[0;34m,\u001b[0m \u001b[0;36m0\u001b[0m\u001b[0;34m)\u001b[0m\u001b[0;34m\u001b[0m\u001b[0;34m\u001b[0m\u001b[0m\n\u001b[1;32m      2\u001b[0m \u001b[0md2\u001b[0m\u001b[0;34m[\u001b[0m\u001b[0;34m'match'\u001b[0m\u001b[0;34m]\u001b[0m \u001b[0;34m=\u001b[0m \u001b[0mnp\u001b[0m\u001b[0;34m.\u001b[0m\u001b[0mwhere\u001b[0m\u001b[0;34m(\u001b[0m\u001b[0md2\u001b[0m\u001b[0;34m[\u001b[0m\u001b[0;34m'category'\u001b[0m\u001b[0;34m]\u001b[0m\u001b[0;34m==\u001b[0m\u001b[0md2\u001b[0m\u001b[0;34m[\u001b[0m\u001b[0;34m'p'\u001b[0m\u001b[0;34m]\u001b[0m\u001b[0;34m,\u001b[0m\u001b[0;36m1\u001b[0m\u001b[0;34m,\u001b[0m\u001b[0;36m0\u001b[0m\u001b[0;34m)\u001b[0m\u001b[0;34m\u001b[0m\u001b[0;34m\u001b[0m\u001b[0m\n\u001b[0;32m----> 3\u001b[0;31m \u001b[0md2\u001b[0m\u001b[0;34m[\u001b[0m\u001b[0;34m'match'\u001b[0m\u001b[0;34m]\u001b[0m\u001b[0;34m.\u001b[0m\u001b[0mvalues\u001b[0m\u001b[0;34m.\u001b[0m\u001b[0mcounts\u001b[0m\u001b[0;34m(\u001b[0m\u001b[0;34m)\u001b[0m\u001b[0;34m\u001b[0m\u001b[0;34m\u001b[0m\u001b[0m\n\u001b[0m",
            "\u001b[0;31mAttributeError\u001b[0m: 'numpy.ndarray' object has no attribute 'counts'"
          ]
        }
      ]
    },
    {
      "cell_type": "code",
      "metadata": {
        "id": "EDGON6cBu5Gp",
        "colab_type": "code",
        "colab": {
          "base_uri": "https://localhost:8080/",
          "height": 349
        },
        "outputId": "a8a8a24d-ddcc-44d6-e02a-9064957b2665"
      },
      "source": [
        "\n",
        "import matplotlib.pyplot as plt\n",
        "plt.hist(f['date'])"
      ],
      "execution_count": null,
      "outputs": [
        {
          "output_type": "execute_result",
          "data": {
            "text/plain": [
              "(array([1195., 2870., 2742., 3540., 2621., 2540., 2567., 2247., 1670.,\n",
              "        1489.]),\n",
              " array([   0.,  168.,  336.,  504.,  672.,  840., 1008., 1176., 1344.,\n",
              "        1512., 1680.]),\n",
              " <a list of 10 Patch objects>)"
            ]
          },
          "metadata": {
            "tags": []
          },
          "execution_count": 31
        },
        {
          "output_type": "display_data",
          "data": {
            "image/png": "[encoded data removed]",
            "text/plain": [
              "<Figure size 432x288 with 1 Axes>"
            ]
          },
          "metadata": {
            "tags": [],
            "needs_background": "light"
          }
        }
      ]
    },
    {
      "cell_type": "code",
      "metadata": {
        "id": "gDuVTjgqMpqV",
        "colab_type": "code",
        "colab": {}
      },
      "source": [
        "import regex as re\n",
        "\n",
        "import nltk\n",
        "from nltk.corpus import stopwords\n",
        "\n",
        "cached_stopwords = stopwords.words('english')\n",
        "porter = PorterStemmer()"
      ],
      "execution_count": null,
      "outputs": []
    },
    {
      "cell_type": "code",
      "metadata": {
        "id": "8HCQBOnPMlNN",
        "colab_type": "code",
        "colab": {}
      },
      "source": [
        "\n",
        "def replace_spec(text):\n",
        "    regex = r'[^a-zA-z0-9/s]'\n",
        "    text = re.sub(regex, ' ', text)\n",
        "    return text\n",
        "\n",
        "def process_title(title):\n",
        "  \n",
        "    title = title.lower()\n",
        "    title = replace_spec(title)\n",
        "    title=re.sub(\"donald trump\",\"trump \",title)    \n",
        "  \n",
        "    title_list = str.split(title)\n",
        "    \n",
        "    final_title =[]\n",
        "\n",
        "    for item in title_list:\n",
        "        if item not in cached_stopwords:\n",
        "            final_title.append(item)\n",
        "    \n",
        "    return \" \".join(final_title)"
      ],
      "execution_count": null,
      "outputs": []
    },
    {
      "cell_type": "code",
      "metadata": {
        "id": "GXdWJT-jMviK",
        "colab_type": "code",
        "colab": {}
      },
      "source": [
        "df['text_final'] = df.text.apply(process_title)"
      ],
      "execution_count": null,
      "outputs": []
    },
    {
      "cell_type": "code",
      "metadata": {
        "id": "eQY_IDmLNcDD",
        "colab_type": "code",
        "colab": {}
      },
      "source": [
        "import time\n",
        "import numpy as np\n",
        "\n",
        "from sklearn.model_selection import train_test_split\n",
        "from sklearn.model_selection import cross_val_score\n",
        "from sklearn.feature_extraction.text import TfidfVectorizer\n",
        "from sklearn.naive_bayes import MultinomialNB\n",
        "from sklearn.metrics import classification_report"
      ],
      "execution_count": null,
      "outputs": []
    },
    {
      "cell_type": "code",
      "metadata": {
        "id": "UFXRqRizkMTq",
        "colab_type": "code",
        "colab": {}
      },
      "source": [
        "from sklearn.feature_extraction.text import CountVectorizer"
      ],
      "execution_count": null,
      "outputs": []
    },
    {
      "cell_type": "code",
      "metadata": {
        "id": "c29mWVdb958a",
        "colab_type": "code",
        "colab": {}
      },
      "source": [
        "from nltk.tokenize import sent_tokenize, word_tokenize"
      ],
      "execution_count": null,
      "outputs": []
    },
    {
      "cell_type": "code",
      "metadata": {
        "id": "OP3LaAsI-nCw",
        "colab_type": "code",
        "colab": {
          "base_uri": "https://localhost:8080/",
          "height": 68
        },
        "outputId": "4e0eb86e-73f9-423c-f0da-89815346db99"
      },
      "source": [
        "nltk.download('punkt')"
      ],
      "execution_count": null,
      "outputs": [
        {
          "output_type": "stream",
          "text": [
            "[nltk_data] Downloading package punkt to /root/nltk_data...\n",
            "[nltk_data]   Unzipping tokenizers/punkt.zip.\n"
          ],
          "name": "stdout"
        },
        {
          "output_type": "execute_result",
          "data": {
            "text/plain": [
              "True"
            ]
          },
          "metadata": {
            "tags": []
          },
          "execution_count": 12
        }
      ]
    },
    {
      "cell_type": "code",
      "metadata": {
        "id": "NVxsd4Ph88JR",
        "colab_type": "code",
        "colab": {}
      },
      "source": [
        "def stemSentence(sentence):\n",
        "    token_words=word_tokenize(sentence)\n",
        "    \n",
        "    stem_sentence=[]\n",
        "    for word in token_words:\n",
        "        stem_sentence.append(porter.stem(word))\n",
        "        stem_sentence.append(\" \")\n",
        "    return \"\".join(stem_sentence)\n"
      ],
      "execution_count": null,
      "outputs": []
    },
    {
      "cell_type": "code",
      "metadata": {
        "id": "dG7E38Mi3ayU",
        "colab_type": "code",
        "colab": {}
      },
      "source": [
        "df['t'] = df.text_final.apply(stemSentence)\n"
      ],
      "execution_count": null,
      "outputs": []
    },
    {
      "cell_type": "code",
      "metadata": {
        "id": "3TAyL2C0DeZW",
        "colab_type": "code",
        "colab": {}
      },
      "source": [
        "def sort_coo(coo_matrix):\n",
        "    tuples = zip(coo_matrix.col, coo_matrix.data)\n",
        "    return sorted(tuples, key=lambda x: (x[1], x[0]), reverse=True)\n",
        " \n",
        "def extract_topn_from_vector(feature_names, sorted_items, topn=10):\n",
        "    \"\"\"return n-gram counts in descending order of counts\"\"\"\n",
        "    \n",
        "    #use only topn items from vector\n",
        "    sorted_items = sorted_items[:topn]\n",
        " \n",
        "    results=[]\n",
        "    \n",
        "    # word index, count i\n",
        "    for idx, count in sorted_items:\n",
        "        \n",
        "        # get the ngram name\n",
        "        n_gram=feature_names[idx]\n",
        "        \n",
        "        # collect as a list of tuples\n",
        "        results.append((n_gram,count))\n",
        " \n",
        "    return results\n",
        " \n"
      ],
      "execution_count": null,
      "outputs": []
    },
    {
      "cell_type": "markdown",
      "metadata": {
        "id": "IzDfBzYjNGOp",
        "colab_type": "text"
      },
      "source": [
        ""
      ]
    },
    {
      "cell_type": "code",
      "metadata": {
        "id": "1FZLQ8DwMQCf",
        "colab_type": "code",
        "colab": {}
      },
      "source": [
        "docs = df.t.tolist()"
      ],
      "execution_count": null,
      "outputs": []
    },
    {
      "cell_type": "code",
      "metadata": {
        "id": "xtM4_X16tBw9",
        "colab_type": "code",
        "colab": {}
      },
      "source": [
        "from sklearn.feature_extraction.text import CountVectorizer, TfidfVectorizer\n",
        "vectorizer = CountVectorizer()\n",
        "cv = TfidfVectorizer(docs, use_idf=True)\n",
        "count_vector=cv.fit_transform(docs)"
      ],
      "execution_count": null,
      "outputs": []
    },
    {
      "cell_type": "code",
      "metadata": {
        "id": "E1DlrnGiJOE_",
        "colab_type": "code",
        "colab": {}
      },
      "source": [
        "x=pd.DataFrame.sparse.from_spmatrix(tdata, columns=ft)"
      ],
      "execution_count": null,
      "outputs": []
    },
    {
      "cell_type": "code",
      "metadata": {
        "id": "mIFp_y7DChNH",
        "colab_type": "code",
        "colab": {
          "base_uri": "https://localhost:8080/",
          "height": 231
        },
        "outputId": "c5b8ec1c-f268-4b53-bda6-f13e44f21b8f"
      },
      "source": [
        "sorted_items=sort_coo(count_vector[0].tocoo())\n",
        " \n",
        "#Get feature names (words/n-grams). It is sorted by position in sparse matrix\n",
        "feature_names=cv.get_feature_names()\n",
        "n_grams=extract_topn_from_vector(feature_names,sorted_items,10)\n",
        "\n",
        "print(n_grams) "
      ],
      "execution_count": null,
      "outputs": [
        {
          "output_type": "error",
          "ename": "NameError",
          "evalue": "ignored",
          "traceback": [
            "\u001b[0;31m---------------------------------------------------------------------------\u001b[0m",
            "\u001b[0;31mNameError\u001b[0m                                 Traceback (most recent call last)",
            "\u001b[0;32m<ipython-input-17-2844b8eda404>\u001b[0m in \u001b[0;36m<module>\u001b[0;34m()\u001b[0m\n\u001b[0;32m----> 1\u001b[0;31m \u001b[0msorted_items\u001b[0m\u001b[0;34m=\u001b[0m\u001b[0msort_coo\u001b[0m\u001b[0;34m(\u001b[0m\u001b[0mcount_vector\u001b[0m\u001b[0;34m[\u001b[0m\u001b[0;36m0\u001b[0m\u001b[0;34m]\u001b[0m\u001b[0;34m.\u001b[0m\u001b[0mtocoo\u001b[0m\u001b[0;34m(\u001b[0m\u001b[0;34m)\u001b[0m\u001b[0;34m)\u001b[0m\u001b[0;34m\u001b[0m\u001b[0;34m\u001b[0m\u001b[0m\n\u001b[0m\u001b[1;32m      2\u001b[0m \u001b[0;34m\u001b[0m\u001b[0m\n\u001b[1;32m      3\u001b[0m \u001b[0;31m#Get feature names (words/n-grams). It is sorted by position in sparse matrix\u001b[0m\u001b[0;34m\u001b[0m\u001b[0;34m\u001b[0m\u001b[0;34m\u001b[0m\u001b[0m\n\u001b[1;32m      4\u001b[0m \u001b[0mfeature_names\u001b[0m\u001b[0;34m=\u001b[0m\u001b[0mcv\u001b[0m\u001b[0;34m.\u001b[0m\u001b[0mget_feature_names\u001b[0m\u001b[0;34m(\u001b[0m\u001b[0;34m)\u001b[0m\u001b[0;34m\u001b[0m\u001b[0;34m\u001b[0m\u001b[0m\n\u001b[1;32m      5\u001b[0m \u001b[0mn_grams\u001b[0m\u001b[0;34m=\u001b[0m\u001b[0mextract_topn_from_vector\u001b[0m\u001b[0;34m(\u001b[0m\u001b[0mfeature_names\u001b[0m\u001b[0;34m,\u001b[0m\u001b[0msorted_items\u001b[0m\u001b[0;34m,\u001b[0m\u001b[0;36m10\u001b[0m\u001b[0;34m)\u001b[0m\u001b[0;34m\u001b[0m\u001b[0;34m\u001b[0m\u001b[0m\n",
            "\u001b[0;31mNameError\u001b[0m: name 'sort_coo' is not defined"
          ]
        }
      ]
    },
    {
      "cell_type": "code",
      "metadata": {
        "id": "W1Orlj2D6ry_",
        "colab_type": "code",
        "colab": {}
      },
      "source": [
        "from sklearn.model_selection import train_test_split\n",
        "from sklearn.model_selection import cross_val_score\n",
        "from sklearn.naive_bayes import MultinomialNB\n",
        "from sklearn.metrics import classification_report"
      ],
      "execution_count": null,
      "outputs": []
    },
    {
      "cell_type": "code",
      "metadata": {
        "id": "r4pWHEQR2CLM",
        "colab_type": "code",
        "colab": {}
      },
      "source": [
        "import matplotlib.pyplot as plt\n",
        "import seaborn as sns\n",
        "import scipy as sp\n",
        "import numpy as np\n",
        "import math as math"
      ],
      "execution_count": null,
      "outputs": []
    },
    {
      "cell_type": "code",
      "metadata": {
        "id": "VdhtjFt97gd1",
        "colab_type": "code",
        "colab": {
          "base_uri": "https://localhost:8080/",
          "height": 197
        },
        "outputId": "e6aad2a0-652b-4124-c14f-56d775aa6248"
      },
      "source": [
        "df.head()"
      ],
      "execution_count": null,
      "outputs": [
        {
          "output_type": "execute_result",
          "data": {
            "text/html": [
              "<div>\n",
              "<style scoped>\n",
              "    .dataframe tbody tr th:only-of-type {\n",
              "        vertical-align: middle;\n",
              "    }\n",
              "\n",
              "    .dataframe tbody tr th {\n",
              "        vertical-align: top;\n",
              "    }\n",
              "\n",
              "    .dataframe thead th {\n",
              "        text-align: right;\n",
              "    }\n",
              "</style>\n",
              "<table border=\"1\" class=\"dataframe\">\n",
              "  <thead>\n",
              "    <tr style=\"text-align: right;\">\n",
              "      <th></th>\n",
              "      <th>title</th>\n",
              "      <th>text</th>\n",
              "      <th>subject</th>\n",
              "      <th>date</th>\n",
              "      <th>category</th>\n",
              "      <th>text_final</th>\n",
              "      <th>t</th>\n",
              "    </tr>\n",
              "  </thead>\n",
              "  <tbody>\n",
              "    <tr>\n",
              "      <th>0</th>\n",
              "      <td>As U.S. budget fight looms, Republicans flip t...</td>\n",
              "      <td>WASHINGTON (Reuters) - The head of a conservat...</td>\n",
              "      <td>politicsNews</td>\n",
              "      <td>December 31, 2017</td>\n",
              "      <td>1</td>\n",
              "      <td>washington reuters head conservative republica...</td>\n",
              "      <td>washington reuter head conserv republican fact...</td>\n",
              "    </tr>\n",
              "    <tr>\n",
              "      <th>1</th>\n",
              "      <td>U.S. military to accept transgender recruits o...</td>\n",
              "      <td>WASHINGTON (Reuters) - Transgender people will...</td>\n",
              "      <td>politicsNews</td>\n",
              "      <td>December 29, 2017</td>\n",
              "      <td>1</td>\n",
              "      <td>washington reuters transgender people allowed ...</td>\n",
              "      <td>washington reuter transgend peopl allow first ...</td>\n",
              "    </tr>\n",
              "    <tr>\n",
              "      <th>2</th>\n",
              "      <td>Senior U.S. Republican senator: 'Let Mr. Muell...</td>\n",
              "      <td>WASHINGTON (Reuters) - The special counsel inv...</td>\n",
              "      <td>politicsNews</td>\n",
              "      <td>December 31, 2017</td>\n",
              "      <td>1</td>\n",
              "      <td>washington reuters special counsel investigati...</td>\n",
              "      <td>washington reuter special counsel investig lin...</td>\n",
              "    </tr>\n",
              "    <tr>\n",
              "      <th>3</th>\n",
              "      <td>FBI Russia probe helped by Australian diplomat...</td>\n",
              "      <td>WASHINGTON (Reuters) - Trump campaign adviser ...</td>\n",
              "      <td>politicsNews</td>\n",
              "      <td>December 30, 2017</td>\n",
              "      <td>1</td>\n",
              "      <td>washington reuters trump campaign adviser geor...</td>\n",
              "      <td>washington reuter trump campaign advis georg p...</td>\n",
              "    </tr>\n",
              "    <tr>\n",
              "      <th>4</th>\n",
              "      <td>Trump wants Postal Service to charge 'much mor...</td>\n",
              "      <td>SEATTLE/WASHINGTON (Reuters) - President Donal...</td>\n",
              "      <td>politicsNews</td>\n",
              "      <td>December 29, 2017</td>\n",
              "      <td>1</td>\n",
              "      <td>seattle/washington reuters president trump cal...</td>\n",
              "      <td>seattle/washington reuter presid trump call u ...</td>\n",
              "    </tr>\n",
              "  </tbody>\n",
              "</table>\n",
              "</div>"
            ],
            "text/plain": [
              "                                               title  ...                                                  t\n",
              "0  As U.S. budget fight looms, Republicans flip t...  ...  washington reuter head conserv republican fact...\n",
              "1  U.S. military to accept transgender recruits o...  ...  washington reuter transgend peopl allow first ...\n",
              "2  Senior U.S. Republican senator: 'Let Mr. Muell...  ...  washington reuter special counsel investig lin...\n",
              "3  FBI Russia probe helped by Australian diplomat...  ...  washington reuter trump campaign advis georg p...\n",
              "4  Trump wants Postal Service to charge 'much mor...  ...  seattle/washington reuter presid trump call u ...\n",
              "\n",
              "[5 rows x 7 columns]"
            ]
          },
          "metadata": {
            "tags": []
          },
          "execution_count": 141
        }
      ]
    },
    {
      "cell_type": "code",
      "metadata": {
        "id": "utac-cGu7Nmc",
        "colab_type": "code",
        "colab": {
          "base_uri": "https://localhost:8080/",
          "height": 197
        },
        "outputId": "a6ed4f97-f39d-46b4-f14f-166c03c33a3b"
      },
      "source": [
        "d2=df.sort_values(by='date')\n",
        "d2['S_10'] = df['category'].rolling(window=10).mean()\n",
        "\n"
      ],
      "execution_count": null,
      "outputs": [
        {
          "output_type": "error",
          "ename": "NameError",
          "evalue": "ignored",
          "traceback": [
            "\u001b[0;31m---------------------------------------------------------------------------\u001b[0m",
            "\u001b[0;31mNameError\u001b[0m                                 Traceback (most recent call last)",
            "\u001b[0;32m<ipython-input-4-dfc5f9728ea0>\u001b[0m in \u001b[0;36m<module>\u001b[0;34m()\u001b[0m\n\u001b[0;32m----> 1\u001b[0;31m \u001b[0md2\u001b[0m\u001b[0;34m=\u001b[0m\u001b[0mdf\u001b[0m\u001b[0;34m.\u001b[0m\u001b[0msort_values\u001b[0m\u001b[0;34m(\u001b[0m\u001b[0mby\u001b[0m\u001b[0;34m=\u001b[0m\u001b[0;34m'date'\u001b[0m\u001b[0;34m)\u001b[0m\u001b[0;34m\u001b[0m\u001b[0;34m\u001b[0m\u001b[0m\n\u001b[0m\u001b[1;32m      2\u001b[0m \u001b[0md2\u001b[0m\u001b[0;34m[\u001b[0m\u001b[0;34m'S_10'\u001b[0m\u001b[0;34m]\u001b[0m \u001b[0;34m=\u001b[0m \u001b[0mdf\u001b[0m\u001b[0;34m[\u001b[0m\u001b[0;34m'category'\u001b[0m\u001b[0;34m]\u001b[0m\u001b[0;34m.\u001b[0m\u001b[0mrolling\u001b[0m\u001b[0;34m(\u001b[0m\u001b[0mwindow\u001b[0m\u001b[0;34m=\u001b[0m\u001b[0;36m10\u001b[0m\u001b[0;34m)\u001b[0m\u001b[0;34m.\u001b[0m\u001b[0mmean\u001b[0m\u001b[0;34m(\u001b[0m\u001b[0;34m)\u001b[0m\u001b[0;34m\u001b[0m\u001b[0;34m\u001b[0m\u001b[0m\n\u001b[1;32m      3\u001b[0m \u001b[0;34m\u001b[0m\u001b[0m\n",
            "\u001b[0;31mNameError\u001b[0m: name 'df' is not defined"
          ]
        }
      ]
    },
    {
      "cell_type": "code",
      "metadata": {
        "id": "VBbhY1ZugMd4",
        "colab_type": "code",
        "colab": {
          "base_uri": "https://localhost:8080/",
          "height": 163
        },
        "outputId": "0f02576f-64ff-4ed1-8fa3-069758cdbf33"
      },
      "source": [
        "d2"
      ],
      "execution_count": null,
      "outputs": [
        {
          "output_type": "error",
          "ename": "NameError",
          "evalue": "ignored",
          "traceback": [
            "\u001b[0;31m---------------------------------------------------------------------------\u001b[0m",
            "\u001b[0;31mNameError\u001b[0m                                 Traceback (most recent call last)",
            "\u001b[0;32m<ipython-input-3-fe1ba9d06821>\u001b[0m in \u001b[0;36m<module>\u001b[0;34m()\u001b[0m\n\u001b[0;32m----> 1\u001b[0;31m \u001b[0md2\u001b[0m\u001b[0;34m\u001b[0m\u001b[0;34m\u001b[0m\u001b[0m\n\u001b[0m",
            "\u001b[0;31mNameError\u001b[0m: name 'd2' is not defined"
          ]
        }
      ]
    },
    {
      "cell_type": "code",
      "metadata": {
        "id": "xUhPSjFAZ_z3",
        "colab_type": "code",
        "colab": {}
      },
      "source": [
        ""
      ],
      "execution_count": null,
      "outputs": []
    },
    {
      "cell_type": "code",
      "metadata": {
        "id": "BD2RMXWv_Nup",
        "colab_type": "code",
        "colab": {
          "base_uri": "https://localhost:8080/",
          "height": 576
        },
        "outputId": "c4535ae2-19e8-4d50-8940-4fc27f0e3cee"
      },
      "source": [
        "d2=df.sort_values(by='date')\n",
        "\n",
        "d2"
      ],
      "execution_count": null,
      "outputs": [
        {
          "output_type": "execute_result",
          "data": {
            "text/html": [
              "<div>\n",
              "<style scoped>\n",
              "    .dataframe tbody tr th:only-of-type {\n",
              "        vertical-align: middle;\n",
              "    }\n",
              "\n",
              "    .dataframe tbody tr th {\n",
              "        vertical-align: top;\n",
              "    }\n",
              "\n",
              "    .dataframe thead th {\n",
              "        text-align: right;\n",
              "    }\n",
              "</style>\n",
              "<table border=\"1\" class=\"dataframe\">\n",
              "  <thead>\n",
              "    <tr style=\"text-align: right;\">\n",
              "      <th></th>\n",
              "      <th>title</th>\n",
              "      <th>text</th>\n",
              "      <th>subject</th>\n",
              "      <th>date</th>\n",
              "      <th>category</th>\n",
              "      <th>text_final</th>\n",
              "      <th>t</th>\n",
              "      <th>S_10</th>\n",
              "      <th>S</th>\n",
              "    </tr>\n",
              "  </thead>\n",
              "  <tbody>\n",
              "    <tr>\n",
              "      <th>9084</th>\n",
              "      <td>JUST IN: CROOKED DOJ OFFICIAL Didn’t Reveal Th...</td>\n",
              "      <td>We ve been covering the curious case of DOJ of...</td>\n",
              "      <td>politics</td>\n",
              "      <td>14-Feb-18</td>\n",
              "      <td>0</td>\n",
              "      <td>covering curious case doj official bruce ohr w...</td>\n",
              "      <td>cover curiou case doj offici bruce ohr wife ne...</td>\n",
              "      <td>0.0</td>\n",
              "      <td>0.0</td>\n",
              "    </tr>\n",
              "    <tr>\n",
              "      <th>9083</th>\n",
              "      <td>The DIRTY TRUTH About DACA Recipients…Where Th...</td>\n",
              "      <td>Yesterday, a second U.S. judge on Tuesday bloc...</td>\n",
              "      <td>politics</td>\n",
              "      <td>15-Feb-18</td>\n",
              "      <td>0</td>\n",
              "      <td>yesterday second u judge tuesday blocked presi...</td>\n",
              "      <td>yesterday second u judg tuesday block presid t...</td>\n",
              "      <td>0.0</td>\n",
              "      <td>0.0</td>\n",
              "    </tr>\n",
              "    <tr>\n",
              "      <th>9082</th>\n",
              "      <td>HUH? RAPPER JAY-Z Compares Trayvon Martin to M...</td>\n",
              "      <td>Rapper Jay-Z attended the Peace Walk &amp; Peace T...</td>\n",
              "      <td>politics</td>\n",
              "      <td>15-Feb-18</td>\n",
              "      <td>0</td>\n",
              "      <td>rapper jay z attended peace walk peace talk mi...</td>\n",
              "      <td>rapper jay z attend peac walk peac talk miami ...</td>\n",
              "      <td>0.0</td>\n",
              "      <td>0.0</td>\n",
              "    </tr>\n",
              "    <tr>\n",
              "      <th>9081</th>\n",
              "      <td>SC STATE REP Who is a Former Cop Proposes Smar...</td>\n",
              "      <td>WHO BETTER THAN A FORMER POLICE OFFICER TO UND...</td>\n",
              "      <td>politics</td>\n",
              "      <td>15-Feb-18</td>\n",
              "      <td>0</td>\n",
              "      <td>better former police officer understand guns e...</td>\n",
              "      <td>better former polic offic understand gun equal...</td>\n",
              "      <td>0.0</td>\n",
              "      <td>0.0</td>\n",
              "    </tr>\n",
              "    <tr>\n",
              "      <th>9080</th>\n",
              "      <td>JUST IN: Senate Rejects Immigration Bill…Trump...</td>\n",
              "      <td>How could the Senate be so lame in their effor...</td>\n",
              "      <td>politics</td>\n",
              "      <td>15-Feb-18</td>\n",
              "      <td>0</td>\n",
              "      <td>could senate lame effort produce immigration b...</td>\n",
              "      <td>could senat lame effort produc immigr bill sen...</td>\n",
              "      <td>0.0</td>\n",
              "      <td>0.0</td>\n",
              "    </tr>\n",
              "    <tr>\n",
              "      <th>...</th>\n",
              "      <td>...</td>\n",
              "      <td>...</td>\n",
              "      <td>...</td>\n",
              "      <td>...</td>\n",
              "      <td>...</td>\n",
              "      <td>...</td>\n",
              "      <td>...</td>\n",
              "      <td>...</td>\n",
              "      <td>...</td>\n",
              "    </tr>\n",
              "    <tr>\n",
              "      <th>21870</th>\n",
              "      <td>https://fedup.wpengine.com/wp-content/uploads/...</td>\n",
              "      <td>https://fedup.wpengine.com/wp-content/uploads/...</td>\n",
              "      <td>left-news</td>\n",
              "      <td>https://fedup.wpengine.com/wp-content/uploads/...</td>\n",
              "      <td>0</td>\n",
              "      <td>https //fedup wpengine com/wp content/uploads/...</td>\n",
              "      <td>http //fedup wpengin com/wp content/uploads/20...</td>\n",
              "      <td>0.0</td>\n",
              "      <td>0.0</td>\n",
              "    </tr>\n",
              "    <tr>\n",
              "      <th>17433</th>\n",
              "      <td>https://fedup.wpengine.com/wp-content/uploads/...</td>\n",
              "      <td>https://fedup.wpengine.com/wp-content/uploads/...</td>\n",
              "      <td>Government News</td>\n",
              "      <td>https://fedup.wpengine.com/wp-content/uploads/...</td>\n",
              "      <td>0</td>\n",
              "      <td>https //fedup wpengine com/wp content/uploads/...</td>\n",
              "      <td>http //fedup wpengin com/wp content/uploads/20...</td>\n",
              "      <td>0.0</td>\n",
              "      <td>0.0</td>\n",
              "    </tr>\n",
              "    <tr>\n",
              "      <th>21869</th>\n",
              "      <td>https://fedup.wpengine.com/wp-content/uploads/...</td>\n",
              "      <td>https://fedup.wpengine.com/wp-content/uploads/...</td>\n",
              "      <td>left-news</td>\n",
              "      <td>https://fedup.wpengine.com/wp-content/uploads/...</td>\n",
              "      <td>0</td>\n",
              "      <td>https //fedup wpengine com/wp content/uploads/...</td>\n",
              "      <td>http //fedup wpengin com/wp content/uploads/20...</td>\n",
              "      <td>0.0</td>\n",
              "      <td>0.0</td>\n",
              "    </tr>\n",
              "    <tr>\n",
              "      <th>15839</th>\n",
              "      <td>https://fedup.wpengine.com/wp-content/uploads/...</td>\n",
              "      <td>https://fedup.wpengine.com/wp-content/uploads/...</td>\n",
              "      <td>politics</td>\n",
              "      <td>https://fedup.wpengine.com/wp-content/uploads/...</td>\n",
              "      <td>0</td>\n",
              "      <td>https //fedup wpengine com/wp content/uploads/...</td>\n",
              "      <td>http //fedup wpengin com/wp content/uploads/20...</td>\n",
              "      <td>0.0</td>\n",
              "      <td>0.0</td>\n",
              "    </tr>\n",
              "    <tr>\n",
              "      <th>17432</th>\n",
              "      <td>https://fedup.wpengine.com/wp-content/uploads/...</td>\n",
              "      <td>https://fedup.wpengine.com/wp-content/uploads/...</td>\n",
              "      <td>Government News</td>\n",
              "      <td>https://fedup.wpengine.com/wp-content/uploads/...</td>\n",
              "      <td>0</td>\n",
              "      <td>https //fedup wpengine com/wp content/uploads/...</td>\n",
              "      <td>http //fedup wpengin com/wp content/uploads/20...</td>\n",
              "      <td>0.0</td>\n",
              "      <td>0.0</td>\n",
              "    </tr>\n",
              "  </tbody>\n",
              "</table>\n",
              "<p>44898 rows × 9 columns</p>\n",
              "</div>"
            ],
            "text/plain": [
              "                                                   title  ...    S\n",
              "9084   JUST IN: CROOKED DOJ OFFICIAL Didn’t Reveal Th...  ...  0.0\n",
              "9083   The DIRTY TRUTH About DACA Recipients…Where Th...  ...  0.0\n",
              "9082   HUH? RAPPER JAY-Z Compares Trayvon Martin to M...  ...  0.0\n",
              "9081   SC STATE REP Who is a Former Cop Proposes Smar...  ...  0.0\n",
              "9080   JUST IN: Senate Rejects Immigration Bill…Trump...  ...  0.0\n",
              "...                                                  ...  ...  ...\n",
              "21870  https://fedup.wpengine.com/wp-content/uploads/...  ...  0.0\n",
              "17433  https://fedup.wpengine.com/wp-content/uploads/...  ...  0.0\n",
              "21869  https://fedup.wpengine.com/wp-content/uploads/...  ...  0.0\n",
              "15839  https://fedup.wpengine.com/wp-content/uploads/...  ...  0.0\n",
              "17432  https://fedup.wpengine.com/wp-content/uploads/...  ...  0.0\n",
              "\n",
              "[44898 rows x 9 columns]"
            ]
          },
          "metadata": {
            "tags": []
          },
          "execution_count": 154
        }
      ]
    },
    {
      "cell_type": "code",
      "metadata": {
        "id": "TydfRWZk_dWf",
        "colab_type": "code",
        "colab": {
          "base_uri": "https://localhost:8080/",
          "height": 405
        },
        "outputId": "3b6d4ce5-0726-4264-9f1d-8b3b44548b40"
      },
      "source": [
        "df"
      ],
      "execution_count": null,
      "outputs": [
        {
          "output_type": "execute_result",
          "data": {
            "text/html": [
              "<div>\n",
              "<style scoped>\n",
              "    .dataframe tbody tr th:only-of-type {\n",
              "        vertical-align: middle;\n",
              "    }\n",
              "\n",
              "    .dataframe tbody tr th {\n",
              "        vertical-align: top;\n",
              "    }\n",
              "\n",
              "    .dataframe thead th {\n",
              "        text-align: right;\n",
              "    }\n",
              "</style>\n",
              "<table border=\"1\" class=\"dataframe\">\n",
              "  <thead>\n",
              "    <tr style=\"text-align: right;\">\n",
              "      <th></th>\n",
              "      <th>title</th>\n",
              "      <th>text</th>\n",
              "      <th>subject</th>\n",
              "      <th>date</th>\n",
              "      <th>category</th>\n",
              "      <th>text_final</th>\n",
              "      <th>t</th>\n",
              "      <th>S_10</th>\n",
              "      <th>S</th>\n",
              "    </tr>\n",
              "  </thead>\n",
              "  <tbody>\n",
              "    <tr>\n",
              "      <th>0</th>\n",
              "      <td>As U.S. budget fight looms, Republicans flip t...</td>\n",
              "      <td>WASHINGTON (Reuters) - The head of a conservat...</td>\n",
              "      <td>politicsNews</td>\n",
              "      <td>December 31, 2017</td>\n",
              "      <td>1</td>\n",
              "      <td>washington reuters head conservative republica...</td>\n",
              "      <td>washington reuter head conserv republican fact...</td>\n",
              "      <td>NaN</td>\n",
              "      <td>NaN</td>\n",
              "    </tr>\n",
              "    <tr>\n",
              "      <th>1</th>\n",
              "      <td>U.S. military to accept transgender recruits o...</td>\n",
              "      <td>WASHINGTON (Reuters) - Transgender people will...</td>\n",
              "      <td>politicsNews</td>\n",
              "      <td>December 29, 2017</td>\n",
              "      <td>1</td>\n",
              "      <td>washington reuters transgender people allowed ...</td>\n",
              "      <td>washington reuter transgend peopl allow first ...</td>\n",
              "      <td>NaN</td>\n",
              "      <td>NaN</td>\n",
              "    </tr>\n",
              "    <tr>\n",
              "      <th>2</th>\n",
              "      <td>Senior U.S. Republican senator: 'Let Mr. Muell...</td>\n",
              "      <td>WASHINGTON (Reuters) - The special counsel inv...</td>\n",
              "      <td>politicsNews</td>\n",
              "      <td>December 31, 2017</td>\n",
              "      <td>1</td>\n",
              "      <td>washington reuters special counsel investigati...</td>\n",
              "      <td>washington reuter special counsel investig lin...</td>\n",
              "      <td>NaN</td>\n",
              "      <td>NaN</td>\n",
              "    </tr>\n",
              "    <tr>\n",
              "      <th>3</th>\n",
              "      <td>FBI Russia probe helped by Australian diplomat...</td>\n",
              "      <td>WASHINGTON (Reuters) - Trump campaign adviser ...</td>\n",
              "      <td>politicsNews</td>\n",
              "      <td>December 30, 2017</td>\n",
              "      <td>1</td>\n",
              "      <td>washington reuters trump campaign adviser geor...</td>\n",
              "      <td>washington reuter trump campaign advis georg p...</td>\n",
              "      <td>NaN</td>\n",
              "      <td>NaN</td>\n",
              "    </tr>\n",
              "    <tr>\n",
              "      <th>4</th>\n",
              "      <td>Trump wants Postal Service to charge 'much mor...</td>\n",
              "      <td>SEATTLE/WASHINGTON (Reuters) - President Donal...</td>\n",
              "      <td>politicsNews</td>\n",
              "      <td>December 29, 2017</td>\n",
              "      <td>1</td>\n",
              "      <td>seattle/washington reuters president trump cal...</td>\n",
              "      <td>seattle/washington reuter presid trump call u ...</td>\n",
              "      <td>NaN</td>\n",
              "      <td>NaN</td>\n",
              "    </tr>\n",
              "    <tr>\n",
              "      <th>...</th>\n",
              "      <td>...</td>\n",
              "      <td>...</td>\n",
              "      <td>...</td>\n",
              "      <td>...</td>\n",
              "      <td>...</td>\n",
              "      <td>...</td>\n",
              "      <td>...</td>\n",
              "      <td>...</td>\n",
              "      <td>...</td>\n",
              "    </tr>\n",
              "    <tr>\n",
              "      <th>23476</th>\n",
              "      <td>McPain: John McCain Furious That Iran Treated ...</td>\n",
              "      <td>21st Century Wire says As 21WIRE reported earl...</td>\n",
              "      <td>Middle-east</td>\n",
              "      <td>January 16, 2016</td>\n",
              "      <td>0</td>\n",
              "      <td>21st century wire says 21wire reported earlier...</td>\n",
              "      <td>21st centuri wire say 21wire report earlier we...</td>\n",
              "      <td>0.0</td>\n",
              "      <td>0.0</td>\n",
              "    </tr>\n",
              "    <tr>\n",
              "      <th>23477</th>\n",
              "      <td>JUSTICE? Yahoo Settles E-mail Privacy Class-ac...</td>\n",
              "      <td>21st Century Wire says It s a familiar theme. ...</td>\n",
              "      <td>Middle-east</td>\n",
              "      <td>January 16, 2016</td>\n",
              "      <td>0</td>\n",
              "      <td>21st century wire says familiar theme whenever...</td>\n",
              "      <td>21st centuri wire say familiar theme whenev di...</td>\n",
              "      <td>0.0</td>\n",
              "      <td>0.0</td>\n",
              "    </tr>\n",
              "    <tr>\n",
              "      <th>23478</th>\n",
              "      <td>Sunnistan: US and Allied ‘Safe Zone’ Plan to T...</td>\n",
              "      <td>Patrick Henningsen  21st Century WireRemember ...</td>\n",
              "      <td>Middle-east</td>\n",
              "      <td>January 15, 2016</td>\n",
              "      <td>0</td>\n",
              "      <td>patrick henningsen 21st century wireremember o...</td>\n",
              "      <td>patrick henningsen 21st centuri wirerememb oba...</td>\n",
              "      <td>0.0</td>\n",
              "      <td>0.0</td>\n",
              "    </tr>\n",
              "    <tr>\n",
              "      <th>23479</th>\n",
              "      <td>How to Blow $700 Million: Al Jazeera America F...</td>\n",
              "      <td>21st Century Wire says Al Jazeera America will...</td>\n",
              "      <td>Middle-east</td>\n",
              "      <td>January 14, 2016</td>\n",
              "      <td>0</td>\n",
              "      <td>21st century wire says al jazeera america go h...</td>\n",
              "      <td>21st centuri wire say al jazeera america go hi...</td>\n",
              "      <td>0.0</td>\n",
              "      <td>0.0</td>\n",
              "    </tr>\n",
              "    <tr>\n",
              "      <th>23480</th>\n",
              "      <td>10 U.S. Navy Sailors Held by Iranian Military ...</td>\n",
              "      <td>21st Century Wire says As 21WIRE predicted in ...</td>\n",
              "      <td>Middle-east</td>\n",
              "      <td>January 12, 2016</td>\n",
              "      <td>0</td>\n",
              "      <td>21st century wire says 21wire predicted new ye...</td>\n",
              "      <td>21st centuri wire say 21wire predict new year ...</td>\n",
              "      <td>0.0</td>\n",
              "      <td>0.0</td>\n",
              "    </tr>\n",
              "  </tbody>\n",
              "</table>\n",
              "<p>44898 rows × 9 columns</p>\n",
              "</div>"
            ],
            "text/plain": [
              "                                                   title  ...    S\n",
              "0      As U.S. budget fight looms, Republicans flip t...  ...  NaN\n",
              "1      U.S. military to accept transgender recruits o...  ...  NaN\n",
              "2      Senior U.S. Republican senator: 'Let Mr. Muell...  ...  NaN\n",
              "3      FBI Russia probe helped by Australian diplomat...  ...  NaN\n",
              "4      Trump wants Postal Service to charge 'much mor...  ...  NaN\n",
              "...                                                  ...  ...  ...\n",
              "23476  McPain: John McCain Furious That Iran Treated ...  ...  0.0\n",
              "23477  JUSTICE? Yahoo Settles E-mail Privacy Class-ac...  ...  0.0\n",
              "23478  Sunnistan: US and Allied ‘Safe Zone’ Plan to T...  ...  0.0\n",
              "23479  How to Blow $700 Million: Al Jazeera America F...  ...  0.0\n",
              "23480  10 U.S. Navy Sailors Held by Iranian Military ...  ...  0.0\n",
              "\n",
              "[44898 rows x 9 columns]"
            ]
          },
          "metadata": {
            "tags": []
          },
          "execution_count": 150
        }
      ]
    },
    {
      "cell_type": "code",
      "metadata": {
        "colab_type": "code",
        "id": "xfplOkE0HPfR",
        "colab": {
          "base_uri": "https://localhost:8080/",
          "height": 34
        },
        "outputId": "0f982d12-385d-42e7-d9fc-dd1706aff5a8"
      },
      "source": [
        "from sklearn.feature_extraction.text import CountVectorizer, TfidfVectorizer\n",
        "vectorizer = TfidfVectorizer(strip_accents='unicode',min_df=3)\n",
        "\n",
        "time_start = time.time()\n",
        "vectorizer.fit(docs)\n",
        "time_end = time.time()\n",
        "\n",
        "\n",
        "print(f\"vectorizer fit in {(time_end-time_start)/60} mins\")"
      ],
      "execution_count": null,
      "outputs": [
        {
          "output_type": "stream",
          "text": [
            "vectorizer fit in 0.12340412934621176 mins\n"
          ],
          "name": "stdout"
        }
      ]
    },
    {
      "cell_type": "code",
      "metadata": {
        "id": "PZAkjZzv7CYz",
        "colab_type": "code",
        "colab": {}
      },
      "source": [
        "x_train, x_test, y_train, y_test = train_test_split(df[['t']], df['category'], test_size=.3, random_state=42)"
      ],
      "execution_count": null,
      "outputs": []
    },
    {
      "cell_type": "code",
      "metadata": {
        "id": "yM3amKYx7XY9",
        "colab_type": "code",
        "colab": {}
      },
      "source": [
        "train_tfidf = vectorizer.transform(x_train.t.tolist())\n",
        "test_tfidf = vectorizer.transform(x_test.t.tolist())"
      ],
      "execution_count": null,
      "outputs": []
    },
    {
      "cell_type": "code",
      "metadata": {
        "id": "hNPx3ms6mRa-",
        "colab_type": "code",
        "colab": {
          "base_uri": "https://localhost:8080/",
          "height": 34
        },
        "outputId": "7da28c94-a6c3-455b-f7b6-912d0cc1b8ef"
      },
      "source": [
        "train_tfidf.shape"
      ],
      "execution_count": null,
      "outputs": [
        {
          "output_type": "execute_result",
          "data": {
            "text/plain": [
              "(31428, 36631)"
            ]
          },
          "metadata": {
            "tags": []
          },
          "execution_count": 130
        }
      ]
    },
    {
      "cell_type": "code",
      "metadata": {
        "id": "I7OCrqqT8A04",
        "colab_type": "code",
        "colab": {
          "base_uri": "https://localhost:8080/",
          "height": 34
        },
        "outputId": "f654d254-5686-4218-c42a-f5237a1c5e73"
      },
      "source": [
        "mnb = MultinomialNB()\n",
        "\n",
        "\n",
        "mnb.fit(train_tfidf, y_train.values)"
      ],
      "execution_count": null,
      "outputs": [
        {
          "output_type": "execute_result",
          "data": {
            "text/plain": [
              "MultinomialNB(alpha=1.0, class_prior=None, fit_prior=True)"
            ]
          },
          "metadata": {
            "tags": []
          },
          "execution_count": 68
        }
      ]
    },
    {
      "cell_type": "code",
      "metadata": {
        "id": "MesxrzCr8Col",
        "colab_type": "code",
        "colab": {
          "base_uri": "https://localhost:8080/",
          "height": 460
        },
        "outputId": "4b16e7b5-e926-4188-9dc5-437c88b0d947"
      },
      "source": [
        "for k, v in {'TRAIN': [train_tfidf, y_train], 'TEST': [test_tfidf, y_test]}.items():\n",
        "    preds = mnb.predict(v[0])\n",
        "    \n",
        "    print(f\"{k} RESULTS\\n\\n{classification_report(v[1],preds)}\\n\\n\")\n",
        "    #print(classification_report(y_test, y_pred,target_names=my_tags))"
      ],
      "execution_count": null,
      "outputs": [
        {
          "output_type": "stream",
          "text": [
            "TRAIN RESULTS\n",
            "\n",
            "              precision    recall  f1-score   support\n",
            "\n",
            "           0       0.94      0.95      0.94     16485\n",
            "           1       0.94      0.93      0.94     14943\n",
            "\n",
            "    accuracy                           0.94     31428\n",
            "   macro avg       0.94      0.94      0.94     31428\n",
            "weighted avg       0.94      0.94      0.94     31428\n",
            "\n",
            "\n",
            "\n",
            "TEST RESULTS\n",
            "\n",
            "              precision    recall  f1-score   support\n",
            "\n",
            "           0       0.93      0.94      0.94      6996\n",
            "           1       0.93      0.93      0.93      6474\n",
            "\n",
            "    accuracy                           0.93     13470\n",
            "   macro avg       0.93      0.93      0.93     13470\n",
            "weighted avg       0.93      0.93      0.93     13470\n",
            "\n",
            "\n",
            "\n"
          ],
          "name": "stdout"
        }
      ]
    },
    {
      "cell_type": "code",
      "metadata": {
        "id": "bfNYYJvktttU",
        "colab_type": "code",
        "colab": {}
      },
      "source": [
        "X = df.t\n",
        "y = df.category\n",
        "X_train, X_test, y_train, y_test = train_test_split(X, y, test_size=0.3, random_state = 42)"
      ],
      "execution_count": null,
      "outputs": []
    },
    {
      "cell_type": "code",
      "metadata": {
        "id": "WUk88sj9t28J",
        "colab_type": "code",
        "colab": {
          "base_uri": "https://localhost:8080/",
          "height": 170
        },
        "outputId": "889e378f-d69f-4b4e-edf4-50bb116d93d7"
      },
      "source": [
        "from sklearn.naive_bayes import MultinomialNB\n",
        "from sklearn.pipeline import Pipeline\n",
        "from sklearn.feature_extraction.text import TfidfTransformer\n",
        "\n",
        "nb = Pipeline([('vect', CountVectorizer()),\n",
        "               ('tfidf', TfidfTransformer()),\n",
        "               ('clf', MultinomialNB()),\n",
        "              ])\n",
        "nb.fit(X_train, y_train)\n",
        "from sklearn.metrics import classification_report\n",
        "y_pred = nb.predict(X_test)\n",
        "\n",
        "\n",
        "print(classification_report(y_test, y_pred))"
      ],
      "execution_count": null,
      "outputs": [
        {
          "output_type": "stream",
          "text": [
            "              precision    recall  f1-score   support\n",
            "\n",
            "           0       0.93      0.94      0.94      6996\n",
            "           1       0.94      0.92      0.93      6474\n",
            "\n",
            "    accuracy                           0.93     13470\n",
            "   macro avg       0.93      0.93      0.93     13470\n",
            "weighted avg       0.93      0.93      0.93     13470\n",
            "\n"
          ],
          "name": "stdout"
        }
      ]
    },
    {
      "cell_type": "code",
      "metadata": {
        "id": "Eh_spo9Sfi1a",
        "colab_type": "code",
        "colab": {
          "base_uri": "https://localhost:8080/",
          "height": 34
        },
        "outputId": "f5bd384d-ae29-4104-e86f-6e59c2317f71"
      },
      "source": [
        "from sklearn.linear_model import LogisticRegression\n",
        "\n",
        "scikit_log_reg = LogisticRegression(verbose=1, solver='liblinear',random_state=0, C=5, penalty='l2',max_iter=1000)\n",
        "model=scikit_log_reg.fit(train_tfidf, y_train.values)\n"
      ],
      "execution_count": null,
      "outputs": [
        {
          "output_type": "stream",
          "text": [
            "[LibLinear]"
          ],
          "name": "stdout"
        }
      ]
    },
    {
      "cell_type": "code",
      "metadata": {
        "id": "ephYEnv2k9UQ",
        "colab_type": "code",
        "colab": {}
      },
      "source": [
        "from sklearn.feature_selection import SelectFromModel\n",
        "m= SelectFromModel(model, prefit=True)\n",
        "X_new = m.transform(train_tfidf)\n",
        "X_2 = m.transform(test_tfidf)"
      ],
      "execution_count": null,
      "outputs": []
    },
    {
      "cell_type": "code",
      "metadata": {
        "id": "R7g1HZcmavqi",
        "colab_type": "code",
        "colab": {
          "base_uri": "https://localhost:8080/",
          "height": 34
        },
        "outputId": "cbc0900f-666e-4c5b-e6b3-89b047c1b6d3"
      },
      "source": [
        "X_new.shape"
      ],
      "execution_count": null,
      "outputs": [
        {
          "output_type": "execute_result",
          "data": {
            "text/plain": [
              "(31428, 9080)"
            ]
          },
          "metadata": {
            "tags": []
          },
          "execution_count": 89
        }
      ]
    },
    {
      "cell_type": "code",
      "metadata": {
        "id": "9eat3xkvtevD",
        "colab_type": "code",
        "colab": {
          "base_uri": "https://localhost:8080/",
          "height": 34
        },
        "outputId": "9f946ea0-12f6-4d7d-88ee-2f8e29ad99e9"
      },
      "source": [
        "#model run on all features\n",
        "scikit_log_reg = LogisticRegression(verbose=1, solver='liblinear',random_state=0, C=5, penalty='l2',max_iter=1000)\n",
        "model=scikit_log_reg.fit(train_tfidf, y_train.values)"
      ],
      "execution_count": null,
      "outputs": [
        {
          "output_type": "stream",
          "text": [
            "[LibLinear]"
          ],
          "name": "stdout"
        }
      ]
    },
    {
      "cell_type": "code",
      "metadata": {
        "id": "9d-Cl-Ih5R2Y",
        "colab_type": "code",
        "colab": {
          "base_uri": "https://localhost:8080/",
          "height": 34
        },
        "outputId": "81fa2d96-dc24-4bec-c57f-e3010f67245e"
      },
      "source": [
        "#model on selected features\n",
        "m_cl=scikit_log_reg.fit(X_new, y_train.values)"
      ],
      "execution_count": null,
      "outputs": [
        {
          "output_type": "stream",
          "text": [
            "[LibLinear]"
          ],
          "name": "stdout"
        }
      ]
    },
    {
      "cell_type": "code",
      "metadata": {
        "id": "rf7g44g8Nagn",
        "colab_type": "code",
        "colab": {}
      },
      "source": [
        "x=[20,30,40,50]\n",
        "from sklearn import metrics"
      ],
      "execution_count": null,
      "outputs": []
    },
    {
      "cell_type": "code",
      "metadata": {
        "id": "dbir6oSwLJ-A",
        "colab_type": "code",
        "colab": {}
      },
      "source": [
        "y=0\n",
        "for i in range(len(x)):\n",
        "     \n",
        "     clf=RandomForestClassifier(n_estimators=x[i])\n",
        "     clf.fit(train_tfidf, y_train.values)\n",
        "     p=clf.predict(test_tfidf)\n",
        "     x[y]=metrics.accuracy_score(y_test, p)\n",
        "     y=y+1"
      ],
      "execution_count": null,
      "outputs": []
    },
    {
      "cell_type": "code",
      "metadata": {
        "id": "X847BpCmRhmE",
        "colab_type": "code",
        "colab": {}
      },
      "source": [
        "z=[20,30,40,50]\n",
        "op = {'Trees': z, 'Accuracy': x}\n",
        "op_2 = pd.DataFrame(op)\n"
      ],
      "execution_count": null,
      "outputs": []
    },
    {
      "cell_type": "code",
      "metadata": {
        "id": "VEslQ8RoQQ8S",
        "colab_type": "code",
        "colab": {
          "base_uri": "https://localhost:8080/",
          "height": 470
        },
        "outputId": "b8728dfc-f8be-43f7-ec78-22798b9f736f"
      },
      "source": [
        "import matplotlib.pyplot as plt\n",
        "import matplotlib.ticker as mtick\n",
        "ax=plt.plot(z,x)\n",
        "plt.xlabel('Number of Trees')\n",
        "plt.ylabel('Accuracy')\n",
        "plt.gca().set_yticklabels(['{:.2f}%'.format(x*100) for x in plt.gca().get_yticks()]) \n",
        "\n"
      ],
      "execution_count": null,
      "outputs": [
        {
          "output_type": "execute_result",
          "data": {
            "text/plain": [
              "[Text(0, 0, '98.40%'),\n",
              " Text(0, 0, '98.50%'),\n",
              " Text(0, 0, '98.60%'),\n",
              " Text(0, 0, '98.70%'),\n",
              " Text(0, 0, '98.80%'),\n",
              " Text(0, 0, '98.90%'),\n",
              " Text(0, 0, '99.00%'),\n",
              " Text(0, 0, '99.10%'),\n",
              " Text(0, 0, '99.20%'),\n",
              " Text(0, 0, '99.30%'),\n",
              " Text(0, 0, '99.40%')]"
            ]
          },
          "metadata": {
            "tags": []
          },
          "execution_count": 51
        },
        {
          "output_type": "display_data",
          "data": {
            "image/png": "[encoded data removed]",
            "text/plain": [
              "<Figure size 432x288 with 1 Axes>"
            ]
          },
          "metadata": {
            "tags": [],
            "needs_background": "light"
          }
        }
      ]
    },
    {
      "cell_type": "code",
      "metadata": {
        "id": "mD0T8q7z-u6w",
        "colab_type": "code",
        "colab": {
          "base_uri": "https://localhost:8080/",
          "height": 153
        },
        "outputId": "21e054b5-7ec8-4566-d9f5-b7c686265777"
      },
      "source": [
        "from sklearn.ensemble import RandomForestClassifier\n",
        "\n",
        "#Create a Gaussian Classifier\n",
        "clf=RandomForestClassifier(n_estimators=40)\n",
        "\n",
        "#Train the model using the training sets y_pred=clf.predict(X_test)\n",
        "clf.fit(train_tfidf, y_train.values)"
      ],
      "execution_count": null,
      "outputs": [
        {
          "output_type": "execute_result",
          "data": {
            "text/plain": [
              "RandomForestClassifier(bootstrap=True, ccp_alpha=0.0, class_weight=None,\n",
              "                       criterion='gini', max_depth=None, max_features='auto',\n",
              "                       max_leaf_nodes=None, max_samples=None,\n",
              "                       min_impurity_decrease=0.0, min_impurity_split=None,\n",
              "                       min_samples_leaf=1, min_samples_split=2,\n",
              "                       min_weight_fraction_leaf=0.0, n_estimators=40,\n",
              "                       n_jobs=None, oob_score=False, random_state=None,\n",
              "                       verbose=0, warm_start=False)"
            ]
          },
          "metadata": {
            "tags": []
          },
          "execution_count": 53
        }
      ]
    },
    {
      "cell_type": "code",
      "metadata": {
        "id": "Y9Yo1bv18qxC",
        "colab_type": "code",
        "colab": {
          "base_uri": "https://localhost:8080/",
          "height": 34
        },
        "outputId": "75b3be25-9095-41a6-85f2-811ebd71aa84"
      },
      "source": [
        "p=cross_val_score(model,test_tfidf, y_test.values,cv=10)\n",
        "p\n",
        "n=cross_val_score(mnb,test_tfidf, y_test.values,cv=10)\n",
        "n\n",
        "r=cross_val_score(clf,test_tfidf, y_test.values,cv=10)\n",
        "q=cross_val_score(m_cl,test_tfidf, y_test.values,cv=10)"
      ],
      "execution_count": null,
      "outputs": [
        {
          "output_type": "stream",
          "text": [
            "[LibLinear][LibLinear][LibLinear][LibLinear][LibLinear][LibLinear][LibLinear][LibLinear][LibLinear][LibLinear][LibLinear][LibLinear][LibLinear][LibLinear][LibLinear][LibLinear][LibLinear][LibLinear][LibLinear][LibLinear]"
          ],
          "name": "stdout"
        }
      ]
    },
    {
      "cell_type": "code",
      "metadata": {
        "id": "tEKfqz9ZiswO",
        "colab_type": "code",
        "colab": {}
      },
      "source": [
        "y_pred=model.predict(test_tfidf)\n",
        "nb=mnb.predict(test_tfidf)\n",
        "\n",
        "rf=clf.predict(test_tfidf)\n",
        "\n",
        "l2=m_cl.predict(X_2)"
      ],
      "execution_count": null,
      "outputs": []
    },
    {
      "cell_type": "code",
      "metadata": {
        "id": "7CrSIKiNj_ww",
        "colab_type": "code",
        "colab": {}
      },
      "source": [
        "from sklearn import metrics\n",
        "cnf_matrix_nb = metrics.confusion_matrix(y_test.values, nb)\n",
        "cnf_matrix_lr = metrics.confusion_matrix(y_test.values, y_pred)\n",
        "cnf_matrix_rf = metrics.confusion_matrix(y_test.values, rf)\n",
        "cnf_matrix_l2 = metrics.confusion_matrix(y_test.values, l2)"
      ],
      "execution_count": null,
      "outputs": []
    },
    {
      "cell_type": "code",
      "metadata": {
        "id": "JD6n9SIMeg8U",
        "colab_type": "code",
        "colab": {
          "base_uri": "https://localhost:8080/",
          "height": 34
        },
        "outputId": "1ee7b2ec-b64b-4552-9b5e-f3f9112b71a0"
      },
      "source": [
        "y_test.shape"
      ],
      "execution_count": null,
      "outputs": [
        {
          "output_type": "execute_result",
          "data": {
            "text/plain": [
              "(13470,)"
            ]
          },
          "metadata": {
            "tags": []
          },
          "execution_count": 108
        }
      ]
    },
    {
      "cell_type": "code",
      "metadata": {
        "id": "ZVZTEBlkk8-s",
        "colab_type": "code",
        "colab": {
          "base_uri": "https://localhost:8080/",
          "height": 376
        },
        "outputId": "740bf184-5183-4a9b-83da-9b630f6cd6cb"
      },
      "source": [
        "import seaborn as sns\n",
        "import matplotlib.pyplot as plt\n",
        "class_names=[0,1] # name  of classes\n",
        "fig, ax = plt.subplots()\n",
        "tick_marks = np.arange(len(class_names))\n",
        "plt.xticks(tick_marks, class_names)\n",
        "plt.yticks(tick_marks, class_names)\n",
        "# create heatmap\n",
        "sns.heatmap(pd.DataFrame(cnf_matrix_lr), annot=True, cmap=\"YlGnBu\" ,fmt='g')\n",
        "ax.xaxis.set_label_position(\"top\")\n",
        "plt.tight_layout()\n",
        "plt.title('Confusion matrix Logistic Regression', y=1.1)\n",
        "plt.ylabel('Actual label')\n",
        "plt.xlabel('Predicted label')"
      ],
      "execution_count": null,
      "outputs": [
        {
          "output_type": "stream",
          "text": [
            "/usr/local/lib/python3.6/dist-packages/statsmodels/tools/_testing.py:19: FutureWarning: pandas.util.testing is deprecated. Use the functions in the public API at pandas.testing instead.\n",
            "  import pandas.util.testing as tm\n"
          ],
          "name": "stderr"
        },
        {
          "output_type": "execute_result",
          "data": {
            "text/plain": [
              "Text(0.5, 257.44, 'Predicted label')"
            ]
          },
          "metadata": {
            "tags": []
          },
          "execution_count": 114
        },
        {
          "output_type": "display_data",
          "data": {
            "image/png": "[encoded data removed]",
            "text/plain": [
              "<Figure size 432x288 with 2 Axes>"
            ]
          },
          "metadata": {
            "tags": [],
            "needs_background": "light"
          }
        }
      ]
    },
    {
      "cell_type": "code",
      "metadata": {
        "id": "YqZ9OA0SDJYR",
        "colab_type": "code",
        "colab": {
          "base_uri": "https://localhost:8080/",
          "height": 342
        },
        "outputId": "7e8889a9-11c0-49fd-f358-8965a2c3d3fc"
      },
      "source": [
        "import seaborn as sns\n",
        "import matplotlib.pyplot as plt\n",
        "class_names=[0,1] # name  of classes\n",
        "fig, ax = plt.subplots()\n",
        "tick_marks = np.arange(len(class_names))\n",
        "plt.xticks(tick_marks, class_names)\n",
        "plt.yticks(tick_marks, class_names)\n",
        "# create heatmap\n",
        "sns.heatmap(pd.DataFrame(cnf_matrix_l2), annot=True, cmap=\"YlGnBu\" ,fmt='g')\n",
        "ax.xaxis.set_label_position(\"top\")\n",
        "plt.tight_layout()\n",
        "plt.title('Confusion matrix Logistic Regression -Selected Features', y=1.1)\n",
        "plt.ylabel('Actual label')\n",
        "plt.xlabel('Predicted label')"
      ],
      "execution_count": null,
      "outputs": [
        {
          "output_type": "execute_result",
          "data": {
            "text/plain": [
              "Text(0.5, 257.44, 'Predicted label')"
            ]
          },
          "metadata": {
            "tags": []
          },
          "execution_count": 115
        },
        {
          "output_type": "display_data",
          "data": {
            "image/png": "[encoded data removed]",
            "text/plain": [
              "<Figure size 432x288 with 2 Axes>"
            ]
          },
          "metadata": {
            "tags": [],
            "needs_background": "light"
          }
        }
      ]
    },
    {
      "cell_type": "code",
      "metadata": {
        "id": "p37jvFmBOAki",
        "colab_type": "code",
        "colab": {}
      },
      "source": [
        ""
      ],
      "execution_count": null,
      "outputs": []
    },
    {
      "cell_type": "code",
      "metadata": {
        "colab_type": "code",
        "id": "qZfJ64j9OBBx",
        "colab": {
          "base_uri": "https://localhost:8080/",
          "height": 342
        },
        "outputId": "734237ac-4903-482e-89d0-b8ecdabf3d27"
      },
      "source": [
        "import seaborn as sns\n",
        "import matplotlib.pyplot as plt\n",
        "class_names=[0,1] # name  of classes\n",
        "fig, ax = plt.subplots()\n",
        "tick_marks = np.arange(len(class_names))\n",
        "plt.xticks(tick_marks, class_names)\n",
        "plt.yticks(tick_marks, class_names)\n",
        "# create heatmap\n",
        "sns.heatmap(pd.DataFrame(cnf_matrix_nb), annot=True, cmap=\"YlGnBu\" ,fmt='g')\n",
        "ax.xaxis.set_label_position(\"top\")\n",
        "plt.tight_layout()\n",
        "plt.title('Confusion matrix Naive Bayes', y=1.1)\n",
        "plt.ylabel('Actual label')\n",
        "plt.xlabel('Predicted label')"
      ],
      "execution_count": null,
      "outputs": [
        {
          "output_type": "execute_result",
          "data": {
            "text/plain": [
              "Text(0.5, 257.44, 'Predicted label')"
            ]
          },
          "metadata": {
            "tags": []
          },
          "execution_count": 116
        },
        {
          "output_type": "display_data",
          "data": {
            "image/png": "[encoded data removed]",
            "text/plain": [
              "<Figure size 432x288 with 2 Axes>"
            ]
          },
          "metadata": {
            "tags": [],
            "needs_background": "light"
          }
        }
      ]
    },
    {
      "cell_type": "code",
      "metadata": {
        "id": "1-btwIVLONtL",
        "colab_type": "code",
        "colab": {}
      },
      "source": [
        ""
      ],
      "execution_count": null,
      "outputs": []
    },
    {
      "cell_type": "code",
      "metadata": {
        "colab_type": "code",
        "id": "PM48yhIFOOMp",
        "colab": {
          "base_uri": "https://localhost:8080/",
          "height": 342
        },
        "outputId": "835a4070-4861-4827-d2d8-5e6171a4c0e7"
      },
      "source": [
        "import seaborn as sns\n",
        "import matplotlib.pyplot as plt\n",
        "class_names=[0,1] # name  of classes\n",
        "fig, ax = plt.subplots()\n",
        "tick_marks = np.arange(len(class_names))\n",
        "plt.xticks(tick_marks, class_names)\n",
        "plt.yticks(tick_marks, class_names)\n",
        "# create heatmap\n",
        "sns.heatmap(pd.DataFrame(cnf_matrix_rf), annot=True, cmap=\"YlGnBu\" ,fmt='g')\n",
        "ax.xaxis.set_label_position(\"top\")\n",
        "plt.tight_layout()\n",
        "plt.title('Confusion matrix Random Forest', y=1.1)\n",
        "plt.ylabel('Actual label')\n",
        "plt.xlabel('Predicted label')"
      ],
      "execution_count": null,
      "outputs": [
        {
          "output_type": "execute_result",
          "data": {
            "text/plain": [
              "Text(0.5, 257.44, 'Predicted label')"
            ]
          },
          "metadata": {
            "tags": []
          },
          "execution_count": 117
        },
        {
          "output_type": "display_data",
          "data": {
            "image/png": "[encoded data removed]",
            "text/plain": [
              "<Figure size 432x288 with 2 Axes>"
            ]
          },
          "metadata": {
            "tags": [],
            "needs_background": "light"
          }
        }
      ]
    },
    {
      "cell_type": "code",
      "metadata": {
        "id": "vHIdWwLplvKP",
        "colab_type": "code",
        "colab": {
          "base_uri": "https://localhost:8080/",
          "height": 85
        },
        "outputId": "cf9c4da5-9998-4dfe-f89b-242e96fdbd09"
      },
      "source": [
        "print(\"Accuracy: {:.2f}%\".format(metrics.accuracy_score(y_test, nb)*100))\n",
        "print(\"Precision: {:.2f}%\".format(metrics.precision_score(y_test, nb)*100))\n",
        "print(\"Recall: {:.2f}%\".format(metrics.recall_score(y_test, nb)*100))\n",
        "print(\"F Score: {:.2f}%\".format(metrics.f1_score(y_test, nb)*100))"
      ],
      "execution_count": null,
      "outputs": [
        {
          "output_type": "stream",
          "text": [
            "Accuracy: 93.32%\n",
            "Precision: 93.36%\n",
            "Recall: 92.69%\n",
            "F Score: 93.02%\n"
          ],
          "name": "stdout"
        }
      ]
    },
    {
      "cell_type": "code",
      "metadata": {
        "id": "DTiuQHlbP_pY",
        "colab_type": "code",
        "colab": {
          "base_uri": "https://localhost:8080/",
          "height": 85
        },
        "outputId": "d2f92f77-26dd-4a9a-c0de-8924e0ae97f4"
      },
      "source": [
        "print(\"Accuracy: {:.2f}%\".format(metrics.accuracy_score(y_test, y_pred)*100))\n",
        "print(\"Precision: {:.2f}%\".format(metrics.precision_score(y_test, y_pred)*100))\n",
        "print(\"Recall: {:.2f}%\".format(metrics.recall_score(y_test, y_pred)*100))\n",
        "print(\"F Score: {:.2f}%\".format(metrics.f1_score(y_test, y_pred)*100))"
      ],
      "execution_count": null,
      "outputs": [
        {
          "output_type": "stream",
          "text": [
            "Accuracy: 99.30%\n",
            "Precision: 99.05%\n",
            "Recall: 99.51%\n",
            "F Score: 99.28%\n"
          ],
          "name": "stdout"
        }
      ]
    },
    {
      "cell_type": "code",
      "metadata": {
        "id": "f4JsVzXgQYPi",
        "colab_type": "code",
        "colab": {
          "base_uri": "https://localhost:8080/",
          "height": 85
        },
        "outputId": "d1a3d61f-20b1-495d-c743-e3e5850ee1d5"
      },
      "source": [
        "print(\"Accuracy: {:.2f}%\".format(metrics.accuracy_score(y_test, rf)*100))\n",
        "print(\"Precision: {:.2f}%\".format(metrics.precision_score(y_test, rf)*100))\n",
        "print(\"Recall: {:.2f}%\".format(metrics.recall_score(y_test, rf)*100))\n",
        "print(\"F Score: {:.2f}%\".format(metrics.f1_score(y_test, rf)*100))\n"
      ],
      "execution_count": null,
      "outputs": [
        {
          "output_type": "stream",
          "text": [
            "Accuracy: 99.41%\n",
            "Precision: 99.29%\n",
            "Recall: 99.47%\n",
            "F Score: 99.38%\n"
          ],
          "name": "stdout"
        }
      ]
    },
    {
      "cell_type": "code",
      "metadata": {
        "id": "gD-X0nYiQZV6",
        "colab_type": "code",
        "colab": {}
      },
      "source": [
        ""
      ],
      "execution_count": null,
      "outputs": []
    },
    {
      "cell_type": "code",
      "metadata": {
        "id": "wS8vgb9CgYCw",
        "colab_type": "code",
        "colab": {
          "base_uri": "https://localhost:8080/",
          "height": 34
        },
        "outputId": "7bd08716-f5cd-45a0-8814-dfe745e86172"
      },
      "source": [
        "metrics"
      ],
      "execution_count": null,
      "outputs": [
        {
          "output_type": "execute_result",
          "data": {
            "text/plain": [
              "<module 'sklearn.metrics' from '/usr/local/lib/python3.6/dist-packages/sklearn/metrics/__init__.py'>"
            ]
          },
          "metadata": {
            "tags": []
          },
          "execution_count": 56
        }
      ]
    },
    {
      "cell_type": "code",
      "metadata": {
        "id": "8fdRbmWpPrpg",
        "colab_type": "code",
        "colab": {}
      },
      "source": [
        ""
      ],
      "execution_count": null,
      "outputs": []
    },
    {
      "cell_type": "code",
      "metadata": {
        "colab_type": "code",
        "id": "HszYxOJXPsW0",
        "colab": {
          "base_uri": "https://localhost:8080/",
          "height": 85
        },
        "outputId": "0698c387-c38f-4772-8ea0-727d446f7c7e"
      },
      "source": [
        "print(\"Accuracy: {:.2f}%\".format(metrics.accuracy_score(y_test, nb)*100))\n",
        "print(\"Precision: {:.2f}%\".format(metrics.precision_score(y_test, nb)*100))\n",
        "print(\"Recall: {:.2f}%\".format(metrics.recall_score(y_test, nb)*100))\n",
        "print(\"F Score: {:.2f}%\".format(metrics.f1_score(y_test, nb)*100))"
      ],
      "execution_count": null,
      "outputs": [
        {
          "output_type": "stream",
          "text": [
            "Accuracy: 93.32%\n",
            "Precision: 93.36%\n",
            "Recall: 92.69%\n",
            "F Score: 93.02%\n"
          ],
          "name": "stdout"
        }
      ]
    },
    {
      "cell_type": "code",
      "metadata": {
        "id": "wb5ISwEIml-H",
        "colab_type": "code",
        "colab": {}
      },
      "source": [
        "lr = {'text': \"LR\", 'Category': p}\n",
        "nb={'text': \"NB\", 'Category': n}\n",
        "rf={'text': \"RF\", 'Category': r}\n",
        "\n",
        "lr_test = pd.DataFrame(lr)\n",
        "nb_test = pd.DataFrame(nb)\n",
        "rf_test = pd.DataFrame(rf)\n",
        "\n",
        "d2=pd.concat([lr_test,nb_test,rf_test])"
      ],
      "execution_count": null,
      "outputs": []
    },
    {
      "cell_type": "code",
      "metadata": {
        "id": "107h8VuVO5AJ",
        "colab_type": "code",
        "colab": {
          "base_uri": "https://localhost:8080/",
          "height": 944
        },
        "outputId": "75b2c7c0-3d6c-45db-e4dc-6787eaaf0038"
      },
      "source": [
        "d2"
      ],
      "execution_count": null,
      "outputs": [
        {
          "output_type": "execute_result",
          "data": {
            "text/html": [
              "<div>\n",
              "<style scoped>\n",
              "    .dataframe tbody tr th:only-of-type {\n",
              "        vertical-align: middle;\n",
              "    }\n",
              "\n",
              "    .dataframe tbody tr th {\n",
              "        vertical-align: top;\n",
              "    }\n",
              "\n",
              "    .dataframe thead th {\n",
              "        text-align: right;\n",
              "    }\n",
              "</style>\n",
              "<table border=\"1\" class=\"dataframe\">\n",
              "  <thead>\n",
              "    <tr style=\"text-align: right;\">\n",
              "      <th></th>\n",
              "      <th>text</th>\n",
              "      <th>Category</th>\n",
              "    </tr>\n",
              "  </thead>\n",
              "  <tbody>\n",
              "    <tr>\n",
              "      <th>0</th>\n",
              "      <td>LR</td>\n",
              "      <td>0.983667</td>\n",
              "    </tr>\n",
              "    <tr>\n",
              "      <th>1</th>\n",
              "      <td>LR</td>\n",
              "      <td>0.981440</td>\n",
              "    </tr>\n",
              "    <tr>\n",
              "      <th>2</th>\n",
              "      <td>LR</td>\n",
              "      <td>0.986637</td>\n",
              "    </tr>\n",
              "    <tr>\n",
              "      <th>3</th>\n",
              "      <td>LR</td>\n",
              "      <td>0.990349</td>\n",
              "    </tr>\n",
              "    <tr>\n",
              "      <th>4</th>\n",
              "      <td>LR</td>\n",
              "      <td>0.983667</td>\n",
              "    </tr>\n",
              "    <tr>\n",
              "      <th>5</th>\n",
              "      <td>LR</td>\n",
              "      <td>0.982925</td>\n",
              "    </tr>\n",
              "    <tr>\n",
              "      <th>6</th>\n",
              "      <td>LR</td>\n",
              "      <td>0.984410</td>\n",
              "    </tr>\n",
              "    <tr>\n",
              "      <th>7</th>\n",
              "      <td>LR</td>\n",
              "      <td>0.982925</td>\n",
              "    </tr>\n",
              "    <tr>\n",
              "      <th>8</th>\n",
              "      <td>LR</td>\n",
              "      <td>0.990349</td>\n",
              "    </tr>\n",
              "    <tr>\n",
              "      <th>9</th>\n",
              "      <td>LR</td>\n",
              "      <td>0.989607</td>\n",
              "    </tr>\n",
              "    <tr>\n",
              "      <th>0</th>\n",
              "      <td>NB</td>\n",
              "      <td>0.930215</td>\n",
              "    </tr>\n",
              "    <tr>\n",
              "      <th>1</th>\n",
              "      <td>NB</td>\n",
              "      <td>0.925019</td>\n",
              "    </tr>\n",
              "    <tr>\n",
              "      <th>2</th>\n",
              "      <td>NB</td>\n",
              "      <td>0.944321</td>\n",
              "    </tr>\n",
              "    <tr>\n",
              "      <th>3</th>\n",
              "      <td>NB</td>\n",
              "      <td>0.944321</td>\n",
              "    </tr>\n",
              "    <tr>\n",
              "      <th>4</th>\n",
              "      <td>NB</td>\n",
              "      <td>0.933185</td>\n",
              "    </tr>\n",
              "    <tr>\n",
              "      <th>5</th>\n",
              "      <td>NB</td>\n",
              "      <td>0.937639</td>\n",
              "    </tr>\n",
              "    <tr>\n",
              "      <th>6</th>\n",
              "      <td>NB</td>\n",
              "      <td>0.928731</td>\n",
              "    </tr>\n",
              "    <tr>\n",
              "      <th>7</th>\n",
              "      <td>NB</td>\n",
              "      <td>0.924276</td>\n",
              "    </tr>\n",
              "    <tr>\n",
              "      <th>8</th>\n",
              "      <td>NB</td>\n",
              "      <td>0.936154</td>\n",
              "    </tr>\n",
              "    <tr>\n",
              "      <th>9</th>\n",
              "      <td>NB</td>\n",
              "      <td>0.930215</td>\n",
              "    </tr>\n",
              "    <tr>\n",
              "      <th>0</th>\n",
              "      <td>RF</td>\n",
              "      <td>0.986637</td>\n",
              "    </tr>\n",
              "    <tr>\n",
              "      <th>1</th>\n",
              "      <td>RF</td>\n",
              "      <td>0.976986</td>\n",
              "    </tr>\n",
              "    <tr>\n",
              "      <th>2</th>\n",
              "      <td>RF</td>\n",
              "      <td>0.991091</td>\n",
              "    </tr>\n",
              "    <tr>\n",
              "      <th>3</th>\n",
              "      <td>RF</td>\n",
              "      <td>0.985895</td>\n",
              "    </tr>\n",
              "    <tr>\n",
              "      <th>4</th>\n",
              "      <td>RF</td>\n",
              "      <td>0.991091</td>\n",
              "    </tr>\n",
              "    <tr>\n",
              "      <th>5</th>\n",
              "      <td>RF</td>\n",
              "      <td>0.992576</td>\n",
              "    </tr>\n",
              "    <tr>\n",
              "      <th>6</th>\n",
              "      <td>RF</td>\n",
              "      <td>0.988122</td>\n",
              "    </tr>\n",
              "    <tr>\n",
              "      <th>7</th>\n",
              "      <td>RF</td>\n",
              "      <td>0.980698</td>\n",
              "    </tr>\n",
              "    <tr>\n",
              "      <th>8</th>\n",
              "      <td>RF</td>\n",
              "      <td>0.987379</td>\n",
              "    </tr>\n",
              "    <tr>\n",
              "      <th>9</th>\n",
              "      <td>RF</td>\n",
              "      <td>0.984410</td>\n",
              "    </tr>\n",
              "  </tbody>\n",
              "</table>\n",
              "</div>"
            ],
            "text/plain": [
              "  text  Category\n",
              "0   LR  0.983667\n",
              "1   LR  0.981440\n",
              "2   LR  0.986637\n",
              "3   LR  0.990349\n",
              "4   LR  0.983667\n",
              "5   LR  0.982925\n",
              "6   LR  0.984410\n",
              "7   LR  0.982925\n",
              "8   LR  0.990349\n",
              "9   LR  0.989607\n",
              "0   NB  0.930215\n",
              "1   NB  0.925019\n",
              "2   NB  0.944321\n",
              "3   NB  0.944321\n",
              "4   NB  0.933185\n",
              "5   NB  0.937639\n",
              "6   NB  0.928731\n",
              "7   NB  0.924276\n",
              "8   NB  0.936154\n",
              "9   NB  0.930215\n",
              "0   RF  0.986637\n",
              "1   RF  0.976986\n",
              "2   RF  0.991091\n",
              "3   RF  0.985895\n",
              "4   RF  0.991091\n",
              "5   RF  0.992576\n",
              "6   RF  0.988122\n",
              "7   RF  0.980698\n",
              "8   RF  0.987379\n",
              "9   RF  0.984410"
            ]
          },
          "metadata": {
            "tags": []
          },
          "execution_count": 121
        }
      ]
    },
    {
      "cell_type": "code",
      "metadata": {
        "id": "s7Y1JxmdAxZ-",
        "colab_type": "code",
        "colab": {
          "base_uri": "https://localhost:8080/",
          "height": 34
        },
        "outputId": "9edd13a7-c75d-47ec-8ad9-cef538b70b2e"
      },
      "source": [
        "from scipy.stats import mstats\n",
        "\n",
        "\n",
        "pval = mstats.kruskalwallis(nb['Category'],rf['Category'],lr['Category'])\n",
        "pval"
      ],
      "execution_count": null,
      "outputs": [
        {
          "output_type": "execute_result",
          "data": {
            "text/plain": [
              "KruskalResult(statistic=19.76162246489859, pvalue=5.114676911599564e-05)"
            ]
          },
          "metadata": {
            "tags": []
          },
          "execution_count": 122
        }
      ]
    },
    {
      "cell_type": "code",
      "metadata": {
        "id": "m8s8f_XBJcid",
        "colab_type": "code",
        "colab": {}
      },
      "source": [
        ""
      ],
      "execution_count": null,
      "outputs": []
    },
    {
      "cell_type": "code",
      "metadata": {
        "id": "yLhyrqKQvK-5",
        "colab_type": "code",
        "colab": {}
      },
      "source": [
        "d2.to_csv('tfidf1.csv')\n"
      ],
      "execution_count": null,
      "outputs": []
    },
    {
      "cell_type": "code",
      "metadata": {
        "id": "yT3lZsja-Lgo",
        "colab_type": "code",
        "colab": {}
      },
      "source": [
        ""
      ],
      "execution_count": null,
      "outputs": []
    },
    {
      "cell_type": "code",
      "metadata": {
        "id": "igIZUeZf_ABg",
        "colab_type": "code",
        "colab": {
          "base_uri": "https://localhost:8080/",
          "height": 34
        },
        "outputId": "4a418e73-94ff-48dd-eedc-11004e3cee51"
      },
      "source": [
        "p=cross_val_score(mnb,test_tfidf, y_test.values,cv=10)\n",
        "p[0]\n"
      ],
      "execution_count": null,
      "outputs": [
        {
          "output_type": "execute_result",
          "data": {
            "text/plain": [
              "0.9651076466221232"
            ]
          },
          "metadata": {
            "tags": []
          },
          "execution_count": 60
        }
      ]
    },
    {
      "cell_type": "code",
      "metadata": {
        "id": "9sL38yNzExKB",
        "colab_type": "code",
        "colab": {}
      },
      "source": [
        ""
      ],
      "execution_count": null,
      "outputs": []
    },
    {
      "cell_type": "code",
      "metadata": {
        "colab_type": "code",
        "id": "DjOFVqv-E4vv",
        "colab": {
          "base_uri": "https://localhost:8080/",
          "height": 71
        },
        "outputId": "4aabfbab-c3b9-41a7-aa7c-93da350858d3"
      },
      "source": [
        "p=cross_val_score(model,test_tfidf, y_test.values,cv=10)\n",
        "p\n"
      ],
      "execution_count": null,
      "outputs": [
        {
          "output_type": "stream",
          "text": [
            "[LibLinear][LibLinear][LibLinear][LibLinear][LibLinear][LibLinear][LibLinear][LibLinear][LibLinear][LibLinear]"
          ],
          "name": "stdout"
        },
        {
          "output_type": "execute_result",
          "data": {
            "text/plain": [
              "array([0.98663697, 0.98144024, 0.98663697, 0.99109131, 0.98737936,\n",
              "       0.98515219, 0.98144024, 0.97847068, 0.98812175, 0.98737936])"
            ]
          },
          "metadata": {
            "tags": []
          },
          "execution_count": 61
        }
      ]
    },
    {
      "cell_type": "code",
      "metadata": {
        "id": "7AusxF8kF5f4",
        "colab_type": "code",
        "colab": {
          "base_uri": "https://localhost:8080/",
          "height": 51
        },
        "outputId": "b269cd41-a829-4934-a00d-2af667655e4e"
      },
      "source": [
        "p=cross_val_score(clf,test_tfidf, y_test.values,cv=10)\n",
        "p\n"
      ],
      "execution_count": null,
      "outputs": [
        {
          "output_type": "execute_result",
          "data": {
            "text/plain": [
              "array([0.97698589, 0.97178916, 0.9762435 , 0.97401633, 0.97921307,\n",
              "       0.97921307, 0.97772829, 0.97178916, 0.98515219, 0.97995546])"
            ]
          },
          "metadata": {
            "tags": []
          },
          "execution_count": 62
        }
      ]
    },
    {
      "cell_type": "code",
      "metadata": {
        "id": "DvxXUTLdZ4Lw",
        "colab_type": "code",
        "colab": {}
      },
      "source": [
        "import bz2\n",
        "train_file = bz2.BZ2File('/content/drive/My Drive/train2.ft.txt.bz2')\n",
        "test_file = bz2.BZ2File('/content/drive/My Drive/test.ft.txt.bz2')"
      ],
      "execution_count": null,
      "outputs": []
    },
    {
      "cell_type": "code",
      "metadata": {
        "id": "hn1cP7uhZ56D",
        "colab_type": "code",
        "colab": {}
      },
      "source": [
        "test_file_lines = test_file.readlines()\n",
        "train_file_lines= train_file.readlines()"
      ],
      "execution_count": null,
      "outputs": []
    },
    {
      "cell_type": "code",
      "metadata": {
        "id": "hwlkJxUibHzb",
        "colab_type": "code",
        "colab": {}
      },
      "source": [
        "train_file_lines = [x.decode('utf-8') for x in train_file_lines]\n",
        "test_file_lines = [x.decode('utf-8') for x in test_file_lines]"
      ],
      "execution_count": null,
      "outputs": []
    },
    {
      "cell_type": "code",
      "metadata": {
        "id": "YVY5Luwna30o",
        "colab_type": "code",
        "colab": {}
      },
      "source": [
        "train_labels = [0 if x.split(' ')[0] == '__label__1' else 1 for x in train_file_lines]\n",
        "train_sentences = [x.split(' ', 1)[1][:-1].lower() for x in train_file_lines]\n",
        "\n",
        "for i in range(len(train_sentences)):\n",
        "    train_sentences[i] = re.sub('\\d','0',train_sentences[i])\n",
        "    \n",
        "test_labels = [0 if x.split(' ')[0] == '__label__1' else 1 for x in test_file_lines]\n",
        "test_sentences = [x.split(' ', 1)[1][:-1].lower() for x in test_file_lines]\n",
        "\n",
        "for i in range(len(test_sentences)):\n",
        "    test_sentences[i] = re.sub('\\d','0',test_sentences[i])\n",
        "                                                       \n",
        "for i in range(len(train_sentences)):\n",
        "    if 'www.' in train_sentences[i] or 'http:' in train_sentences[i] or 'https:' in train_sentences[i] or '.com' in train_sentences[i]:\n",
        "        train_sentences[i] = re.sub(r\"([^ ]+(?<=\\.[a-z]{3}))\", \"<url>\", train_sentences[i])\n",
        "        \n",
        "for i in range(len(test_sentences)):\n",
        "    if 'www.' in test_sentences[i] or 'http:' in test_sentences[i] or 'https:' in test_sentences[i] or '.com' in test_sentences[i]:\n",
        "        test_sentences[i] = re.sub(r\"([^ ]+(?<=\\.[a-z]{3}))\", \"<url>\", test_sentences[i])"
      ],
      "execution_count": null,
      "outputs": []
    },
    {
      "cell_type": "code",
      "metadata": {
        "id": "K7vdT-uecjBd",
        "colab_type": "code",
        "colab": {}
      },
      "source": [
        ""
      ],
      "execution_count": null,
      "outputs": []
    },
    {
      "cell_type": "code",
      "metadata": {
        "id": "nKZaQlSZ68Yd",
        "colab_type": "code",
        "colab": {}
      },
      "source": [
        "\n",
        "\n",
        "# Create train and test dataframes\n",
        "Na_train = {'text': train_sentences, 'Category': train_labels}\n",
        "df = pd.DataFrame(Na_train)\n",
        "\n",
        "Na_test = {'Sentence': test_sentences, 'Label': test_labels}\n",
        "Nav_test = pd.DataFrame(Na_test)\n",
        "\n",
        "\n",
        "\n",
        "#Nav_train = Nav_train.head()\n",
        "#Nav_test = Nav_test.head(100)"
      ],
      "execution_count": null,
      "outputs": []
    },
    {
      "cell_type": "code",
      "metadata": {
        "id": "mOQHOA9FexUH",
        "colab_type": "code",
        "colab": {}
      },
      "source": [
        "del Na_train ,Nav_test, test_sentences, train_sentences"
      ],
      "execution_count": null,
      "outputs": []
    },
    {
      "cell_type": "code",
      "metadata": {
        "id": "pAOEaM8akQZK",
        "colab_type": "code",
        "colab": {}
      },
      "source": [
        "df=df.sample(frac=0.3)"
      ],
      "execution_count": null,
      "outputs": []
    },
    {
      "cell_type": "code",
      "metadata": {
        "id": "FTG6qNdcnNvP",
        "colab_type": "code",
        "colab": {
          "base_uri": "https://localhost:8080/",
          "height": 204
        },
        "outputId": "788e8284-88a6-4c53-c6e1-135fea6af3bd"
      },
      "source": [
        "df.head()"
      ],
      "execution_count": null,
      "outputs": [
        {
          "output_type": "execute_result",
          "data": {
            "text/html": [
              "<div>\n",
              "<style scoped>\n",
              "    .dataframe tbody tr th:only-of-type {\n",
              "        vertical-align: middle;\n",
              "    }\n",
              "\n",
              "    .dataframe tbody tr th {\n",
              "        vertical-align: top;\n",
              "    }\n",
              "\n",
              "    .dataframe thead th {\n",
              "        text-align: right;\n",
              "    }\n",
              "</style>\n",
              "<table border=\"1\" class=\"dataframe\">\n",
              "  <thead>\n",
              "    <tr style=\"text-align: right;\">\n",
              "      <th></th>\n",
              "      <th>text</th>\n",
              "      <th>Category</th>\n",
              "      <th>text_final</th>\n",
              "    </tr>\n",
              "  </thead>\n",
              "  <tbody>\n",
              "    <tr>\n",
              "      <th>335067</th>\n",
              "      <td>simplistic and unrealistic: this book claims t...</td>\n",
              "      <td>0</td>\n",
              "      <td>simplistic unrealistic book claims teach reade...</td>\n",
              "    </tr>\n",
              "    <tr>\n",
              "      <th>622875</th>\n",
              "      <td>perfect for practical theory: theory &amp; harmony...</td>\n",
              "      <td>1</td>\n",
              "      <td>perfect practical theory theory harmony contem...</td>\n",
              "    </tr>\n",
              "    <tr>\n",
              "      <th>1788314</th>\n",
              "      <td>the best wwe book: this extremely interesting ...</td>\n",
              "      <td>1</td>\n",
              "      <td>best wwe book extremely interesting biography ...</td>\n",
              "    </tr>\n",
              "    <tr>\n",
              "      <th>1429567</th>\n",
              "      <td>ace of spades: possibly the greatest heavy met...</td>\n",
              "      <td>1</td>\n",
              "      <td>ace spades possibly greatest heavy metal album...</td>\n",
              "    </tr>\n",
              "    <tr>\n",
              "      <th>950532</th>\n",
              "      <td>if you're made of money - this one's for your:...</td>\n",
              "      <td>0</td>\n",
              "      <td>made money one distressed starlets wives milli...</td>\n",
              "    </tr>\n",
              "  </tbody>\n",
              "</table>\n",
              "</div>"
            ],
            "text/plain": [
              "                                                      text  ...                                         text_final\n",
              "335067   simplistic and unrealistic: this book claims t...  ...  simplistic unrealistic book claims teach reade...\n",
              "622875   perfect for practical theory: theory & harmony...  ...  perfect practical theory theory harmony contem...\n",
              "1788314  the best wwe book: this extremely interesting ...  ...  best wwe book extremely interesting biography ...\n",
              "1429567  ace of spades: possibly the greatest heavy met...  ...  ace spades possibly greatest heavy metal album...\n",
              "950532   if you're made of money - this one's for your:...  ...  made money one distressed starlets wives milli...\n",
              "\n",
              "[5 rows x 3 columns]"
            ]
          },
          "metadata": {
            "tags": []
          },
          "execution_count": 29
        }
      ]
    },
    {
      "cell_type": "code",
      "metadata": {
        "id": "z995cw88jt_G",
        "colab_type": "code",
        "colab": {
          "base_uri": "https://localhost:8080/",
          "height": 34
        },
        "outputId": "ee56896a-549e-40ce-de41-bc39d75e0499"
      },
      "source": [
        "from sklearn.feature_extraction.text import TfidfVectorizer\n",
        "tfidf = TfidfVectorizer(sublinear_tf=True, min_df=5, norm='l2', encoding='latin-1', ngram_range=(1, 1))\n",
        "features = tfidf.fit_transform(df.t).toarray()\n",
        "labels = df.category\n",
        "features.shape"
      ],
      "execution_count": null,
      "outputs": [
        {
          "output_type": "execute_result",
          "data": {
            "text/plain": [
              "(44898, 26865)"
            ]
          },
          "metadata": {
            "tags": []
          },
          "execution_count": 132
        }
      ]
    },
    {
      "cell_type": "code",
      "metadata": {
        "id": "fh2dMwhclt2d",
        "colab_type": "code",
        "colab": {
          "base_uri": "https://localhost:8080/",
          "height": 102
        },
        "outputId": "7156c860-db09-43a8-bfaa-d642516e963a"
      },
      "source": [
        "model.fit(features, labels)"
      ],
      "execution_count": null,
      "outputs": [
        {
          "output_type": "stream",
          "text": [
            "[LibLinear]"
          ],
          "name": "stdout"
        },
        {
          "output_type": "execute_result",
          "data": {
            "text/plain": [
              "LogisticRegression(C=5, class_weight=None, dual=False, fit_intercept=True,\n",
              "                   intercept_scaling=1, l1_ratio=None, max_iter=1000,\n",
              "                   multi_class='auto', n_jobs=None, penalty='l2',\n",
              "                   random_state=0, solver='liblinear', tol=0.0001, verbose=1,\n",
              "                   warm_start=False)"
            ]
          },
          "metadata": {
            "tags": []
          },
          "execution_count": 133
        }
      ]
    },
    {
      "cell_type": "code",
      "metadata": {
        "id": "SVlTRF_slz5Y",
        "colab_type": "code",
        "colab": {}
      },
      "source": [
        "  indices = np.argsort(abs(model.coef_))\n",
        "  f = np.array(tfidf.get_feature_names())[indices]"
      ],
      "execution_count": null,
      "outputs": []
    },
    {
      "cell_type": "code",
      "metadata": {
        "id": "CMvZdAn82gw3",
        "colab_type": "code",
        "colab": {
          "base_uri": "https://localhost:8080/",
          "height": 51
        },
        "outputId": "e3453f78-8b79-4dd6-afbd-a95d6c86a2df"
      },
      "source": [
        "f"
      ],
      "execution_count": null,
      "outputs": [
        {
          "output_type": "execute_result",
          "data": {
            "text/plain": [
              "array([['rejoind', 'vaunt', '43rd', ..., 'via', 'said', 'reuter']],\n",
              "      dtype='<U25')"
            ]
          },
          "metadata": {
            "tags": []
          },
          "execution_count": 136
        }
      ]
    },
    {
      "cell_type": "code",
      "metadata": {
        "id": "E2fO_ILFpEpw",
        "colab_type": "code",
        "colab": {
          "base_uri": "https://localhost:8080/",
          "height": 34
        },
        "outputId": "dbd041ec-078c-4dad-ee24-793430d2fc65"
      },
      "source": [
        "f.size"
      ],
      "execution_count": null,
      "outputs": [
        {
          "output_type": "execute_result",
          "data": {
            "text/plain": [
              "26865"
            ]
          },
          "metadata": {
            "tags": []
          },
          "execution_count": 137
        }
      ]
    },
    {
      "cell_type": "code",
      "metadata": {
        "id": "k39dvcrIz4rU",
        "colab_type": "code",
        "colab": {
          "base_uri": "https://localhost:8080/",
          "height": 34
        },
        "outputId": "6814ae1a-1262-425b-ad9d-ba5f089d812c"
      },
      "source": [
        "a=[26860,26861,26862,26863,26864]\n",
        "np.take(f, a)"
      ],
      "execution_count": null,
      "outputs": [
        {
          "output_type": "execute_result",
          "data": {
            "text/plain": [
              "array(['imag', 'read', 'via', 'said', 'reuter'], dtype='<U25')"
            ]
          },
          "metadata": {
            "tags": []
          },
          "execution_count": 139
        }
      ]
    },
    {
      "cell_type": "code",
      "metadata": {
        "id": "nE_RXlPzmJw2",
        "colab_type": "code",
        "colab": {}
      },
      "source": [
        "sorted_array=np.sort(abs(model.coef_))\n"
      ],
      "execution_count": null,
      "outputs": []
    },
    {
      "cell_type": "code",
      "metadata": {
        "id": "cI43znvrwIs3",
        "colab_type": "code",
        "colab": {
          "base_uri": "https://localhost:8080/",
          "height": 34
        },
        "outputId": "ffcf21aa-d852-40b1-aa99-c4c5e441a269"
      },
      "source": [
        "reverse_array"
      ],
      "execution_count": null,
      "outputs": [
        {
          "output_type": "execute_result",
          "data": {
            "text/plain": [
              "array([], shape=(0, 26865), dtype=float64)"
            ]
          },
          "metadata": {
            "tags": []
          },
          "execution_count": 89
        }
      ]
    }
  ]
}